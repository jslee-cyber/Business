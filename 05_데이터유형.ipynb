{
 "cells": [
  {
   "cell_type": "markdown",
   "metadata": {},
   "source": [
    "##### C431195 이준성 "
   ]
  },
  {
   "cell_type": "markdown",
   "metadata": {},
   "source": [
    "### 1. 데이터 유형(type)\n",
    "- 변수에 데이터 배정 후 변숫값과 자료형 출력"
   ]
  },
  {
   "cell_type": "code",
   "execution_count": 40,
   "metadata": {},
   "outputs": [
    {
     "name": "stdout",
     "output_type": "stream",
     "text": [
      "x_value = 12345\n",
      "type(x_value) = <class 'int'>\n"
     ]
    }
   ],
   "source": [
    "x_value = 12345\n",
    "print(f'{x_value = }\\n{type(x_value) = }')"
   ]
  },
  {
   "cell_type": "code",
   "execution_count": 41,
   "metadata": {},
   "outputs": [
    {
     "name": "stdout",
     "output_type": "stream",
     "text": [
      "x_str = 'abcde'\n",
      "type(x_str) = <class 'str'>\n"
     ]
    }
   ],
   "source": [
    "x_str = 'abcde'\n",
    "print(f'{x_str = }\\n{type(x_str) = }')"
   ]
  },
  {
   "cell_type": "code",
   "execution_count": 42,
   "metadata": {},
   "outputs": [
    {
     "name": "stdout",
     "output_type": "stream",
     "text": [
      "x_list = ['abcde', 12345]\n",
      "type(x_list) = <class 'list'>\n"
     ]
    }
   ],
   "source": [
    "x_list = [x_str, x_value]\n",
    "print(f'{x_list = }\\n{type(x_list) = }')"
   ]
  },
  {
   "cell_type": "code",
   "execution_count": 43,
   "metadata": {},
   "outputs": [
    {
     "name": "stdout",
     "output_type": "stream",
     "text": [
      "x_tuple = ('abcde', 12345)\n",
      "type(x_tuple) = <class 'tuple'>\n"
     ]
    }
   ],
   "source": [
    "x_tuple = (x_str, x_value)\n",
    "print(f'{x_tuple = }\\n{type(x_tuple) = }')"
   ]
  },
  {
   "cell_type": "code",
   "execution_count": 44,
   "metadata": {},
   "outputs": [
    {
     "name": "stdout",
     "output_type": "stream",
     "text": [
      "x_dict = {'name': 'Junsung Lee', 'id': 12345}\n",
      "type(x_dict) = <class 'dict'>\n"
     ]
    }
   ],
   "source": [
    "x_dict = {'name': 'Junsung Lee', 'id': 12345}\n",
    "print(f'{x_dict = }\\n{type(x_dict) = }')"
   ]
  },
  {
   "cell_type": "code",
   "execution_count": 45,
   "metadata": {},
   "outputs": [
    {
     "name": "stdout",
     "output_type": "stream",
     "text": [
      "x_none = None\n",
      "type(x_none) = <class 'NoneType'>\n"
     ]
    }
   ],
   "source": [
    "x_none = None\n",
    "print(f'{x_none = }\\n{type(x_none) = }')"
   ]
  },
  {
   "cell_type": "markdown",
   "metadata": {},
   "source": [
    "* 응용 및 추가학습"
   ]
  },
  {
   "cell_type": "code",
   "execution_count": null,
   "metadata": {},
   "outputs": [
    {
     "ename": "NameError",
     "evalue": "name 'C431195' is not defined",
     "output_type": "error",
     "traceback": [
      "\u001b[31m---------------------------------------------------------------------------\u001b[39m",
      "\u001b[31mNameError\u001b[39m                                 Traceback (most recent call last)",
      "\u001b[36mCell\u001b[39m\u001b[36m \u001b[39m\u001b[32mIn[74]\u001b[39m\u001b[32m, line 2\u001b[39m\n\u001b[32m      1\u001b[39m \u001b[38;5;66;03m# dict 자료형에 실제 학번 입력\u001b[39;00m\n\u001b[32m----> \u001b[39m\u001b[32m2\u001b[39m x_dict = {\u001b[33m'\u001b[39m\u001b[33mname\u001b[39m\u001b[33m'\u001b[39m: \u001b[33m'\u001b[39m\u001b[33mJunsung Lee\u001b[39m\u001b[33m'\u001b[39m, \u001b[33m'\u001b[39m\u001b[33mid\u001b[39m\u001b[33m'\u001b[39m: \u001b[43mC431195\u001b[49m}\n\u001b[32m      3\u001b[39m \u001b[38;5;28mprint\u001b[39m(\u001b[33mf\u001b[39m\u001b[33m'\u001b[39m\u001b[38;5;132;01m{\u001b[39;00mx_dict\u001b[38;5;250m \u001b[39m\u001b[38;5;132;01m= }\u001b[39;00m\u001b[38;5;130;01m\\n\u001b[39;00m\u001b[38;5;132;01m{\u001b[39;00m\u001b[38;5;28mtype\u001b[39m(x_dict)\u001b[38;5;250m \u001b[39m\u001b[38;5;132;01m= }\u001b[39;00m\u001b[33m'\u001b[39m)\n",
      "\u001b[31mNameError\u001b[39m: name 'C431195' is not defined"
     ]
    }
   ],
   "source": [
    "# dict 자료형에 실제 학번을 입력\n",
    "x_dict = {'name': 'Junsung Lee', 'id': C431195}\n",
    "print(f'{x_dict = }\\n{type(x_dict) = }')"
   ]
  },
  {
   "cell_type": "code",
   "execution_count": null,
   "metadata": {},
   "outputs": [
    {
     "name": "stdout",
     "output_type": "stream",
     "text": [
      "x_dict = {'name': 'Junsung Lee', 'id': 'C431195'}\n",
      "type(x_dict) = <class 'dict'>\n"
     ]
    }
   ],
   "source": [
    "# '' 없이 문자와 숫자를 혼용하여 작성하니 NameError 발생\n",
    "# 이번에는 실제 학번을 str 자료형으로 입력\n",
    "x_dict = {'name': 'Junsung Lee', 'id': 'C431195'}\n",
    "print(f'{x_dict = }\\n{type(x_dict) = }')"
   ]
  },
  {
   "cell_type": "code",
   "execution_count": null,
   "metadata": {},
   "outputs": [
    {
     "name": "stdout",
     "output_type": "stream",
     "text": [
      "x_set = {12345, 'abcde'}\n",
      "type(x_set) = <class 'set'>\n",
      "x_bool = True\n",
      "type(x_bool) = <class 'bool'>\n"
     ]
    }
   ],
   "source": [
    "# 집합(Set) 및 불린(Boolean) 자료형 테스트\n",
    "x_set = {x_str, x_value}\n",
    "print(f'{x_set = }\\n{type(x_set) = }')\n",
    "x_bool = True\n",
    "print(f'{x_bool = }\\n{type(x_bool) = }')"
   ]
  },
  {
   "cell_type": "code",
   "execution_count": 47,
   "metadata": {},
   "outputs": [
    {
     "name": "stdout",
     "output_type": "stream",
     "text": [
      "x_value_float = 123.45\n",
      "type(x_value_float) = <class 'float'>\n",
      "x_value_complex = (123.45+67.89j)\n",
      "type(x_value_complex) = <class 'complex'>\n"
     ]
    }
   ],
   "source": [
    "# 숫자(Number) 중 float 및 complex 자료형 테스트\n",
    "x_value_float = 123.45\n",
    "print(f'{x_value_float = }\\n{type(x_value_float) = }')\n",
    "x_value_complex = 123.45 + 67.89j\n",
    "print(f'{x_value_complex = }\\n{type(x_value_complex) = }')"
   ]
  },
  {
   "cell_type": "markdown",
   "metadata": {},
   "source": [
    "### 2. 객체의 속성과 메소드 \n",
    "- x_value의 속성과 메소드 출력"
   ]
  },
  {
   "cell_type": "code",
   "execution_count": 48,
   "metadata": {},
   "outputs": [
    {
     "name": "stdout",
     "output_type": "stream",
     "text": [
      "['__abs__', '__add__', '__and__', '__bool__', '__ceil__', '__class__', '__delattr__', '__dir__', '__divmod__', '__doc__', '__eq__', '__float__', '__floor__', '__floordiv__', '__format__', '__ge__', '__getattribute__', '__getnewargs__', '__getstate__', '__gt__', '__hash__', '__index__', '__init__', '__init_subclass__', '__int__', '__invert__', '__le__', '__lshift__', '__lt__', '__mod__', '__mul__', '__ne__', '__neg__', '__new__', '__or__', '__pos__', '__pow__', '__radd__', '__rand__', '__rdivmod__', '__reduce__', '__reduce_ex__', '__repr__', '__rfloordiv__', '__rlshift__', '__rmod__', '__rmul__', '__ror__', '__round__', '__rpow__', '__rrshift__', '__rshift__', '__rsub__', '__rtruediv__', '__rxor__', '__setattr__', '__sizeof__', '__str__', '__sub__', '__subclasshook__', '__truediv__', '__trunc__', '__xor__', 'as_integer_ratio', 'bit_count', 'bit_length', 'conjugate', 'denominator', 'from_bytes', 'imag', 'is_integer', 'numerator', 'real', 'to_bytes']\n"
     ]
    }
   ],
   "source": [
    "# 속성과 메소드\n",
    "print(dir(x_value))"
   ]
  },
  {
   "cell_type": "code",
   "execution_count": 49,
   "metadata": {},
   "outputs": [
    {
     "name": "stdout",
     "output_type": "stream",
     "text": [
      "x_value.real = 12345\n",
      "x_value.bit_length() = 14\n"
     ]
    }
   ],
   "source": [
    "# 속성(실수부)\n",
    "print(f'{x_value.real = }')\n",
    "# 메소드(비트 수)\n",
    "print(f'{x_value.bit_length() = }')"
   ]
  },
  {
   "cell_type": "markdown",
   "metadata": {},
   "source": [
    "* 응용 및 추가학습"
   ]
  },
  {
   "cell_type": "code",
   "execution_count": 50,
   "metadata": {},
   "outputs": [
    {
     "name": "stdout",
     "output_type": "stream",
     "text": [
      "['__add__', '__class__', '__contains__', '__delattr__', '__dir__', '__doc__', '__eq__', '__format__', '__ge__', '__getattribute__', '__getitem__', '__getnewargs__', '__getstate__', '__gt__', '__hash__', '__init__', '__init_subclass__', '__iter__', '__le__', '__len__', '__lt__', '__mod__', '__mul__', '__ne__', '__new__', '__reduce__', '__reduce_ex__', '__repr__', '__rmod__', '__rmul__', '__setattr__', '__sizeof__', '__str__', '__subclasshook__', 'capitalize', 'casefold', 'center', 'count', 'encode', 'endswith', 'expandtabs', 'find', 'format', 'format_map', 'index', 'isalnum', 'isalpha', 'isascii', 'isdecimal', 'isdigit', 'isidentifier', 'islower', 'isnumeric', 'isprintable', 'isspace', 'istitle', 'isupper', 'join', 'ljust', 'lower', 'lstrip', 'maketrans', 'partition', 'removeprefix', 'removesuffix', 'replace', 'rfind', 'rindex', 'rjust', 'rpartition', 'rsplit', 'rstrip', 'split', 'splitlines', 'startswith', 'strip', 'swapcase', 'title', 'translate', 'upper', 'zfill']\n"
     ]
    }
   ],
   "source": [
    "# x_str의 속성 및 메소드 출력\n",
    "print(dir(x_str))"
   ]
  },
  {
   "cell_type": "code",
   "execution_count": 51,
   "metadata": {},
   "outputs": [
    {
     "name": "stdout",
     "output_type": "stream",
     "text": [
      "x_str.title() = 'Abcde'\n"
     ]
    }
   ],
   "source": [
    "# x_str의 메소드(title) 출력\n",
    "print(f'{x_str.title() = }')\n"
   ]
  },
  {
   "cell_type": "markdown",
   "metadata": {},
   "source": [
    "### 3. mutable / immutable 자료형\n",
    "- 변수에 각 자료형 배정 후 원소 바꿔보기"
   ]
  },
  {
   "cell_type": "markdown",
   "metadata": {},
   "source": [
    "##### 1. mutable(list, dict) 자료형은 원소 수정이 가능하다."
   ]
  },
  {
   "cell_type": "code",
   "execution_count": 54,
   "metadata": {},
   "outputs": [
    {
     "name": "stdout",
     "output_type": "stream",
     "text": [
      "Before: x_list = ['abcde', 12345]\n",
      "After ; x_list = ['abcde', 'fgihj']\n"
     ]
    }
   ],
   "source": [
    "x_list = ['abcde', 12345]\n",
    "# 원소 변경 전 변숫값 출력\n",
    "print(f'Before: {x_list = }')\n",
    "# 인덱스 1 원소를 'fghij'로 변경\n",
    "x_list[1] = 'fgihj'\n",
    "# 원소 변경 후 변숫값 출력\n",
    "print(f'After ; {x_list = }')"
   ]
  },
  {
   "cell_type": "code",
   "execution_count": 55,
   "metadata": {},
   "outputs": [
    {
     "name": "stdout",
     "output_type": "stream",
     "text": [
      "Before: x_dict = {'name': 'Junsung Lee', 'id': 12345}\n",
      "After ; x_dict = {'name': 'Junsung', 'id': 12345}\n"
     ]
    }
   ],
   "source": [
    "x_dict = {'name': 'Junsung Lee', 'id': 12345}\n",
    "# 원소 변경 전 변숫값 출력\n",
    "print(f'Before: {x_dict = }')\n",
    "# 키 'name'의 값을 'Junsung'으로 변경\n",
    "x_dict['name'] = 'Junsung'\n",
    "# 원소 변경 후 변숫값 출력\n",
    "print(f'After ; {x_dict = }')"
   ]
  },
  {
   "cell_type": "markdown",
   "metadata": {},
   "source": [
    "##### 2. immutable(str, tuple) 자료형은 원소 수정이 불가능하다."
   ]
  },
  {
   "cell_type": "code",
   "execution_count": null,
   "metadata": {},
   "outputs": [
    {
     "name": "stdout",
     "output_type": "stream",
     "text": [
      "Before: x_str = 'abcde'\n",
      "Error: 'str' object does not support item assignment\n",
      "After : x_str = 'abcde'\n"
     ]
    }
   ],
   "source": [
    "x_str = 'abcde'\n",
    "# 원소 변경 전 변숫값 출력\n",
    "print(f'Before: {x_str = }')\n",
    "# try 블록 안의 코드를 실행하다가 에러가 발생하면 except 블록의 코드를 실행\n",
    "try:\n",
    "    # 인덱스 1 원소를 '2'로 변경. string은 immutable 자료형이므로 에러 발생\n",
    "    x_str[1] = '2'\n",
    "except TypeError as e: # 에러 발생 시 에러 메시지를 e에 할당\n",
    "    # 에러 메시지 출력\n",
    "    print(f'Error: {e}')\n",
    "# 원소 변경 후 변숫값 출력\n",
    "print(f'After : {x_str = }')"
   ]
  },
  {
   "cell_type": "code",
   "execution_count": 57,
   "metadata": {},
   "outputs": [
    {
     "name": "stdout",
     "output_type": "stream",
     "text": [
      "Before: x_tuple = ('abcde', 12345)\n",
      "Error: 'tuple' object does not support item assignment\n",
      "After : x_tuple = ('abcde', 12345)\n"
     ]
    }
   ],
   "source": [
    "x_tuple = ('abcde', 12345)\n",
    "# 원소 변경 전 변숫값 출력\n",
    "print(f'Before: {x_tuple = }')\n",
    "# try 블록 안의 코드를 실행하다가 에러가 발생하면 except 블록의 코드를 실행\n",
    "try:\n",
    "    # 인덱스 1 원소를 'fghij'로 변경. tuple은 immutable 자료형이므로 에러 발생\n",
    "    x_tuple[1] = 'fghij'\n",
    "except TypeError as e: # 에러 발생 시 에러 메시지를 e에 할당\n",
    "    # 에러 메시지 출력\n",
    "    print(f'Error: {e}')\n",
    "# 원소 변경 후 변숫값 출력\n",
    "print(f'After : {x_tuple = }')"
   ]
  },
  {
   "cell_type": "markdown",
   "metadata": {},
   "source": [
    "* 응용 및 추가학습"
   ]
  },
  {
   "cell_type": "code",
   "execution_count": null,
   "metadata": {},
   "outputs": [
    {
     "name": "stdout",
     "output_type": "stream",
     "text": [
      "Before : x_list = [123.45, True, 'Hello world']\n",
      "After : x_list = [123.45, True, 'Hello Python']\n"
     ]
    }
   ],
   "source": [
    "# list(mutable) 자료형 응용 테스트\n",
    "x_list = [123.45, True, 'Hello world']\n",
    "print(f'Before : {x_list = }')\n",
    "# 인덱스 2 원소를 'Hello Python'으로 변경\n",
    "x_list[2] = 'Hello Python'\n",
    "print(f'After : {x_list = }')"
   ]
  },
  {
   "cell_type": "code",
   "execution_count": null,
   "metadata": {},
   "outputs": [
    {
     "name": "stdout",
     "output_type": "stream",
     "text": [
      "Before : x_tuple = (123.45, True, 'Hello world')\n",
      "Error: 'tuple' object does not support item assignment\n",
      "After : x_tuple = (123.45, True, 'Hello world')\n"
     ]
    }
   ],
   "source": [
    "# tuple(immutable) 자료형 응용 테스트\n",
    "x_tuple = (123.45, True, 'Hello world')\n",
    "print(f'Before : {x_tuple = }')\n",
    "# 인덱스 2 원소를 'Hello Python'으로 변경 시도\n",
    "try:\n",
    "    x_tuple[2] = 'Hello Python'\n",
    "except TypeError as e:\n",
    "    print(f'Error: {e}')\n",
    "print(f'After : {x_tuple = }')"
   ]
  },
  {
   "cell_type": "markdown",
   "metadata": {},
   "source": [
    "### 4. 자료형 변환\n",
    "- 변수에 각 자료형 배정 후 다른 자료형으로 변환"
   ]
  },
  {
   "cell_type": "markdown",
   "metadata": {},
   "source": [
    "##### 1. 단일 자료형 (int, float, str 등)"
   ]
  },
  {
   "cell_type": "code",
   "execution_count": 90,
   "metadata": {},
   "outputs": [
    {
     "name": "stdout",
     "output_type": "stream",
     "text": [
      "12345는 <class 'int'>\n",
      "------------------------------\n",
      "12345.0는 <class 'float'>\n",
      "------------------------------\n",
      "12345는 <class 'str'>\n",
      "------------------------------\n",
      "True는 <class 'bool'>\n"
     ]
    }
   ],
   "source": [
    "# var_x에 int 객체 할당\n",
    "var_x = 12345\n",
    "print(f'{var_x}는 {type(var_x)}', end='\\n'+'-'*30+'\\n')\n",
    "# int를 float로 변환하여 var_y에 할당\n",
    "var_y = float(var_x)\n",
    "print(f'{var_y}는 {type(var_y)}', end='\\n'+'-'*30+'\\n')\n",
    "# float를 str로 변환하여 var_y에 할당\n",
    "var_y = str(var_x)\n",
    "print(f'{var_y}는 {type(var_y)}', end='\\n'+'-'*30+'\\n')\n",
    "# str을 bool로 변환하여 var_y에 할당 (정수 12345는 0이 아니므로 True)\n",
    "var_y = bool(var_x)\n",
    "print(f'{var_y}는 {type(var_y)}')"
   ]
  },
  {
   "cell_type": "code",
   "execution_count": null,
   "metadata": {},
   "outputs": [
    {
     "name": "stdout",
     "output_type": "stream",
     "text": [
      "range(-10, 0, 2)는 <class 'range'>\n",
      "------------------------------\n",
      "[-10, -8, -6, -4, -2]는 <class 'list'>\n",
      "------------------------------\n",
      "(-10, -8, -6, -4, -2)는 <class 'tuple'>\n",
      "------------------------------\n",
      "{-10, -8, -6, -4, -2}는 <class 'set'>\n"
     ]
    }
   ],
   "source": [
    "# var_x에 -10부터 0전까지 2씩 증가하는 range 객체 할당\n",
    "var_x = range(-10, 0, 2)\n",
    "print(f'{var_x}는 {type(var_x)}', end='\\n'+'-'*30+'\\n')\n",
    "# range를 list로 변환하여 var_y에 할당\n",
    "var_y = list(var_x)\n",
    "print(f'{var_y}는 {type(var_y)}', end='\\n'+'-'*30+'\\n')\n",
    "# range를 tuple로 변환하여 var_y에 할당\n",
    "var_y = tuple(var_x)\n",
    "print(f'{var_y}는 {type(var_y)}', end='\\n'+'-'*30+'\\n')\n",
    "# range를 set으로 변환하여 var_y에 할당\n",
    "var_y = set(var_x)\n",
    "print(f'{var_y}는 {type(var_y)}')\n"
   ]
  },
  {
   "cell_type": "markdown",
   "metadata": {},
   "source": [
    "##### 2. iterable 자료형 (반복 가능한 자료형 - range, list, tuple, dict, set, str 등)"
   ]
  },
  {
   "cell_type": "code",
   "execution_count": 89,
   "metadata": {},
   "outputs": [
    {
     "name": "stdout",
     "output_type": "stream",
     "text": [
      "abcdab는 <class 'str'>\n",
      "------------------------------\n",
      "['a', 'b', 'c', 'd', 'a', 'b']는 <class 'list'>\n",
      "------------------------------\n",
      "('a', 'b', 'c', 'd', 'a', 'b')는 <class 'tuple'>\n",
      "------------------------------\n",
      "{'b', 'c', 'd', 'a'}는 <class 'set'>\n"
     ]
    }
   ],
   "source": [
    "# var_x에 str 객체 할당 (str은 iterable 자료형)\n",
    "var_x = 'abcdab'\n",
    "print(f'{var_x}는 {type(var_x)}', end='\\n'+'-'*30+'\\n')\n",
    "# var_x를 list로 변환하여 var_y에 할당\n",
    "var_y = list(var_x)\n",
    "print(f'{var_y}는 {type(var_y)}', end='\\n'+'-'*30+'\\n')\n",
    "# var_x를 tuple로 변환하여 var_y에 할당\n",
    "var_y = tuple(var_x)\n",
    "print(f'{var_y}는 {type(var_y)}', end='\\n'+'-'*30+'\\n')\n",
    "# var_x를 set로 변환하여 var_y에 할당 (집합은 중복을 허용하지 않으므로 'abcd'만 남음)\n",
    "var_y = set(var_x)\n",
    "print(f'{var_y}는 {type(var_y)}')\n"
   ]
  },
  {
   "cell_type": "markdown",
   "metadata": {},
   "source": [
    "* 응용 및 추가학습"
   ]
  },
  {
   "cell_type": "code",
   "execution_count": 88,
   "metadata": {},
   "outputs": [
    {
     "name": "stdout",
     "output_type": "stream",
     "text": [
      "range(-5, 0)는 <class 'range'>\n",
      "------------------------------\n",
      "[-5, -4, -3, -2, -1]는 <class 'list'>\n"
     ]
    }
   ],
   "source": [
    "# -5, -4, -3, -2, -1이 반환되는 range 함수 생성 테스트\n",
    "var_x = range(-5, 0)\n",
    "print(f'{var_x}는 {type(var_x)}', end='\\n'+'-'*30+'\\n')\n",
    "# 확인을 위해 range를 list로 변환하여 var_y에 할당\n",
    "var_y = list(var_x)\n",
    "print(f'{var_y}는 {type(var_y)}')"
   ]
  },
  {
   "cell_type": "code",
   "execution_count": 87,
   "metadata": {},
   "outputs": [
    {
     "name": "stdout",
     "output_type": "stream",
     "text": [
      "{'이름': '이준성', '학번': 'C431195'}는 <class 'dict'>\n",
      "------------------------------\n",
      "['이름', '학번']는 <class 'list'>\n"
     ]
    }
   ],
   "source": [
    "# dict 자료형을 list로 변환하는 테스트\n",
    "var_x = {'이름': '이준성', '학번': 'C431195'}\n",
    "print(f'{var_x}는 {type(var_x)}', end='\\n'+'-'*30+'\\n')\n",
    "# dict 자료형을 list로 변환하여 var_y에 할당\n",
    "var_y = list(var_x)\n",
    "print(f'{var_y}는 {type(var_y)}')\n",
    "# 변환 시 key만 남고 value는 사라짐을 확인 가능"
   ]
  }
 ],
 "metadata": {
  "kernelspec": {
   "display_name": "base",
   "language": "python",
   "name": "python3"
  },
  "language_info": {
   "codemirror_mode": {
    "name": "ipython",
    "version": 3
   },
   "file_extension": ".py",
   "mimetype": "text/x-python",
   "name": "python",
   "nbconvert_exporter": "python",
   "pygments_lexer": "ipython3",
   "version": "3.12.9"
  }
 },
 "nbformat": 4,
 "nbformat_minor": 2
}
