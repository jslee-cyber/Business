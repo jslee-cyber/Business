{
 "cells": [
  {
   "cell_type": "markdown",
   "metadata": {},
   "source": [
    "#### C431195 이준성"
   ]
  },
  {
   "cell_type": "markdown",
   "metadata": {},
   "source": [
    "## 1. 분기문 (branch)\n",
    "- if, if-else, if-elif-else문 "
   ]
  },
  {
   "cell_type": "code",
   "execution_count": null,
   "metadata": {},
   "outputs": [
    {
     "name": "stdout",
     "output_type": "stream",
     "text": [
      "조건이 참입니다.\n",
      "조건문이 종료되었습니다.\n"
     ]
    }
   ],
   "source": [
    "if True:  # 조건식 자체가 True이므로 반드시 참\n",
    "    print('조건이 참입니다.')\n",
    "print('조건문이 종료되었습니다.')  # 들여쓰기가 없으므로 if 문장 범위가 아님"
   ]
  },
  {
   "cell_type": "code",
   "execution_count": null,
   "metadata": {},
   "outputs": [
    {
     "name": "stdout",
     "output_type": "stream",
     "text": [
      "조건문이 종료되었습니다.\n"
     ]
    }
   ],
   "source": [
    "if False:  # 조건식 자체가 False이므로 반드시 거짓\n",
    "    print('조건이 참입니다.')\n",
    "print('조건문이 종료되었습니다.')  # 들여쓰기가 없으므로 if 문장 범위가 아님"
   ]
  },
  {
   "cell_type": "code",
   "execution_count": 3,
   "metadata": {},
   "outputs": [
    {
     "name": "stdout",
     "output_type": "stream",
     "text": [
      "걸어간다.\n"
     ]
    }
   ],
   "source": [
    "money = 100\n",
    "if money <= 500:\n",
    "    print('걸어간다.')"
   ]
  },
  {
   "cell_type": "code",
   "execution_count": 5,
   "metadata": {},
   "outputs": [
    {
     "name": "stdout",
     "output_type": "stream",
     "text": [
      "택시탄다.\n"
     ]
    }
   ],
   "source": [
    "money = 1000\n",
    "if money <= 500:\n",
    "    print('걸어간다.')\n",
    "else:\n",
    "    print('택시탄다.')    "
   ]
  },
  {
   "cell_type": "code",
   "execution_count": null,
   "metadata": {},
   "outputs": [
    {
     "name": "stdout",
     "output_type": "stream",
     "text": [
      "버스탄다.\n"
     ]
    }
   ],
   "source": [
    "money = 1000\n",
    "if money <= 500:\n",
    "    print('걸어간다.')\n",
    "elif money <= 2500:\n",
    "    print('버스탄다.')\n",
    "else:\n",
    "    print('택시탄다.')"
   ]
  },
  {
   "cell_type": "markdown",
   "metadata": {},
   "source": [
    "### 응용 및 추가학습"
   ]
  },
  {
   "cell_type": "code",
   "execution_count": null,
   "metadata": {},
   "outputs": [
    {
     "name": "stdout",
     "output_type": "stream",
     "text": [
      "걸어간다.\n",
      "걸어간다.\n"
     ]
    }
   ],
   "source": [
    "# if와 elif의 관계 테스트\n",
    "money = 1000\n",
    "if money <= 5000:  # if문 숫자 > elif문 숫자\n",
    "    print('걸어간다.')\n",
    "elif money <= 2500:\n",
    "    print('버스탄다.')\n",
    "else:\n",
    "    print('택시탄다.')\n",
    "\n",
    "money = 1000\n",
    "if money <= 2500:  # if문 숫자 < elif문 숫자\n",
    "    print('걸어간다.')\n",
    "elif money <= 5000:\n",
    "    print('버스탄다.')\n",
    "else:\n",
    "    print('택시탄다.')"
   ]
  },
  {
   "cell_type": "markdown",
   "metadata": {},
   "source": [
    "- 배운점: elif는 앞 조건이 거짓일 때만 검사됨"
   ]
  },
  {
   "cell_type": "code",
   "execution_count": null,
   "metadata": {},
   "outputs": [
    {
     "name": "stdout",
     "output_type": "stream",
     "text": [
      "buy\n"
     ]
    }
   ],
   "source": [
    "# if-else문 한 줄에 작성하기\n",
    "money = 1000\n",
    "action = \"buy\" if money >= 500 else \"don't buy\"\n",
    "try: \n",
    "    print(action)  # 예상: buy\n",
    "except: pass"
   ]
  },
  {
   "cell_type": "markdown",
   "metadata": {},
   "source": [
    "## 2. 반복문 (loop)\n",
    "- for, while문 "
   ]
  },
  {
   "cell_type": "code",
   "execution_count": null,
   "metadata": {},
   "outputs": [
    {
     "name": "stdout",
     "output_type": "stream",
     "text": [
      "n= 1\n",
      "n= 2\n",
      "n= 3\n",
      "n= 4\n",
      "n= 5\n"
     ]
    }
   ],
   "source": [
    "n = 0  \n",
    "while n < 5:  # 조건식이 참인 동안 아래 코드를 반복 실행\n",
    "    n = n+1  # n이 5가 되면 while문을 빠져나옴(종료 조건)\n",
    "    print(\"n=\", n)"
   ]
  },
  {
   "cell_type": "code",
   "execution_count": null,
   "metadata": {},
   "outputs": [
    {
     "name": "stdout",
     "output_type": "stream",
     "text": [
      "n= 0\n",
      "n= 1\n",
      "n= 2\n",
      "n= 3\n",
      "n= 4\n",
      "n= 5\n"
     ]
    }
   ],
   "source": [
    "for n in range(0,6):  # iterable 객체의 원소를 순차적으로 n에 할당하며 코드블럭 반복수행\n",
    "    print(\"n=\", n)"
   ]
  },
  {
   "cell_type": "code",
   "execution_count": null,
   "metadata": {},
   "outputs": [
    {
     "name": "stdout",
     "output_type": "stream",
     "text": [
      "item = 1\n",
      "item = 2\n",
      "item = 3\n",
      "item = 4\n",
      "item = 5\n"
     ]
    }
   ],
   "source": [
    "x_list = [1,2,3,4,5] \n",
    "for item in x_list:\n",
    "    print(f'{item = }')"
   ]
  },
  {
   "cell_type": "code",
   "execution_count": null,
   "metadata": {},
   "outputs": [
    {
     "name": "stdout",
     "output_type": "stream",
     "text": [
      "<built-in function len>(x) = 5\n",
      "<built-in function max>(x) = 50\n",
      "<built-in function sum>(x) = 150\n"
     ]
    }
   ],
   "source": [
    "x = [10,20,30,40,50]  \n",
    "for method in [len, max, sum]:  # 내장함수도 iterable 객체로 사용 가능\n",
    "    print(f'{method}(x) = {method(x)}')  # method(x): 각 내장함수가 x에 적용된 결과"
   ]
  },
  {
   "cell_type": "code",
   "execution_count": null,
   "metadata": {},
   "outputs": [
    {
     "name": "stdout",
     "output_type": "stream",
     "text": [
      "item = (0, 'a')\n",
      "item = (1, 'b')\n",
      "item = (2, 'c')\n",
      "item = (3, 'd')\n",
      "item = (4, 'e')\n"
     ]
    }
   ],
   "source": [
    "# iterable 객체에 enumerate 함수 적용(인덱스와 list의 원소의 tuple 생성)\n",
    "for item in enumerate(['a','b','c','d','e']):  \n",
    "    print(f'{item = }')"
   ]
  },
  {
   "cell_type": "code",
   "execution_count": null,
   "metadata": {},
   "outputs": [
    {
     "name": "stdout",
     "output_type": "stream",
     "text": [
      "i = 0, item = 'a'\n",
      "i = 1, item = 'b'\n",
      "i = 2, item = 'c'\n",
      "i = 3, item = 'd'\n",
      "i = 4, item = 'e'\n"
     ]
    }
   ],
   "source": [
    "for i, item in enumerate(['a','b','c','d','e']):  # 인덱스와 list의 원소를 각각 i, item에 할당\n",
    "    print(f'{i = }, {item = }')"
   ]
  },
  {
   "cell_type": "code",
   "execution_count": 15,
   "metadata": {},
   "outputs": [
    {
     "data": {
      "text/plain": [
       "<zip at 0x103ca6bc0>"
      ]
     },
     "execution_count": 15,
     "metadata": {},
     "output_type": "execute_result"
    }
   ],
   "source": [
    "# zip 함수: 둘 이상의 iterable 객체를 인덱스 별로 묶어 zip 객체로 변환\n",
    "x_list = [1,2,3,4,5]\n",
    "y_tuple = ('a','b','c','d','e')\n",
    "z_str = 'ABCDE'\n",
    "zip(x_list, y_tuple, z_str)"
   ]
  },
  {
   "cell_type": "code",
   "execution_count": 14,
   "metadata": {},
   "outputs": [
    {
     "data": {
      "text/plain": [
       "[(1, 'a', 'A'), (2, 'b', 'B'), (3, 'c', 'C'), (4, 'd', 'D'), (5, 'e', 'E')]"
      ]
     },
     "execution_count": 14,
     "metadata": {},
     "output_type": "execute_result"
    }
   ],
   "source": [
    "# zip 객체를 list로 변환\n",
    "list(zip(x_list, y_tuple, z_str))"
   ]
  },
  {
   "cell_type": "code",
   "execution_count": null,
   "metadata": {},
   "outputs": [
    {
     "name": "stdout",
     "output_type": "stream",
     "text": [
      "x = 1, y = 'a', z = 'A'\n",
      "x = 2, y = 'b', z = 'B'\n",
      "x = 3, y = 'c', z = 'C'\n",
      "x = 4, y = 'd', z = 'D'\n",
      "x = 5, y = 'e', z = 'E'\n"
     ]
    }
   ],
   "source": [
    "# zip 객체를 for문으로 출력\n",
    "for x,y,z in zip(x_list, y_tuple, z_str):\n",
    "    print(f'{x = }, {y = }, {z = }')"
   ]
  },
  {
   "cell_type": "code",
   "execution_count": null,
   "metadata": {},
   "outputs": [
    {
     "name": "stdout",
     "output_type": "stream",
     "text": [
      "i = 0, x = 1, y = 'a', z = 'A'\n",
      "i = 1, x = 2, y = 'b', z = 'B'\n",
      "i = 2, x = 3, y = 'c', z = 'C'\n",
      "i = 3, x = 4, y = 'd', z = 'D'\n",
      "i = 4, x = 5, y = 'e', z = 'E'\n"
     ]
    }
   ],
   "source": [
    "# enumerate, zip 함수의 동시 사용\n",
    "for i, (x, y, z) in enumerate(zip(x_list, y_tuple, z_str)):\n",
    "    print(f'{i = }, {x = }, {y = }, {z = }')"
   ]
  },
  {
   "cell_type": "markdown",
   "metadata": {},
   "source": [
    "### 응용 및 추가학습"
   ]
  },
  {
   "cell_type": "code",
   "execution_count": 22,
   "metadata": {},
   "outputs": [
    {
     "name": "stdout",
     "output_type": "stream",
     "text": [
      "n= 6\n",
      "n= 8\n",
      "n= 10\n",
      "n= 12\n",
      "n= 14\n",
      "----------\n",
      "m= 6\n",
      "m= 8\n",
      "m= 10\n",
      "m= 12\n",
      "m= 14\n"
     ]
    }
   ],
   "source": [
    "# 6,8,10,12,14 출력하기\n",
    "n = 4 \n",
    "while n <= 12: # while문 이용\n",
    "    n = n+2 \n",
    "    print(\"n=\", n)\n",
    "\n",
    "print('-' * 10)\n",
    "\n",
    "for m in range(6,15,2): # for문 이용\n",
    "    print(\"m=\", m) "
   ]
  },
  {
   "cell_type": "code",
   "execution_count": null,
   "metadata": {},
   "outputs": [
    {
     "name": "stdout",
     "output_type": "stream",
     "text": [
      "i = 0, item = 0\n",
      "i = 1, item = 1\n",
      "i = 2, item = 2\n",
      "i = 3, item = 3\n",
      "i = 4, item = 4\n",
      "i = 5, item = 5\n",
      "----------\n",
      "i = 0, item = 'H'\n",
      "i = 1, item = 'e'\n",
      "i = 2, item = 'l'\n",
      "i = 3, item = 'l'\n",
      "i = 4, item = 'o'\n"
     ]
    }
   ],
   "source": [
    "# enumerate 함수의 다른 자료형 테스트\n",
    "for i, item in enumerate(range(0,6)): # range 객체 \n",
    "    print(f'{i = }, {item = }')\n",
    "\n",
    "print('-'*10)\n",
    "\n",
    "for i, item in enumerate('Hello'): # str 객체 \n",
    "    print(f'{i = }, {item = }')"
   ]
  },
  {
   "cell_type": "code",
   "execution_count": null,
   "metadata": {},
   "outputs": [
    {
     "name": "stdout",
     "output_type": "stream",
     "text": [
      "item = (0, (1, 'a', 'A'))\n",
      "item = (1, (2, 'b', 'B'))\n",
      "item = (2, (3, 'c', 'C'))\n"
     ]
    }
   ],
   "source": [
    "# zip 함수 응용 테스트(객체별 인덱스 개수가 다른 경우)\n",
    "list1 = [1,2,3,4]\n",
    "tuple1 = ('a','b','c','d','e')\n",
    "str1 = 'ABC'\n",
    "zip(list1, tuple1, str1)\n",
    "\n",
    "for item in enumerate(zip(list1, tuple1, str1)): # 예상: 인덱스 2까지만 생성됨\n",
    "    print(f'{item = }')"
   ]
  },
  {
   "cell_type": "markdown",
   "metadata": {},
   "source": [
    "## 3. 제어문의 통제\n",
    "- break, continue, pass, exit "
   ]
  },
  {
   "cell_type": "code",
   "execution_count": null,
   "metadata": {},
   "outputs": [
    {
     "name": "stdout",
     "output_type": "stream",
     "text": [
      "i = 0, item = 'a'\n",
      "i = 1, item = 'b'\n"
     ]
    }
   ],
   "source": [
    "for i, item in enumerate(['a','b','c','d','e']):\n",
    "    if i == 2:\n",
    "        break  # 반복문 종류 및 다음 코드로 진행\n",
    "    print(f'{i = }, {item = }')"
   ]
  },
  {
   "cell_type": "code",
   "execution_count": null,
   "metadata": {},
   "outputs": [
    {
     "name": "stdout",
     "output_type": "stream",
     "text": [
      "i = 0, item = 'a'\n",
      "i = 1, item = 'b'\n",
      "i = 3, item = 'd'\n",
      "i = 4, item = 'e'\n"
     ]
    }
   ],
   "source": [
    "for i, item in enumerate(['a','b','c','d','e']):\n",
    "    if i == 2:\n",
    "        continue  # 해당 반복을 건너뛰고 다음 반복으로 넘어감\n",
    "    print(f'{i = }, {item = }')"
   ]
  },
  {
   "cell_type": "code",
   "execution_count": null,
   "metadata": {},
   "outputs": [
    {
     "name": "stdout",
     "output_type": "stream",
     "text": [
      "i = 0, item = 'a'\n",
      "i = 1, item = 'b'\n",
      "i = 2, item = 'c'\n",
      "i = 3, item = 'd'\n",
      "i = 4, item = 'e'\n"
     ]
    }
   ],
   "source": [
    "for i, item in enumerate(['a','b','c','d','e']):\n",
    "    if i == 2:\n",
    "        pass  # 에러를 피하기 위해 빈 코드블럭 채우기\n",
    "    print(f'{i = }, {item = }')  # 영향 없이 실행됨"
   ]
  },
  {
   "cell_type": "code",
   "execution_count": null,
   "metadata": {},
   "outputs": [
    {
     "name": "stdout",
     "output_type": "stream",
     "text": [
      "i = 0, item = 'a'\n",
      "i = 1, item = 'b'\n",
      "여기에서 실제로는 종료됨. 편의를 위해 주석처리\n",
      "i = 2, item = 'c'\n",
      "i = 3, item = 'd'\n",
      "i = 4, item = 'e'\n"
     ]
    }
   ],
   "source": [
    "for i, item in enumerate(['a','b','c','d','e']):\n",
    "    if i == 2:\n",
    "        # 프로그램 종료(0은 정상 종료, 1은 비정상 종료)\n",
    "        # exit(0)\n",
    "        print('여기에서 실제로는 종료됨. 편의를 위해 주석처리')\n",
    "    print(f'{i = }, {item = }')"
   ]
  },
  {
   "cell_type": "code",
   "execution_count": 70,
   "metadata": {},
   "outputs": [
    {
     "name": "stdout",
     "output_type": "stream",
     "text": [
      "1*1= 1\t2*1= 2\t3*1= 3\t4*1= 4\t5*1= 5\t6*1= 6\t7*1= 7\t8*1= 8\t9*1= 9\t\n",
      "1*2= 2\t2*2= 4\t3*2= 6\t4*2= 8\t5*2=10\t6*2=12\t7*2=14\t8*2=16\t9*2=18\t\n",
      "1*3= 3\t2*3= 6\t3*3= 9\t4*3=12\t5*3=15\t6*3=18\t7*3=21\t8*3=24\t9*3=27\t\n",
      "1*4= 4\t2*4= 8\t3*4=12\t4*4=16\t5*4=20\t6*4=24\t7*4=28\t8*4=32\t9*4=36\t\n",
      "1*5= 5\t2*5=10\t3*5=15\t4*5=20\t5*5=25\t6*5=30\t7*5=35\t8*5=40\t9*5=45\t\n",
      "1*6= 6\t2*6=12\t3*6=18\t4*6=24\t5*6=30\t6*6=36\t7*6=42\t8*6=48\t9*6=54\t\n",
      "1*7= 7\t2*7=14\t3*7=21\t4*7=28\t5*7=35\t6*7=42\t7*7=49\t8*7=56\t9*7=63\t\n",
      "1*8= 8\t2*8=16\t3*8=24\t4*8=32\t5*8=40\t6*8=48\t7*8=56\t8*8=64\t9*8=72\t\n",
      "1*9= 9\t2*9=18\t3*9=27\t4*9=36\t5*9=45\t6*9=54\t7*9=63\t8*9=72\t9*9=81\t\n"
     ]
    }
   ],
   "source": [
    "for i in range(1,10): \n",
    "    for j in range(1,10):\n",
    "        print(f'{j}*{i}={j*i:>2d}', end='\\t')\n",
    "        if j == 9:\n",
    "            \n",
    "            print()"
   ]
  },
  {
   "cell_type": "markdown",
   "metadata": {},
   "source": [
    "### 응용 및 추가학습"
   ]
  },
  {
   "cell_type": "code",
   "execution_count": null,
   "metadata": {},
   "outputs": [
    {
     "name": "stdout",
     "output_type": "stream",
     "text": [
      "i = 0, item = 'a'\n",
      "i = 1, item = 'b'\n",
      "i = 2, item = 'c'\n",
      "i = 3, item = 'd'\n",
      "i = 4, item = 'e'\n",
      "----------\n",
      "i = 0, item = 'a'\n",
      "i = 1, item = 'b'\n",
      "i = 4, item = 'e'\n",
      "----------\n",
      "i = 0, item = 'a'\n",
      "i = 1, item = 'b'\n",
      "i = 4, item = 'e'\n"
     ]
    }
   ],
   "source": [
    "# 여러개의 반복 건너뛰기 테스트\n",
    "for i, item in enumerate(['a','b','c','d','e']):\n",
    "    if i==2 and i==3:  # and 이용\n",
    "        continue  \n",
    "    print(f'{i = }, {item = }')\n",
    "\n",
    "print('-'*10)\n",
    "\n",
    "for i, item in enumerate(['a','b','c','d','e']):\n",
    "    if i==2 or i==3:  # or 이용\n",
    "        continue  \n",
    "    print(f'{i = }, {item = }')\n",
    "\n",
    "print('-'*10)\n",
    "\n",
    "for i, item in enumerate(['a','b','c','d','e']):\n",
    "    if i in (2,3):  # in 이용\n",
    "        continue  \n",
    "    print(f'{i = }, {item = }')"
   ]
  },
  {
   "cell_type": "code",
   "execution_count": 71,
   "metadata": {},
   "outputs": [
    {
     "name": "stdout",
     "output_type": "stream",
     "text": [
      "3*3 =  9  6*3 = 18  9*3 = 27  12*3 = 36  15*3 = 45  18*3 = 54  21*3 = 63  24*3 = 72  27*3 = 81  \n",
      "3*6 = 18  6*6 = 36  9*6 = 54  12*6 = 72  15*6 = 90  18*6 =108  21*6 =126  24*6 =144  27*6 =162  \n",
      "3*9 = 27  6*9 = 54  9*9 = 81  12*9 =108  15*9 =135  18*9 =162  21*9 =189  24*9 =216  27*9 =243  \n",
      "3*12= 36  6*12= 72  9*12=108  12*12=144  15*12=180  18*12=216  21*12=252  24*12=288  27*12=324  \n",
      "3*15= 45  6*15= 90  9*15=135  12*15=180  15*15=225  18*15=270  21*15=315  24*15=360  27*15=405  \n",
      "3*18= 54  6*18=108  9*18=162  12*18=216  15*18=270  18*18=324  21*18=378  24*18=432  27*18=486  \n",
      "3*21= 63  6*21=126  9*21=189  12*21=252  15*21=315  18*21=378  21*21=441  24*21=504  27*21=567  \n",
      "3*24= 72  6*24=144  9*24=216  12*24=288  15*24=360  18*24=432  21*24=504  24*24=576  27*24=648  \n",
      "3*27= 81  6*27=162  9*27=243  12*27=324  15*27=405  18*27=486  21*27=567  24*27=648  27*27=729  \n"
     ]
    }
   ],
   "source": [
    "# 3의 배수로 이루어진 가지런한 9*9 곱셈표 만들기\n",
    "for i in range(3, 30, 3):        \n",
    "    for j in range(3, 30, 3):    \n",
    "        print(f'{j}*{i:<2d}={j*i:>3d}', end='  ')\n",
    "        if j == 27:\n",
    "            \n",
    "            print()"
   ]
  },
  {
   "cell_type": "code",
   "execution_count": 72,
   "metadata": {},
   "outputs": [
    {
     "name": "stdout",
     "output_type": "stream",
     "text": [
      "27*27=729  24*27=648  21*27=567  18*27=486  15*27=405  12*27=324  9*27=243  6*27=162  3*27= 81  \n",
      "27*24=648  24*24=576  21*24=504  18*24=432  15*24=360  12*24=288  9*24=216  6*24=144  3*24= 72  \n",
      "27*21=567  24*21=504  21*21=441  18*21=378  15*21=315  12*21=252  9*21=189  6*21=126  3*21= 63  \n",
      "27*18=486  24*18=432  21*18=378  18*18=324  15*18=270  12*18=216  9*18=162  6*18=108  3*18= 54  \n",
      "27*15=405  24*15=360  21*15=315  18*15=270  15*15=225  12*15=180  9*15=135  6*15= 90  3*15= 45  \n",
      "27*12=324  24*12=288  21*12=252  18*12=216  15*12=180  12*12=144  9*12=108  6*12= 72  3*12= 36  \n",
      "27*9 =243  24*9 =216  21*9 =189  18*9 =162  15*9 =135  12*9 =108  9*9 = 81  6*9 = 54  3*9 = 27  \n",
      "27*6 =162  24*6 =144  21*6 =126  18*6 =108  15*6 = 90  12*6 = 72  9*6 = 54  6*6 = 36  3*6 = 18  \n",
      "27*3 = 81  24*3 = 72  21*3 = 63  18*3 = 54  15*3 = 45  12*3 = 36  9*3 = 27  6*3 = 18  3*3 =  9  \n"
     ]
    }
   ],
   "source": [
    "# 곱셈표 뒤집기\n",
    "for i in range(27, 2, -3):        \n",
    "    for j in range(27, 2, -3):    \n",
    "        print(f'{j}*{i:<2d}={j*i:>3d}', end='  ')\n",
    "        if j == 3:\n",
    "            \n",
    "            print()"
   ]
  }
 ],
 "metadata": {
  "kernelspec": {
   "display_name": "base",
   "language": "python",
   "name": "python3"
  },
  "language_info": {
   "codemirror_mode": {
    "name": "ipython",
    "version": 3
   },
   "file_extension": ".py",
   "mimetype": "text/x-python",
   "name": "python",
   "nbconvert_exporter": "python",
   "pygments_lexer": "ipython3",
   "version": "3.12.9"
  }
 },
 "nbformat": 4,
 "nbformat_minor": 2
}
