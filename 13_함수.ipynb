{
 "cells": [
  {
   "cell_type": "markdown",
   "metadata": {},
   "source": [
    "### C431195 이준성"
   ]
  },
  {
   "cell_type": "markdown",
   "metadata": {},
   "source": [
    "## 1. 함수"
   ]
  },
  {
   "cell_type": "code",
   "execution_count": 3,
   "metadata": {},
   "outputs": [],
   "source": [
    "def calcSumProduct(a,b=10):\n",
    "    plus = a + b\n",
    "    multiple = a * b\n",
    "    \n",
    "    return plus, multiple"
   ]
  },
  {
   "cell_type": "code",
   "execution_count": 5,
   "metadata": {},
   "outputs": [
    {
     "data": {
      "text/plain": [
       "function"
      ]
     },
     "execution_count": 5,
     "metadata": {},
     "output_type": "execute_result"
    }
   ],
   "source": [
    "type(calcSumProduct)"
   ]
  },
  {
   "cell_type": "code",
   "execution_count": 6,
   "metadata": {},
   "outputs": [
    {
     "data": {
      "text/plain": [
       "(8, 15)"
      ]
     },
     "execution_count": 6,
     "metadata": {},
     "output_type": "execute_result"
    }
   ],
   "source": [
    "calcSumProduct(3,5)\n",
    "calcSumProduct(b=5, a=3)"
   ]
  },
  {
   "cell_type": "code",
   "execution_count": null,
   "metadata": {},
   "outputs": [
    {
     "name": "stdout",
     "output_type": "stream",
     "text": [
      "sum = 10, product = 21\n"
     ]
    }
   ],
   "source": [
    "# 반환값을 변수에 저장\n",
    "sum, product = calcSumProduct(3,7)\n",
    "print(f'{sum = }, {product = }')"
   ]
  },
  {
   "cell_type": "code",
   "execution_count": null,
   "metadata": {},
   "outputs": [
    {
     "name": "stdout",
     "output_type": "stream",
     "text": [
      "sum = 13, product = 30\n"
     ]
    }
   ],
   "source": [
    "# 디폴트값 사용\n",
    "sum, product = calcSumProduct(3)\n",
    "print(f'{sum = }, {product = }')"
   ]
  },
  {
   "cell_type": "code",
   "execution_count": 9,
   "metadata": {},
   "outputs": [
    {
     "name": "stdout",
     "output_type": "stream",
     "text": [
      "sum = 10, product = 21\n"
     ]
    }
   ],
   "source": [
    "sum, product = calcSumProduct(b=3, a=7)\n",
    "print(f'{sum = }, {product = }')"
   ]
  },
  {
   "cell_type": "code",
   "execution_count": null,
   "metadata": {},
   "outputs": [],
   "source": [
    "def calcSumProduct(a,b):\n",
    "    if a > b:\n",
    "        return a + b\n",
    "    elif a < b:\n",
    "        return a * b\n",
    "    else:\n",
    "        return a + b, a * b\n",
    "   \n",
    "    # return은 빠져나옴을 의미하므로 이후의 코드는 실행되지 않음\n",
    "    print('This will never be printed')"
   ]
  },
  {
   "cell_type": "code",
   "execution_count": null,
   "metadata": {},
   "outputs": [],
   "source": [
    "# 함수 주석\n",
    "# a와 b는 int형으로 지정, 반환값은 int형\n",
    "def calcSumProduct(a: int, b: int = 10) -> int:  \n",
    "    # 함수에 대한 설명을 작성\n",
    "    \"\"\"calcSumProduct 함수는 a와 b를 더한 값과 곱한값을 튜플로 반환하는 함수이다.\"\"\"\n",
    "   \n",
    "    print(f' {a = }, {b = }')\n",
    "    plus = a+b\n",
    "    multiple = a*b\n",
    "    return plus, multiple"
   ]
  },
  {
   "cell_type": "code",
   "execution_count": 15,
   "metadata": {},
   "outputs": [
    {
     "name": "stdout",
     "output_type": "stream",
     "text": [
      "Help on function calcSumProduct in module __main__:\n",
      "\n",
      "calcSumProduct(a: int, b: int = 10) -> int\n",
      "    calcSumProduct 함수는 a와 b를 더한 값과 곱한값을 튜플로 반환하는 함수이다.\n",
      "\n"
     ]
    }
   ],
   "source": [
    "help(calcSumProduct)"
   ]
  },
  {
   "cell_type": "markdown",
   "metadata": {},
   "source": [
    "### 응용 및 추가학습"
   ]
  },
  {
   "cell_type": "code",
   "execution_count": null,
   "metadata": {},
   "outputs": [
    {
     "name": "stdout",
     "output_type": "stream",
     "text": [
      "sum2 = 5, product2 = 30, divide2 = 5.0\n"
     ]
    }
   ],
   "source": [
    "# 응용 테스트\n",
    "def calcSumProduct2(a=7,b=9,c=10):\n",
    "    plus = a + 2\n",
    "    multiple = b * 3\n",
    "    divide = c / 2\n",
    "    return plus, multiple, divide\n",
    "\n",
    "sum2, product2, divide2 = calcSumProduct2(b=10, a=3)\n",
    "print(f'{sum2 = }, {product2 = }, {divide2 = }')"
   ]
  },
  {
   "cell_type": "code",
   "execution_count": null,
   "metadata": {},
   "outputs": [
    {
     "name": "stdout",
     "output_type": "stream",
     "text": [
      "sum = 8.0, product = 15.0\n"
     ]
    }
   ],
   "source": [
    "# 자료형 강제 여부 테스트\n",
    "def calcSumProduct(a: int, b: int = 10) -> int:  \n",
    "    plus = a+b\n",
    "    multiple = a*b\n",
    "    return plus, multiple\n",
    "\n",
    "sum, product = calcSumProduct(3.0, 5)  # a에 float형 지정\n",
    "    "
   ]
  },
  {
   "cell_type": "code",
   "execution_count": null,
   "metadata": {},
   "outputs": [
    {
     "name": "stdout",
     "output_type": "stream",
     "text": [
      "(13.5, 86.625, 4.5)\n"
     ]
    }
   ],
   "source": [
    "# 함수 주석 응용\n",
    "def calcFloat(a: float, b: float = 10, c: float = 5) -> tuple:\n",
    "    \n",
    "    total = a + b + c\n",
    "    product = a * b * c\n",
    "    average = total / 3\n",
    "\n",
    "    return total, product, average\n",
    "result = calcFloat(3.5, 4.5, 5.5)\n",
    "print(result)"
   ]
  },
  {
   "cell_type": "markdown",
   "metadata": {},
   "source": [
    "## 2. 인수의 개수가 정해지지 않은 함수"
   ]
  },
  {
   "cell_type": "code",
   "execution_count": null,
   "metadata": {},
   "outputs": [
    {
     "name": "stdout",
     "output_type": "stream",
     "text": [
      "inputs = (1, 2, 3)\n",
      "sum = np.int64(6), product = np.int64(6)\n",
      "\n",
      "inputs = (1, 2, 3, 4, 5, 6, 7, 8)\n",
      "sum = np.int64(36), product = np.int64(40320)\n"
     ]
    }
   ],
   "source": [
    "# 계산을 위해 numpy 모듈을 np로 import\n",
    "import numpy as np\n",
    "#calcSumProduct2 함수명, inputs는 크기가 정해지지 않은 parameters(매개변수)\n",
    "def calcSumProduct2(*inputs):\n",
    "    \"\"\"calcSumproduct2 함수는 입력의 합과 곱을 튜플로 반환하는 함수이다.\"\"\"\n",
    "    # f-string을 이용하여 1nputs의 값을 출력\n",
    "    print(f'{inputs = }')\n",
    "    # numpy 모듈을 이용하여 inputs의 합과 곱을 계산\n",
    "    plus = np.sum(inputs)\n",
    "    multiple = np.prod(inputs)\n",
    "    # plus와 multiple을 튜플로 반환\n",
    "    return plus, multiple\n",
    "# 인수 1,2,3에 대한 함수를 적용하여 결과를 Sum, product에 저장\n",
    "sum, product = calcSumProduct2(1,2,3)\n",
    "# sum과 product을 줄력\n",
    "print (f'{sum = }, {product = }\\n')\n",
    "sum, product = calcSumProduct2(1,2,3,4,5,6,7,8)\n",
    "print (f'{sum = }, {product = }')"
   ]
  },
  {
   "cell_type": "code",
   "execution_count": 9,
   "metadata": {},
   "outputs": [
    {
     "name": "stdout",
     "output_type": "stream",
     "text": [
      "inputs = {'a': 1, 'b': 2}\n",
      "sum = 3, product = 2\n",
      "\n",
      "inputs = {'a': 1, 'b': 2, 'c': 3, 'd': 4}\n",
      "sum = 10, product = 24\n"
     ]
    }
   ],
   "source": [
    "import numpy as np\n",
    "# calcSumProduct2 함수명, inputs는 크기가 정해지지 않은 parameters\n",
    "def calcSumProduct2(**inputs):\n",
    "    \"\"\"calcSumproduct2 함수는 입력의 합과 곱을 튜플로 반환하는 함수이다.\"\"\"\n",
    "    \n",
    "    print(f'{inputs = }')\n",
    "    # plus에 0을, multiple에 1을 초기값으로 할당\n",
    "    plus = 0\n",
    "    multiple = 1\n",
    "\n",
    "    #inputs가 딕셔너리 이므로 Key와 value를 반복하여 _, value에 할당\n",
    "    for _, value in inputs.items():\n",
    "        # plus에 value를 더하여 plus를 갱신\n",
    "        plus += value\n",
    "        # multiple에 value를 곱하여 multiple을 갱신\n",
    "        multiple *= value\n",
    "\n",
    "    # plus와 multiple을 튜플로 반환\n",
    "    return plus, multiple\n",
    "\n",
    "# 인수 a=1, b=2에 대한 함수를 적용하여 결과를 sum, product에 저장\n",
    "sum, product = calcSumProduct2(a=1, b=2)\n",
    "print(f'{sum = }, {product = }\\n')\n",
    "# 인수 a=1, b=2, c=3, d=4에 대한 함수를 적용하여 결과를 sum, product에 저장\n",
    "sum, product = calcSumProduct2(a=1, b=2, c=3, d=4)\n",
    "print(f'{sum = }, {product = }')"
   ]
  },
  {
   "cell_type": "markdown",
   "metadata": {},
   "source": [
    "### 응용 및 추가학습"
   ]
  },
  {
   "cell_type": "code",
   "execution_count": null,
   "metadata": {},
   "outputs": [
    {
     "name": "stdout",
     "output_type": "stream",
     "text": [
      "['False_', 'ScalarType', 'True_', '_CopyMode', '_NoValue', '__NUMPY_SETUP__', '__all__', '__array_api_version__', '__array_namespace_info__', '__builtins__', '__cached__', '__config__', '__dir__', '__doc__', '__expired_attributes__', '__file__', '__former_attrs__', '__future_scalars__', '__getattr__', '__loader__', '__name__', '__numpy_submodules__', '__package__', '__path__', '__spec__', '__version__', '_array_api_info', '_core', '_distributor_init', '_expired_attrs_2_0', '_globals', '_int_extended_msg', '_mat', '_msg', '_pyinstaller_hooks_dir', '_pytesttester', '_specific_msg', '_type_info', '_typing', '_utils', 'abs', 'absolute', 'acos', 'acosh', 'add', 'all', 'allclose', 'amax', 'amin', 'angle', 'any', 'append', 'apply_along_axis', 'apply_over_axes', 'arange', 'arccos', 'arccosh', 'arcsin', 'arcsinh', 'arctan', 'arctan2', 'arctanh', 'argmax', 'argmin', 'argpartition', 'argsort', 'argwhere', 'around', 'array', 'array2string', 'array_equal', 'array_equiv', 'array_repr', 'array_split', 'array_str', 'asanyarray', 'asarray', 'asarray_chkfinite', 'ascontiguousarray', 'asfortranarray', 'asin', 'asinh', 'asmatrix', 'astype', 'atan', 'atan2', 'atanh', 'atleast_1d', 'atleast_2d', 'atleast_3d', 'average', 'bartlett', 'base_repr', 'binary_repr', 'bincount', 'bitwise_and', 'bitwise_count', 'bitwise_invert', 'bitwise_left_shift', 'bitwise_not', 'bitwise_or', 'bitwise_right_shift', 'bitwise_xor', 'blackman', 'block', 'bmat', 'bool', 'bool_', 'broadcast', 'broadcast_arrays', 'broadcast_shapes', 'broadcast_to', 'busday_count', 'busday_offset', 'busdaycalendar', 'byte', 'bytes_', 'c_', 'can_cast', 'cbrt', 'cdouble', 'ceil', 'char', 'character', 'choose', 'clip', 'clongdouble', 'column_stack', 'common_type', 'complex128', 'complex64', 'complexfloating', 'compress', 'concat', 'concatenate', 'conj', 'conjugate', 'convolve', 'copy', 'copysign', 'copyto', 'core', 'corrcoef', 'correlate', 'cos', 'cosh', 'count_nonzero', 'cov', 'cross', 'csingle', 'ctypeslib', 'cumprod', 'cumsum', 'cumulative_prod', 'cumulative_sum', 'datetime64', 'datetime_as_string', 'datetime_data', 'deg2rad', 'degrees', 'delete', 'diag', 'diag_indices', 'diag_indices_from', 'diagflat', 'diagonal', 'diff', 'digitize', 'divide', 'divmod', 'dot', 'double', 'dsplit', 'dstack', 'dtype', 'dtypes', 'e', 'ediff1d', 'einsum', 'einsum_path', 'emath', 'empty', 'empty_like', 'equal', 'errstate', 'euler_gamma', 'exceptions', 'exp', 'exp2', 'expand_dims', 'expm1', 'extract', 'eye', 'f2py', 'fabs', 'fft', 'fill_diagonal', 'finfo', 'fix', 'flatiter', 'flatnonzero', 'flexible', 'flip', 'fliplr', 'flipud', 'float16', 'float32', 'float64', 'float_power', 'floating', 'floor', 'floor_divide', 'fmax', 'fmin', 'fmod', 'format_float_positional', 'format_float_scientific', 'frexp', 'from_dlpack', 'frombuffer', 'fromfile', 'fromfunction', 'fromiter', 'frompyfunc', 'fromregex', 'fromstring', 'full', 'full_like', 'gcd', 'generic', 'genfromtxt', 'geomspace', 'get_include', 'get_printoptions', 'getbufsize', 'geterr', 'geterrcall', 'gradient', 'greater', 'greater_equal', 'half', 'hamming', 'hanning', 'heaviside', 'histogram', 'histogram2d', 'histogram_bin_edges', 'histogramdd', 'hsplit', 'hstack', 'hypot', 'i0', 'identity', 'iinfo', 'imag', 'in1d', 'index_exp', 'indices', 'inexact', 'inf', 'info', 'inner', 'insert', 'int16', 'int32', 'int64', 'int8', 'int_', 'intc', 'integer', 'interp', 'intersect1d', 'intp', 'invert', 'is_busday', 'isclose', 'iscomplex', 'iscomplexobj', 'isdtype', 'isfinite', 'isfortran', 'isin', 'isinf', 'isnan', 'isnat', 'isneginf', 'isposinf', 'isreal', 'isrealobj', 'isscalar', 'issubdtype', 'iterable', 'ix_', 'kaiser', 'kron', 'lcm', 'ldexp', 'left_shift', 'less', 'less_equal', 'lexsort', 'lib', 'linalg', 'linspace', 'little_endian', 'load', 'loadtxt', 'log', 'log10', 'log1p', 'log2', 'logaddexp', 'logaddexp2', 'logical_and', 'logical_not', 'logical_or', 'logical_xor', 'logspace', 'long', 'longdouble', 'longlong', 'ma', 'mask_indices', 'matmul', 'matrix', 'matrix_transpose', 'matvec', 'max', 'maximum', 'may_share_memory', 'mean', 'median', 'memmap', 'meshgrid', 'mgrid', 'min', 'min_scalar_type', 'minimum', 'mintypecode', 'mod', 'modf', 'moveaxis', 'multiply', 'nan', 'nan_to_num', 'nanargmax', 'nanargmin', 'nancumprod', 'nancumsum', 'nanmax', 'nanmean', 'nanmedian', 'nanmin', 'nanpercentile', 'nanprod', 'nanquantile', 'nanstd', 'nansum', 'nanvar', 'ndarray', 'ndenumerate', 'ndim', 'ndindex', 'nditer', 'negative', 'nested_iters', 'newaxis', 'nextafter', 'nonzero', 'not_equal', 'number', 'object_', 'ogrid', 'ones', 'ones_like', 'outer', 'packbits', 'pad', 'partition', 'percentile', 'permute_dims', 'pi', 'piecewise', 'place', 'poly', 'poly1d', 'polyadd', 'polyder', 'polydiv', 'polyfit', 'polyint', 'polymul', 'polynomial', 'polysub', 'polyval', 'positive', 'pow', 'power', 'printoptions', 'prod', 'promote_types', 'ptp', 'put', 'put_along_axis', 'putmask', 'quantile', 'r_', 'rad2deg', 'radians', 'random', 'ravel', 'ravel_multi_index', 'real', 'real_if_close', 'rec', 'recarray', 'reciprocal', 'record', 'remainder', 'repeat', 'require', 'reshape', 'resize', 'result_type', 'right_shift', 'rint', 'roll', 'rollaxis', 'roots', 'rot90', 'round', 'row_stack', 's_', 'save', 'savetxt', 'savez', 'savez_compressed', 'sctypeDict', 'searchsorted', 'select', 'set_printoptions', 'setbufsize', 'setdiff1d', 'seterr', 'seterrcall', 'setxor1d', 'shape', 'shares_memory', 'short', 'show_config', 'show_runtime', 'sign', 'signbit', 'signedinteger', 'sin', 'sinc', 'single', 'sinh', 'size', 'sort', 'sort_complex', 'spacing', 'split', 'sqrt', 'square', 'squeeze', 'stack', 'std', 'str_', 'strings', 'subtract', 'sum', 'swapaxes', 'take', 'take_along_axis', 'tan', 'tanh', 'tensordot', 'test', 'testing', 'tile', 'timedelta64', 'trace', 'transpose', 'trapezoid', 'trapz', 'tri', 'tril', 'tril_indices', 'tril_indices_from', 'trim_zeros', 'triu', 'triu_indices', 'triu_indices_from', 'true_divide', 'trunc', 'typecodes', 'typename', 'typing', 'ubyte', 'ufunc', 'uint', 'uint16', 'uint32', 'uint64', 'uint8', 'uintc', 'uintp', 'ulong', 'ulonglong', 'union1d', 'unique', 'unique_all', 'unique_counts', 'unique_inverse', 'unique_values', 'unpackbits', 'unravel_index', 'unsignedinteger', 'unstack', 'unwrap', 'ushort', 'vander', 'var', 'vdot', 'vecdot', 'vecmat', 'vectorize', 'void', 'vsplit', 'vstack', 'where', 'zeros', 'zeros_like']\n"
     ]
    }
   ],
   "source": [
    "# numpy 모듈에 포함된 함수 목록 출력\n",
    "import numpy as np\n",
    "print(dir(np))"
   ]
  },
  {
   "cell_type": "code",
   "execution_count": null,
   "metadata": {},
   "outputs": [
    {
     "name": "stdout",
     "output_type": "stream",
     "text": [
      "sum = array([1, 3, 6]), product = np.float64(2.0)\n",
      "\n",
      "sum = array([ 1,  3,  6, 10, 15, 21]), product = np.float64(3.5)\n"
     ]
    }
   ],
   "source": [
    "import numpy as np\n",
    "\n",
    "# 사용해보지 않은 numpy 모듈의 함수들을 사용해보기(cumsum, average)\n",
    "def calcSumProduct3(*inputs):\n",
    "    a = np.cumsum(inputs)\n",
    "    b = np.average(inputs)\n",
    "    return a, b\n",
    "\n",
    "sum, product = calcSumProduct3(1,2,3)\n",
    "print (f'{sum = }, {product = }\\n')\n",
    "sum, product = calcSumProduct3(1,2,3,4,5,6)\n",
    "print (f'{sum = }, {product = }')"
   ]
  },
  {
   "cell_type": "code",
   "execution_count": null,
   "metadata": {},
   "outputs": [
    {
     "name": "stdout",
     "output_type": "stream",
     "text": [
      "sum = 10, product = 24\n"
     ]
    }
   ],
   "source": [
    "# 인수를 dict로 받는 경우\n",
    "import numpy as np\n",
    "\n",
    "def calcSumProduct4(**inputs):\n",
    "    plus = 0\n",
    "    multiple = 1\n",
    "\n",
    "    for _, value in inputs.items():\n",
    "        plus += value\n",
    "        multiple *= value\n",
    "    return plus, multiple\n",
    "\n",
    "inputs = {'a': 1, 'b': 2, 'c': 3, 'd': 4}  # inputs를 딕셔너리로 정의\n",
    "sum, product = calcSumProduct4(**inputs)  # **inputs를 사용하여 딕셔너리를 언팩\n",
    "print (f'{sum = }, {product = }')"
   ]
  },
  {
   "cell_type": "markdown",
   "metadata": {},
   "source": [
    "## 3. 지역변수와 전역변수"
   ]
  },
  {
   "cell_type": "code",
   "execution_count": null,
   "metadata": {},
   "outputs": [
    {
     "name": "stdout",
     "output_type": "stream",
     "text": [
      "var_global = '전역 변수'\n",
      "var_local = '인자는 지역 변수'\n",
      "var_global = '전역 변수'\n",
      "name 'var_local' is not defined\n"
     ]
    }
   ],
   "source": [
    "# var_global은 전역 변수\n",
    "var_global = '전역 변수'\n",
    "# useGlobalVariable은 함수명, var_local은 매개변수(지역 변수)\n",
    "def useGlobalVariable(var_local):\n",
    "\n",
    "    # 전역변수와 지역변수를 출력\n",
    "    print(f'{var_global = }')\n",
    "    print(f'{var_local = }')\n",
    "\n",
    "# useGlobalVariable 함수 호출, '인자는 지역 변수'는 인자 \n",
    "useGlobalVariable('인자는 지역 변수')\n",
    "# 전역변수를 출력-> 값이 변하지 않음\n",
    "print(f'{var_global = }')\n",
    "# 지역변수를 출력 -> 함수 내에서만 사용되는 변수로서 함수 외부에서는 사용 불가\n",
    "try:\n",
    "    print(f'{var_local = }')\n",
    "except NameError as e:\n",
    "    print (e)"
   ]
  },
  {
   "cell_type": "code",
   "execution_count": 34,
   "metadata": {},
   "outputs": [],
   "source": [
    "var_global = '전역 변수'\n",
    "def useGlobalVariable(var_local):\n",
    "    # var_global을 변경하면, 전역변수가 아닌 지역변수로 생성하여 사용됨\n",
    "    # 즉, 변수명은 동일하나 서로 다른 변수임\n",
    "    var_global = '전역 변수가 아닌 지역변수임'\n",
    "    print(f'{var_global = }')\n",
    "    print(f'{var_local = }')"
   ]
  },
  {
   "cell_type": "code",
   "execution_count": 16,
   "metadata": {},
   "outputs": [
    {
     "name": "stdout",
     "output_type": "stream",
     "text": [
      "var_global = '전역 변수가 아닌 지역변수임'\n",
      "var_local = '인자는 지역 변수'\n"
     ]
    }
   ],
   "source": [
    "# useGlobalVariable 함수 호출, '인자는 지역 변수'는 인자\n",
    "useGlobalVariable('인자는 지역 변수')"
   ]
  },
  {
   "cell_type": "code",
   "execution_count": null,
   "metadata": {},
   "outputs": [],
   "source": [
    "var_global = '전역 변수'\n",
    "def useGlobalVariable(var_local, var_global):\n",
    "  \n",
    "    # var_global은 이제 전역변수이므로 전역변수의 값이 변경됨\n",
    "    var_global = '이제는 전역 변수임'\n",
    "    # 전역변수와 지역변수를 출력\n",
    "    print(f'{var_global = }')\n",
    "    print(f'{var_local = }')\n",
    "\n",
    "    return var_global"
   ]
  },
  {
   "cell_type": "code",
   "execution_count": 19,
   "metadata": {},
   "outputs": [
    {
     "name": "stdout",
     "output_type": "stream",
     "text": [
      "var_global = '이제는 전역 변수임'\n",
      "var_local = '인자는 지역 변수'\n"
     ]
    }
   ],
   "source": [
    "var_global = useGlobalVariable('인자는 지역 변수', var_global)"
   ]
  },
  {
   "cell_type": "markdown",
   "metadata": {},
   "source": [
    "### 응용 및 추가학습"
   ]
  },
  {
   "cell_type": "code",
   "execution_count": null,
   "metadata": {},
   "outputs": [
    {
     "name": "stdout",
     "output_type": "stream",
     "text": [
      "함수 안 x = 5\n",
      "함수 밖 x = 10\n"
     ]
    }
   ],
   "source": [
    "# 전역 변수와 지역 변수 테스트\n",
    "x = 10  # 전역 변수\n",
    "\n",
    "def change_x():\n",
    "    x = 5  # 지역 변수 x \n",
    "    print(\"함수 안 x =\", x)\n",
    "\n",
    "change_x()\n",
    "print(\"함수 밖 x =\", x)"
   ]
  },
  {
   "cell_type": "code",
   "execution_count": null,
   "metadata": {},
   "outputs": [
    {
     "name": "stdout",
     "output_type": "stream",
     "text": [
      "5\n"
     ]
    }
   ],
   "source": [
    "# 전역 변수의 변경 테스트\n",
    "x = 10  # 전역 변수\n",
    "\n",
    "def change_x():\n",
    "    global x  # 전역 변수 x를 사용하겠다고 선언\n",
    "    x = 5  # 전역 변수 x를 변경\n",
    "\n",
    "change_x()\n",
    "print(x) # 전역 변수 x가 변경됨"
   ]
  },
  {
   "cell_type": "markdown",
   "metadata": {},
   "source": [
    "## 4. 람다함수"
   ]
  },
  {
   "cell_type": "code",
   "execution_count": null,
   "metadata": {},
   "outputs": [
    {
     "data": {
      "text/plain": [
       "15"
      ]
     },
     "execution_count": 20,
     "metadata": {},
     "output_type": "execute_result"
    }
   ],
   "source": [
    "# 람다함수: 일반 함수를 가볍게 만들어 사용하기 위한 함수\n",
    "def addTen(x):\n",
    "    return x + 10\n",
    "\n",
    "addTen(5)"
   ]
  },
  {
   "cell_type": "code",
   "execution_count": null,
   "metadata": {},
   "outputs": [
    {
     "data": {
      "text/plain": [
       "<function __main__.<lambda>(x)>"
      ]
     },
     "execution_count": 21,
     "metadata": {},
     "output_type": "execute_result"
    }
   ],
   "source": [
    "# 함수명이 없는 람다함수\n",
    "lambda x: x + 10"
   ]
  },
  {
   "cell_type": "code",
   "execution_count": null,
   "metadata": {},
   "outputs": [
    {
     "data": {
      "text/plain": [
       "15"
      ]
     },
     "execution_count": 22,
     "metadata": {},
     "output_type": "execute_result"
    }
   ],
   "source": [
    "# 함수명이 없는 람다함수 호출\n",
    "(lambda x: x + 10)(5)"
   ]
  },
  {
   "cell_type": "code",
   "execution_count": null,
   "metadata": {},
   "outputs": [
    {
     "data": {
      "text/plain": [
       "15"
      ]
     },
     "execution_count": 23,
     "metadata": {},
     "output_type": "execute_result"
    }
   ],
   "source": [
    "# 함수명이 있는 람다함수\n",
    "addTen = lambda x: x +10\n",
    "\n",
    "addTen(5)"
   ]
  },
  {
   "cell_type": "code",
   "execution_count": null,
   "metadata": {},
   "outputs": [
    {
     "data": {
      "text/plain": [
       "115"
      ]
     },
     "execution_count": 24,
     "metadata": {},
     "output_type": "execute_result"
    }
   ],
   "source": [
    "# 외부 변수의 사용\n",
    "y = 100\n",
    "# 외부 변수 y를 사용하는 람다함수\n",
    "(lambda x: x+y+10)(5)"
   ]
  },
  {
   "cell_type": "code",
   "execution_count": null,
   "metadata": {},
   "outputs": [
    {
     "data": {
      "text/plain": [
       "'(3의 배수) 9'"
      ]
     },
     "execution_count": 25,
     "metadata": {},
     "output_type": "execute_result"
    }
   ],
   "source": [
    "# 조건부 표현식 사용\n",
    "(lambda x: '(3의 배수) '+str(x) if x%3==0 else x)(9)"
   ]
  },
  {
   "cell_type": "code",
   "execution_count": 27,
   "metadata": {},
   "outputs": [
    {
     "data": {
      "text/plain": [
       "8"
      ]
     },
     "execution_count": 27,
     "metadata": {},
     "output_type": "execute_result"
    }
   ],
   "source": [
    "(lambda x: '(3의 배수) '+str(x) if x%3==0 else x)(8)"
   ]
  },
  {
   "cell_type": "code",
   "execution_count": 13,
   "metadata": {},
   "outputs": [
    {
     "data": {
      "text/plain": [
       "'(3의 배수) 9'"
      ]
     },
     "execution_count": 13,
     "metadata": {},
     "output_type": "execute_result"
    }
   ],
   "source": [
    "# 모두 해당이 안되면 x를 반환\n",
    "(lambda x: '(3의 배수) '+str(x) if x%3==0 else float(x) if x%3==1 else x)(9)"
   ]
  },
  {
   "cell_type": "code",
   "execution_count": null,
   "metadata": {},
   "outputs": [
    {
     "data": {
      "text/plain": [
       "7.0"
      ]
     },
     "execution_count": 30,
     "metadata": {},
     "output_type": "execute_result"
    }
   ],
   "source": [
    "(lambda x: '(3의 배수) '+str(x) if x%3==0 else float(x) if x%3==1 else x)(7)"
   ]
  },
  {
   "cell_type": "code",
   "execution_count": 34,
   "metadata": {},
   "outputs": [
    {
     "data": {
      "text/plain": [
       "5"
      ]
     },
     "execution_count": 34,
     "metadata": {},
     "output_type": "execute_result"
    }
   ],
   "source": [
    "(lambda x: '(3의 배수) '+str(x) if x%3==0 else float(x) if x%3==1 else x)(5)"
   ]
  },
  {
   "cell_type": "code",
   "execution_count": null,
   "metadata": {},
   "outputs": [
    {
     "data": {
      "text/plain": [
       "3"
      ]
     },
     "execution_count": 35,
     "metadata": {},
     "output_type": "execute_result"
    }
   ],
   "source": [
    "# 인자 여러개 넣기\n",
    "(lambda x,y: x if x%3==0 else x+y)(3,4)"
   ]
  },
  {
   "cell_type": "code",
   "execution_count": 14,
   "metadata": {},
   "outputs": [
    {
     "data": {
      "text/plain": [
       "6"
      ]
     },
     "execution_count": 14,
     "metadata": {},
     "output_type": "execute_result"
    }
   ],
   "source": [
    "(lambda x,y: x if x%3==0 else x+y)(2,4)"
   ]
  },
  {
   "cell_type": "code",
   "execution_count": null,
   "metadata": {},
   "outputs": [
    {
     "data": {
      "text/plain": [
       "[11, 12, 13]"
      ]
     },
     "execution_count": 37,
     "metadata": {},
     "output_type": "execute_result"
    }
   ],
   "source": [
    "# map 함수에 적용\n",
    "list(map(lambda x: x+10, [1,2,3]))"
   ]
  },
  {
   "cell_type": "code",
   "execution_count": 38,
   "metadata": {},
   "outputs": [
    {
     "data": {
      "text/plain": [
       "['(3의 배수) 0', 1, 2, '(3의 배수) 3', 4, 5, '(3의 배수) 6', 7, 8, '(3의 배수) 9']"
      ]
     },
     "execution_count": 38,
     "metadata": {},
     "output_type": "execute_result"
    }
   ],
   "source": [
    "ldMultiple3 = lambda x: '(3의 배수) '+str(x) if x%3==0 else x\n",
    "list(map(ldMultiple3, range(10)))"
   ]
  },
  {
   "cell_type": "code",
   "execution_count": 39,
   "metadata": {},
   "outputs": [
    {
     "data": {
      "text/plain": [
       "['(3의 배수) 0', 1.0, 2, '(3의 배수) 3', 4.0, 5, '(3의 배수) 6', 7.0, 8, '(3의 배수) 9']"
      ]
     },
     "execution_count": 39,
     "metadata": {},
     "output_type": "execute_result"
    }
   ],
   "source": [
    "ldMultiple3f = lambda x: '(3의 배수) '+str(x) if x%3==0 else float(x) if x%3==1 else x\n",
    "list(map(ldMultiple3f, range(10)))"
   ]
  },
  {
   "cell_type": "code",
   "execution_count": 40,
   "metadata": {},
   "outputs": [
    {
     "data": {
      "text/plain": [
       "[0, 101, 102, 3, 104, 105, 6, 107, 108, 9]"
      ]
     },
     "execution_count": 40,
     "metadata": {},
     "output_type": "execute_result"
    }
   ],
   "source": [
    "ldMultiple3a = lambda x,y: x if x%3==0 else x+y\n",
    "list(map(ldMultiple3a, range(10), [100]*10))"
   ]
  },
  {
   "cell_type": "markdown",
   "metadata": {},
   "source": [
    "### 응용 및 추가학습"
   ]
  },
  {
   "cell_type": "code",
   "execution_count": null,
   "metadata": {},
   "outputs": [
    {
     "name": "stdout",
     "output_type": "stream",
     "text": [
      "25\n",
      "25\n",
      "25\n",
      "25\n",
      "25\n",
      "25\n",
      "25\n"
     ]
    }
   ],
   "source": [
    "# 미션: 여러 가지 방법으로 25 출력하기 \n",
    "\n",
    "def prodfive(x):\n",
    "    return x * 5\n",
    "print(prodfive(5))\n",
    "\n",
    "lambda x: x * 5  # 함수명이 없는 람다함수\n",
    "print((lambda x: x * 5)(5))\n",
    "\n",
    "prodfive = lambda x: x * 5  # 함수명이 있는 람다함수\n",
    "print(prodfive(5))\n",
    "\n",
    "y = 10  # 전역변수 이용\n",
    "print((lambda x: x + y)(15))  \n",
    "\n",
    "print((lambda x: 25 if x > 20 else 10)(21))  # 조건문 이용\n",
    "print((lambda x: x + 10 if x < 20 else x)(25)) \n",
    "print((lambda x: x * 6 if x%3==0 else x * 5 if x%3==2 else x)(5))  "
   ]
  },
  {
   "cell_type": "code",
   "execution_count": null,
   "metadata": {},
   "outputs": [
    {
     "name": "stdout",
     "output_type": "stream",
     "text": [
      "(3의 배수) 9\n",
      "(3의 배수) 9\n"
     ]
    }
   ],
   "source": [
    "# 일반함수와 람다함수의 조건문 이용 비교\n",
    "# 미션: (3의 배수) 9 출력하기\n",
    "\n",
    "def multiple(x):  # 일반함수 이용\n",
    "    if x % 3 == 0:\n",
    "        return '(3의 배수) ' + str(x)\n",
    "    elif x % 3 == 1:\n",
    "        value = float(x)\n",
    "    else:\n",
    "        value = x\n",
    "        \n",
    "    return value\n",
    "\n",
    "print(multiple(9))\n",
    "\n",
    "print((lambda x:'(3의 배수)' + str(x) if x % 3 == 0 else float(x) if x % 3 == 1 else x)(9))  # 람다함수 이용\n",
    "\n"
   ]
  },
  {
   "cell_type": "code",
   "execution_count": null,
   "metadata": {},
   "outputs": [
    {
     "name": "stdout",
     "output_type": "stream",
     "text": [
      "['짝 0', 1, 2, '짝 3', 4, 5, '짝 6', 7, 8, '짝 9']\n"
     ]
    }
   ],
   "source": [
    "# map 함수와 람다함수 응용\n",
    "print(list(map(lambda x, y: f'짝 {x}' if x % 3 == 0 else x + y, range(10), [0]*10)))  # 369 게임"
   ]
  }
 ],
 "metadata": {
  "kernelspec": {
   "display_name": "base",
   "language": "python",
   "name": "python3"
  },
  "language_info": {
   "codemirror_mode": {
    "name": "ipython",
    "version": 3
   },
   "file_extension": ".py",
   "mimetype": "text/x-python",
   "name": "python",
   "nbconvert_exporter": "python",
   "pygments_lexer": "ipython3",
   "version": "3.12.9"
  }
 },
 "nbformat": 4,
 "nbformat_minor": 2
}
