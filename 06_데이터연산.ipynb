{
 "cells": [
  {
   "cell_type": "markdown",
   "metadata": {},
   "source": [
    "#### C431195 이준성 "
   ]
  },
  {
   "cell_type": "markdown",
   "metadata": {},
   "source": [
    "## 1. 산술 연산\n",
    "- 산술연산자(Arithmetic operator) = 덧셈, 뺄셈, 곱셈, 나눗셈, 몫, 나머지, 거듭제곱"
   ]
  },
  {
   "cell_type": "code",
   "execution_count": null,
   "metadata": {},
   "outputs": [
    {
     "name": "stdout",
     "output_type": "stream",
     "text": [
      "2+3 = 5\n",
      "2.0+3 = 5.0\n",
      "2.0+3.0 = 5.0\n",
      "'2'+'3' = '23'\n",
      "unsupported operand type(s) for +: 'int' and 'str'\n"
     ]
    }
   ],
   "source": [
    "print(f'{2+3 = }')       # 정수 + 정수 = 정수\n",
    "print(f'{2.0+3 = }')     # 실수 + 정수 = 실수\n",
    "print(f'{2.0+3.0 = }')   # 실수 + 실수 = 실수\n",
    "print(f'{'2'+'3' = }')   # 문자열 + 문자열 = 문자열\n",
    "try:\n",
    "    print(f'{2+'3' = }') # 정수 + 문자열 = 오류\n",
    "except Exception as e:\n",
    "    print(e)"
   ]
  },
  {
   "cell_type": "code",
   "execution_count": null,
   "metadata": {},
   "outputs": [
    {
     "name": "stdout",
     "output_type": "stream",
     "text": [
      "2-3 = -1\n",
      "2.0-3 = -1.0\n",
      "2.0-3.0 = -1.0\n",
      "2*3 = 6\n",
      "2.0*3 = 6.0\n",
      "2.0*3.0 = 6.0\n",
      "2/3 = 0.6666666666666666\n",
      "2.0/3 = 0.6666666666666666\n",
      "2.0/3.0 = 0.6666666666666666\n"
     ]
    }
   ],
   "source": [
    "print(f'{2-3 = }')       # 정수 - 정수 = 정수\n",
    "print(f'{2.0-3 = }')     # 실수 - 정수 = 실수\n",
    "print(f'{2.0-3.0 = }')   # 실수 - 실수 = 실수\n",
    "print(f'{2*3 = }')       # 정수 * 정수 = 정수\n",
    "print(f'{2.0*3 = }')     # 실수 * 정수 = 실수\n",
    "print(f'{2.0*3.0 = }')   # 실수 * 실수 = 실수\n",
    "print(f'{2/3 = }')       # 정수 / 정수 = 실수\n",
    "print(f'{2.0/3 = }')     # 실수 / 정수 = 실수\n",
    "print(f'{2.0/3.0 = }')   # 실수 / 실수 = 실수"
   ]
  },
  {
   "cell_type": "code",
   "execution_count": null,
   "metadata": {},
   "outputs": [
    {
     "name": "stdout",
     "output_type": "stream",
     "text": [
      "20//3 = 6\n",
      "20%3 = 2\n"
     ]
    }
   ],
   "source": [
    "print(f'{20//3 = }')   \n",
    "print(f'{20%3 = }')  "
   ]
  },
  {
   "cell_type": "code",
   "execution_count": 5,
   "metadata": {},
   "outputs": [
    {
     "name": "stdout",
     "output_type": "stream",
     "text": [
      "2**3 = 8\n"
     ]
    }
   ],
   "source": [
    "print(f'{2**3 = }') "
   ]
  },
  {
   "cell_type": "code",
   "execution_count": null,
   "metadata": {},
   "outputs": [
    {
     "name": "stdout",
     "output_type": "stream",
     "text": [
      "var_x + var_x = 'AbcAbc'\n",
      "var_y + var_y = [100, 2, 3, 100, 2, 3]\n",
      "var_x * 3 = 'AbcAbcAbc'\n",
      "var_y * 3 = [100, 2, 3, 100, 2, 3, 100, 2, 3]\n"
     ]
    }
   ],
   "source": [
    "var_x = 'Abc'\n",
    "var_y = [100, 2, 3]\n",
    "print(f'{var_x + var_x = }')  # 문자열 + 문자열 \n",
    "print(f'{var_y + var_y = }')  # 리스트 + 리스트\n",
    "print(f'{var_x * 3 = }')      # 문자열 * 정수\n",
    "print(f'{var_y * 3 = }')      # 리스트 * 정수"
   ]
  },
  {
   "cell_type": "markdown",
   "metadata": {},
   "source": [
    "### 응용 및 추가학습"
   ]
  },
  {
   "cell_type": "code",
   "execution_count": null,
   "metadata": {},
   "outputs": [
    {
     "name": "stdout",
     "output_type": "stream",
     "text": [
      "unsupported operand type(s) for +: 'dict' and 'dict'\n"
     ]
    }
   ],
   "source": [
    "# dict + dict 자료형 연산 테스트\n",
    "var_z = {'a': 1, 'b': 2}\n",
    "try: \n",
    "    print(f'{var_z + var_z = }')  \n",
    "except Exception as e:\n",
    "    print(e)\n",
    "del var_z"
   ]
  },
  {
   "cell_type": "code",
   "execution_count": 15,
   "metadata": {},
   "outputs": [
    {
     "name": "stdout",
     "output_type": "stream",
     "text": [
      "(var_x * 3) + '3' = 'AbcAbcAbc3'\n",
      "(3 ** 3) + (7 // 3) = 29\n",
      "var_x * 3 + '3' = 'AbcAbcAbc3'\n",
      "3 ** 3 + 7 // 3 = 29\n"
     ]
    }
   ],
   "source": [
    "# 혼합 연산 테스트 (괄호 사용)\n",
    "print(f'{(var_x * 3) + '3' = }')  \n",
    "print(f'{(3 ** 3) + (7 // 3) = }')\n",
    "# 혼합 연산 테스트 (괄호 미사용)\n",
    "print(f'{var_x * 3 + '3' = }')\n",
    "print(f'{3 ** 3 + 7 // 3 = }')"
   ]
  },
  {
   "cell_type": "markdown",
   "metadata": {},
   "source": [
    "## 2. 비교 연산\n",
    "- 관계연산자(Relational operator) = 같다 / 같지 않다, 크다 / 작다, 크거나 같다 / 작거나 같다"
   ]
  },
  {
   "cell_type": "code",
   "execution_count": 18,
   "metadata": {},
   "outputs": [
    {
     "name": "stdout",
     "output_type": "stream",
     "text": [
      "2==3 = False\n",
      "2!=3 = True\n",
      "2>3 = False\n",
      "2<3 = True\n",
      "2>=3 = False\n",
      "2<=3 = True\n"
     ]
    }
   ],
   "source": [
    "print(f'{2==3 = }')      \n",
    "print(f'{2!=3 = }')\n",
    "print(f'{2>3 = }')\n",
    "print(f'{2<3 = }')\n",
    "print(f'{2>=3 = }')\n",
    "print(f'{2<=3 = }')"
   ]
  },
  {
   "cell_type": "code",
   "execution_count": 19,
   "metadata": {},
   "outputs": [
    {
     "name": "stdout",
     "output_type": "stream",
     "text": [
      "(var_y == [1, 2, 3]) = True\n",
      "(var_y == (1, 2, 3)) = False\n",
      "(var_y == [1, 2]) = False\n",
      "(var_y != [1, 2]) = True\n",
      "(var_y > [1, 2]) = True\n",
      "(var_y < [1, 2]) = False\n"
     ]
    }
   ],
   "source": [
    "var_y = [1, 2, 3]\n",
    "print(f'{(var_y == [1, 2, 3]) = }') \n",
    "print(f'{(var_y == (1, 2, 3)) = }')\n",
    "print(f'{(var_y == [1, 2]) = }')\n",
    "print(f'{(var_y != [1, 2]) = }')\n",
    "print(f'{(var_y > [1, 2]) = }')\n",
    "print(f'{(var_y < [1, 2]) = }')"
   ]
  },
  {
   "cell_type": "markdown",
   "metadata": {},
   "source": [
    "### 응용 및 추가학습"
   ]
  },
  {
   "cell_type": "code",
   "execution_count": null,
   "metadata": {},
   "outputs": [
    {
     "name": "stdout",
     "output_type": "stream",
     "text": [
      "True\n",
      "True\n",
      "False\n",
      "True\n",
      "False\n",
      "True\n"
     ]
    }
   ],
   "source": [
    "# list끼리의 다양한 비교연산 테스트 \n",
    "\n",
    "# 1. list 길이가 같을 때 \n",
    "print([1, 2, 3] < [1, 2, 4])   \n",
    "print([1, 2, 3] < [3, 2, 1]) \n",
    "print([1, 2, 3] < [1, 1, 5])  \n",
    "# 2. list 길이가 다를 때\n",
    "print([1, 2, 3] < [1, 2, 3, 1])     \n",
    "print([1, 2, 3] < [0, 1, 2, 3])        \n",
    "print([1, 2, 3] < [3, 2, 1, 0])  "
   ]
  },
  {
   "cell_type": "markdown",
   "metadata": {},
   "source": [
    "##### 배운점_list의 비교연산\n",
    "- 원소의 개수 또는 합이 아닌, 순서대로 비교했을 때 더 큰 원소가 있는 쪽이 더 큰 list로 인식된다. \n",
    "- 앞부분이 동일할 경우 원소 개수가 더 큰 쪽이 더 큰 list로 인식된다. "
   ]
  },
  {
   "cell_type": "code",
   "execution_count": null,
   "metadata": {},
   "outputs": [
    {
     "name": "stdout",
     "output_type": "stream",
     "text": [
      "True\n",
      "False\n",
      "False\n",
      "True\n",
      "True\n"
     ]
    }
   ],
   "source": [
    "# set끼리의 다양한 비교연산 테스트 \n",
    "\n",
    "# 1. set 길이가 같을 때\n",
    "print({1, 2, 3} == {3, 2, 1})\n",
    "print({1, 3, 5} < {2, 4, 6})\n",
    "\n",
    "# 2. set 길이가 다를 때\n",
    "print({1, 2, 3} < {1, 2, 3, 1})\n",
    "print({1, 2, 3} < {0, 1, 2, 3})\n",
    "print({1, 2, 3} < {3, 2, 1, 0})"
   ]
  },
  {
   "cell_type": "markdown",
   "metadata": {},
   "source": [
    "##### 배운점_set의 비교연산\n",
    "- 원소의 순서가 중요하지 않고, 중복된 원소는 하나로 인식한다.\n",
    "- 원소의 개수 또는 합이 아닌, 포함관계를 통해 대소를 정의한다."
   ]
  },
  {
   "cell_type": "markdown",
   "metadata": {},
   "source": [
    "## 3. 논리 연산\n",
    "- 논리연산자(Logical operator) = 논리 명제를 판단하여 True 또는 False 반환"
   ]
  },
  {
   "cell_type": "code",
   "execution_count": 29,
   "metadata": {},
   "outputs": [
    {
     "data": {
      "text/plain": [
       "True"
      ]
     },
     "execution_count": 29,
     "metadata": {},
     "output_type": "execute_result"
    }
   ],
   "source": [
    "True and True"
   ]
  },
  {
   "cell_type": "code",
   "execution_count": null,
   "metadata": {},
   "outputs": [
    {
     "name": "stdout",
     "output_type": "stream",
     "text": [
      "var_y = False\n",
      "var_x and var_y = False\n",
      "var_x or var_y = True\n",
      "not var_x = False\n"
     ]
    }
   ],
   "source": [
    "var_x = True\n",
    "var_y = (10 > 20)\n",
    "print(f'{var_y = }')\n",
    "print(f'{var_x and var_y = }')  # var_x와 var_y의 논리곱\n",
    "print(f'{var_x or var_y = }')   # var_x와 var_y의 논리합\n",
    "print(f'{not var_x = }')        # var_x의 논리부정"
   ]
  },
  {
   "cell_type": "code",
   "execution_count": null,
   "metadata": {},
   "outputs": [
    {
     "name": "stdout",
     "output_type": "stream",
     "text": [
      "(2==3) and (2!=3) = False\n"
     ]
    }
   ],
   "source": [
    "print(f'{(2==3) and (2!=3) = }')  "
   ]
  },
  {
   "cell_type": "markdown",
   "metadata": {},
   "source": [
    "### 응용 및 추가학습"
   ]
  },
  {
   "cell_type": "code",
   "execution_count": 43,
   "metadata": {},
   "outputs": [
    {
     "name": "stdout",
     "output_type": "stream",
     "text": [
      "True\n",
      "True\n",
      "False\n",
      "False\n"
     ]
    }
   ],
   "source": [
    "# and, or, not 연산자 처리 순서 테스트\n",
    "print(4<6 and not 1!=1)  # 예상: True \n",
    "print(4<6 and (not 1!=1))  # 예상: True\n",
    "print(not 4<6 or 2!=3 and 4==5)  # 예상: False\n",
    "print(not (4<6 or 2!=3) and 4==5)  # 예상: False\n"
   ]
  },
  {
   "cell_type": "code",
   "execution_count": null,
   "metadata": {},
   "outputs": [
    {
     "name": "stdout",
     "output_type": "stream",
     "text": [
      "True\n",
      "True\n",
      "True\n"
     ]
    }
   ],
   "source": [
    "# 다양한 혼합 계산 테스트\n",
    "print(({1,2,3} < {1, 3, 2, 5}) or (4 >= 6))  # 예상: True\n",
    "print((2**3>(3*2)) and (4 < 6))  # 예상: True\n",
    "# 괄호 미사용 (처리 순서 확인) 테스트\n",
    "print((2**3>3*2) and 4 < 6)  # 예상: True"
   ]
  },
  {
   "cell_type": "markdown",
   "metadata": {},
   "source": [
    "## 4. 멤버십 연산\n",
    "- 멤버십연산자(Membership operator) = 데이터가 특정 집합에 포함되어 있는지 확인하여 True 또는 False 반환"
   ]
  },
  {
   "cell_type": "code",
   "execution_count": null,
   "metadata": {},
   "outputs": [
    {
     "name": "stdout",
     "output_type": "stream",
     "text": [
      "(1 in var_y) = True\n",
      "('1' in var_y) = False\n",
      "(4 in var_y) = False\n",
      "(1 not in var_y) = False\n",
      "(4 not in var_y) = True\n"
     ]
    }
   ],
   "source": [
    "var_y = [1, 2, 3]\n",
    "print(f'{(1 in var_y) = }')\n",
    "print(f'{('1' in var_y) = }')\n",
    "print(f'{(4 in var_y) = }')\n",
    "print(f'{(1 not in var_y) = }')\n",
    "print(f'{(4 not in var_y) = }')"
   ]
  },
  {
   "cell_type": "markdown",
   "metadata": {},
   "source": [
    "### 응용 및 추가학습"
   ]
  },
  {
   "cell_type": "code",
   "execution_count": null,
   "metadata": {},
   "outputs": [
    {
     "name": "stdout",
     "output_type": "stream",
     "text": [
      "('a' in var_z) = True\n",
      "(not False in var_t) = True\n",
      "('Hello world' not in var_t) = False\n"
     ]
    }
   ],
   "source": [
    "# dict 자료형 멤버십 연산 테스트\n",
    "var_z = {'a': 1, 'b': 2}\n",
    "print(f'{('a' in var_z) = }')\n",
    "# tuple 자료형 멤버십 연산 테스트\n",
    "var_t = (1, 2, 3, 'Hello world', True)\n",
    "print(f'{(not False in var_t) = }')\n",
    "print(f'{('Hello world' not in var_t) = }')\n",
    "\n",
    "del var_z\n",
    "del var_t"
   ]
  },
  {
   "cell_type": "markdown",
   "metadata": {},
   "source": [
    "## 5. 식별 연산\n",
    "- 식별연산자(Identity operator) = 두 데이터가 동일 객체(동일 주소)인지 확인하여 True 또는 False 반환"
   ]
  },
  {
   "cell_type": "code",
   "execution_count": null,
   "metadata": {},
   "outputs": [
    {
     "name": "stdout",
     "output_type": "stream",
     "text": [
      "(var_x == 10) = True\n",
      "(var_x is 10) = True\n"
     ]
    },
    {
     "name": "stderr",
     "output_type": "stream",
     "text": [
      "<>:3: SyntaxWarning: \"is\" with 'int' literal. Did you mean \"==\"?\n",
      "<>:3: SyntaxWarning: \"is\" with 'int' literal. Did you mean \"==\"?\n",
      "/var/folders/kk/vpl2rps17td49jzbf1d7xr1m0000gn/T/ipykernel_76490/2673088913.py:3: SyntaxWarning: \"is\" with 'int' literal. Did you mean \"==\"?\n",
      "  print(f'{(var_x is 10) = }')\n"
     ]
    }
   ],
   "source": [
    "var_x = 10\n",
    "print(f'{(var_x == 10) = }')\n",
    "print(f'{(var_x is 10) = }')  # 경고 발생: == 연산자 사용 권장"
   ]
  },
  {
   "cell_type": "code",
   "execution_count": 54,
   "metadata": {},
   "outputs": [
    {
     "name": "stdout",
     "output_type": "stream",
     "text": [
      "(var_x is var_y) = False\n",
      "(var_x is var_z) = True\n",
      "(var_x is not var_y) = True\n",
      "(var_x is not var_z) = False\n"
     ]
    }
   ],
   "source": [
    "var_x = 10\n",
    "var_y = 10.0\n",
    "var_z = var_x\n",
    "print(f'{(var_x is var_y) = }')  \n",
    "print(f'{(var_x is var_z) = }')\n",
    "print(f'{(var_x is not var_y) = }')\n",
    "print(f'{(var_x is not var_z) = }')"
   ]
  },
  {
   "cell_type": "markdown",
   "metadata": {},
   "source": [
    "### 응용 및 추가학습"
   ]
  },
  {
   "cell_type": "code",
   "execution_count": 9,
   "metadata": {},
   "outputs": [
    {
     "name": "stdout",
     "output_type": "stream",
     "text": [
      "(var_x is var_y) = True\n",
      "(var_x is var_y) = False\n",
      "(var_x is var_y) = False\n"
     ]
    }
   ],
   "source": [
    "# 같은 데이터를 할당한 변수들의 주소 일치여부 테스트\n",
    "\n",
    "# int 자료형\n",
    "var_x = 10\n",
    "var_y = 10\n",
    "print(f'{(var_x is var_y) = }')  # 예상: True\n",
    "# float 자료형\n",
    "var_x = 10.0\n",
    "var_y = 10.0\n",
    "print(f'{(var_x is var_y) = }')  # 예상: True\n",
    "# list 자료형\n",
    "var_x = [1, 2, 3]\n",
    "var_y = [1, 2, 3]\n",
    "print(f'{(var_x is var_y) = }')  # 예상: False"
   ]
  },
  {
   "cell_type": "markdown",
   "metadata": {},
   "source": [
    "##### 배운점_int 자료형의 데이터만 동일할 때 같은 주소를 갖는다.\n"
   ]
  },
  {
   "cell_type": "markdown",
   "metadata": {},
   "source": [
    "## 6. 복합 대입 연산\n",
    "- 복합대입연산자(Compound Assignment operator) = 연산과 대입 동시 수행"
   ]
  },
  {
   "cell_type": "code",
   "execution_count": 13,
   "metadata": {},
   "outputs": [
    {
     "name": "stdout",
     "output_type": "stream",
     "text": [
      "2\n"
     ]
    }
   ],
   "source": [
    "var_x = 1\n",
    "var_x += 1  # var_x = var_x + 1\n",
    "print(var_x)"
   ]
  },
  {
   "cell_type": "code",
   "execution_count": 15,
   "metadata": {},
   "outputs": [
    {
     "name": "stdout",
     "output_type": "stream",
     "text": [
      "11\n",
      "10\n",
      "20\n",
      "10.0\n",
      "5.0\n",
      "1.0\n",
      "1.0\n"
     ]
    }
   ],
   "source": [
    "var_x = 1\n",
    "var_x += 10; print(var_x)   # var_x = var_x + 10\n",
    "var_x -= 1; print(var_x)    # var_x = var_x - 1\n",
    "var_x *= 2; print(var_x)    # var_x = var_x * 2\n",
    "var_x /= 2; print(var_x)    # var_x = var_x / 2\n",
    "var_x //= 2; print(var_x)   # var_x = var_x // 2\n",
    "var_x %= 2; print(var_x)    # var_x = var_x % 2\n",
    "var_x **= 2; print(var_x)   # var_x = var_x ** 2"
   ]
  },
  {
   "cell_type": "markdown",
   "metadata": {},
   "source": [
    "### 응용 및 추가학습"
   ]
  },
  {
   "cell_type": "code",
   "execution_count": null,
   "metadata": {},
   "outputs": [
    {
     "name": "stdout",
     "output_type": "stream",
     "text": [
      "3\n",
      "1\n"
     ]
    }
   ],
   "source": [
    "# 변수끼리의 복합 대입 연산 테스트\n",
    "var_x = 1\n",
    "var_y = 2\n",
    "var_x += var_y; print(var_x)  \n",
    "var_x %= var_y; print(var_x)"
   ]
  },
  {
   "cell_type": "code",
   "execution_count": null,
   "metadata": {},
   "outputs": [
    {
     "name": "stdout",
     "output_type": "stream",
     "text": [
      "5.0\n",
      "5\n",
      "6\n",
      "5.0\n"
     ]
    }
   ],
   "source": [
    "# / 와 // 연산자의 결과 테스트\n",
    "var_x = 20\n",
    "var_x /= 4; print(var_x)    # 정수/정수 (배수 관계)\n",
    "var_x = 20\n",
    "var_x //= 4; print(var_x)   # 정수//정수 (배수 관계)\n",
    "var_x = 20\n",
    "var_x //= 3; print(var_x)   # 정수//정수 (비배수 관계)\n",
    "var_x = 20\n",
    "var_x //= 4.0; print(var_x) # 정수//실수 (배수 관계)"
   ]
  },
  {
   "cell_type": "markdown",
   "metadata": {},
   "source": [
    "##### 배운점_/ 와 // 연산자\n",
    "- / 연산자는 어떠한 경우에도 float를 반환한다.\n",
    "- // 연산자는 정수 몫만을 반환하지만 피연산자 중 float가 있으면 float를 반환한다.\n"
   ]
  },
  {
   "cell_type": "markdown",
   "metadata": {},
   "source": [
    "## 7. 연산의 우선순위\n",
    "- () , ** , * , / , // , % , + , - , == , != , > , < , >= , <= , not , and , or 순"
   ]
  },
  {
   "cell_type": "code",
   "execution_count": 25,
   "metadata": {},
   "outputs": [
    {
     "name": "stdout",
     "output_type": "stream",
     "text": [
      "13\n",
      "256\n",
      "True\n",
      "False\n",
      "False\n"
     ]
    }
   ],
   "source": [
    "print(2**3+5) \n",
    "print(2**(3+5)) \n",
    "print(2+3<=4*5)\n",
    "print(not 2+3<=4*5)\n",
    "print(not ((2+3)<=(4*5)))"
   ]
  },
  {
   "cell_type": "markdown",
   "metadata": {},
   "source": [
    "### 응용 및 추가학습"
   ]
  },
  {
   "cell_type": "code",
   "execution_count": null,
   "metadata": {},
   "outputs": [
    {
     "name": "stdout",
     "output_type": "stream",
     "text": [
      "6\n",
      "24\n"
     ]
    }
   ],
   "source": [
    "# 응용 중첩 연산 테스트(산술)\n",
    "print(3*2**4%9+7//2)  # 예상: 6\n",
    "print(3*(2**4%9)+7//2)  # 예상: 24"
   ]
  },
  {
   "cell_type": "code",
   "execution_count": 34,
   "metadata": {},
   "outputs": [
    {
     "name": "stdout",
     "output_type": "stream",
     "text": [
      "True\n",
      "False\n"
     ]
    }
   ],
   "source": [
    "# 응용 중첩 연산 테스트(비교/논리)\n",
    "var_x = [1, 2, 3]\n",
    "var_y = [1, 2, 3, 4]\n",
    "print(not var_x>=var_y and var_x!=var_y)  # 예상: True\n",
    "print(var_x==var_y and not var_x<=var_y)  # 예상: False"
   ]
  }
 ],
 "metadata": {
  "kernelspec": {
   "display_name": "base",
   "language": "python",
   "name": "python3"
  },
  "language_info": {
   "codemirror_mode": {
    "name": "ipython",
    "version": 3
   },
   "file_extension": ".py",
   "mimetype": "text/x-python",
   "name": "python",
   "nbconvert_exporter": "python",
   "pygments_lexer": "ipython3",
   "version": "3.12.9"
  }
 },
 "nbformat": 4,
 "nbformat_minor": 2
}
