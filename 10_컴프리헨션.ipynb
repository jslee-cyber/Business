{
 "cells": [
  {
   "cell_type": "markdown",
   "metadata": {},
   "source": [
    "#### C431195 이준성"
   ]
  },
  {
   "cell_type": "markdown",
   "metadata": {},
   "source": [
    "## 1. list 컴프리헨션"
   ]
  },
  {
   "cell_type": "code",
   "execution_count": null,
   "metadata": {},
   "outputs": [
    {
     "name": "stdout",
     "output_type": "stream",
     "text": [
      "nums_comp = [11, 12, 13, 14, 15]\n"
     ]
    }
   ],
   "source": [
    "# 리스트 컴프리헨션을 통한 리스트 생성\n",
    "# 1부터 5까지 순차적으로 num에 대입, num+10을 리스트에 추가\n",
    "nums_comp = [num+10 for num in range(1, 6)]\n",
    "print(f'{nums_comp = }')"
   ]
  },
  {
   "cell_type": "code",
   "execution_count": null,
   "metadata": {},
   "outputs": [
    {
     "name": "stdout",
     "output_type": "stream",
     "text": [
      "nums_for = [11, 12, 13, 14, 15]\n"
     ]
    }
   ],
   "source": [
    "# for문을 통한 리스트 생성(비교)\n",
    "nums_for = []  # 빈 리스트 생성\n",
    "for num in range(1,6):\n",
    "    nums_for.append(num+10)  # list 메소드 append()로 num+10 추가\n",
    "\n",
    "print(f'{nums_for = }')"
   ]
  },
  {
   "cell_type": "code",
   "execution_count": 2,
   "metadata": {},
   "outputs": [
    {
     "data": {
      "text/plain": [
       "15"
      ]
     },
     "execution_count": 2,
     "metadata": {},
     "output_type": "execute_result"
    }
   ],
   "source": [
    "# map 함수를 통한 리스트 생성(비교)\n",
    "def add_ten(num):\n",
    "    return num + 10\n",
    "\n",
    "add_ten(5)"
   ]
  },
  {
   "cell_type": "code",
   "execution_count": null,
   "metadata": {},
   "outputs": [
    {
     "data": {
      "text/plain": [
       "<map at 0x1122cd540>"
      ]
     },
     "execution_count": 3,
     "metadata": {},
     "output_type": "execute_result"
    }
   ],
   "source": [
    "# map 함수의 동작 확인\n",
    "map(add_ten, [1,2,3,4,5])"
   ]
  },
  {
   "cell_type": "code",
   "execution_count": 4,
   "metadata": {},
   "outputs": [
    {
     "data": {
      "text/plain": [
       "[11, 12, 13, 14, 15]"
      ]
     },
     "execution_count": 4,
     "metadata": {},
     "output_type": "execute_result"
    }
   ],
   "source": [
    "list(map(add_ten, [1,2,3,4,5]))"
   ]
  },
  {
   "cell_type": "code",
   "execution_count": 6,
   "metadata": {},
   "outputs": [
    {
     "name": "stdout",
     "output_type": "stream",
     "text": [
      "nums_map = [11, 12, 13, 14, 15]\n"
     ]
    }
   ],
   "source": [
    "nums_map = list(map(add_ten, range(1,6)))\n",
    "print(f'{nums_map = }')"
   ]
  },
  {
   "cell_type": "code",
   "execution_count": null,
   "metadata": {},
   "outputs": [
    {
     "name": "stdout",
     "output_type": "stream",
     "text": [
      "nums_math = [1, 3, 5, 7, 9]\n"
     ]
    }
   ],
   "source": [
    "# 수식을 적용한 list 컴프리헨션\n",
    "nums_math = [num*2-1 for num in range(1,6)]\n",
    "print(f'{nums_math = }')"
   ]
  },
  {
   "cell_type": "code",
   "execution_count": 17,
   "metadata": {},
   "outputs": [
    {
     "name": "stdout",
     "output_type": "stream",
     "text": [
      "nums_func = ['Int_1', 'Int_2', 'Int_3', 'Int_4', 'Int_5']\n"
     ]
    }
   ],
   "source": [
    "# 함수를 적용한 list 컴프리헨션\n",
    "def addString(x):\n",
    "    return 'Int_' + str(x)\n",
    "\n",
    "nums_func = [addString(num) for num in range(1,6)]\n",
    "print(f'{nums_func = }')"
   ]
  },
  {
   "cell_type": "code",
   "execution_count": null,
   "metadata": {},
   "outputs": [
    {
     "name": "stdout",
     "output_type": "stream",
     "text": [
      "nums_odds =  [1, 3, 5]\n"
     ]
    }
   ],
   "source": [
    "# if조건문을 적용한 list 컴프리헨션\n",
    "nums_odds = [num for num in range(1, 6) if num % 2 == 1]\n",
    "print(f'{nums_odds =  }')"
   ]
  },
  {
   "cell_type": "code",
   "execution_count": 18,
   "metadata": {},
   "outputs": [
    {
     "name": "stdout",
     "output_type": "stream",
     "text": [
      "nums_odds_zero =  [1, 0, 3, 0, 5]\n"
     ]
    }
   ],
   "source": [
    "nums_odds_zero = [num if num % 2 == 1 else 0 for num in range(1, 6)]\n",
    "print(f'{nums_odds_zero =  }')"
   ]
  },
  {
   "cell_type": "code",
   "execution_count": 19,
   "metadata": {},
   "outputs": [
    {
     "name": "stdout",
     "output_type": "stream",
     "text": [
      "nums_odds_less4 =  [1, 3]\n"
     ]
    }
   ],
   "source": [
    "nums_odds_less4 = [num for num in range(1,6) if num % 2 == 1 if num < 4]\n",
    "print(f'{nums_odds_less4 =  }')"
   ]
  },
  {
   "cell_type": "code",
   "execution_count": null,
   "metadata": {},
   "outputs": [
    {
     "name": "stdout",
     "output_type": "stream",
     "text": [
      "nums_pairs = [(1, 'a'), (1, 'b'), (1, 'c'), (2, 'a'), (2, 'b'), (2, 'c')]\n"
     ]
    }
   ],
   "source": [
    "# 중첩된 list 컴프리헨션\n",
    "# 앞의 for문이 먼저 실행되고, 뒤의 for문이 실행됨\n",
    "nums_pairs = [(x,y) for x in range(1,3) for y in ['a', 'b', 'c']]\n",
    "print(f'{nums_pairs = }')"
   ]
  },
  {
   "cell_type": "code",
   "execution_count": null,
   "metadata": {},
   "outputs": [
    {
     "name": "stdout",
     "output_type": "stream",
     "text": [
      "num_pairs_sum5 = [(1, 4), (2, 3), (3, 2), (4, 1)]\n"
     ]
    }
   ],
   "source": [
    "# x+y가 5이면 (x,y)를 리스트에 추가\n",
    "num_pairs_sum5 = [(x,y) for x in range(1,6) for y in range(1,6) if x+y == 5]\n",
    "print(f'{num_pairs_sum5 = }') "
   ]
  },
  {
   "cell_type": "markdown",
   "metadata": {},
   "source": [
    "### 응용 및 추가학습"
   ]
  },
  {
   "cell_type": "code",
   "execution_count": null,
   "metadata": {},
   "outputs": [
    {
     "name": "stdout",
     "output_type": "stream",
     "text": [
      "[2, 4, 6, 8, 10]\n",
      "[2, 4, 6, 8, 10]\n",
      "[2, 4, 6, 8, 10]\n",
      "[2, 4, 6, 8, 10]\n",
      "[2, 4, 6, 8, 10]\n",
      "[2, 4, 6, 8, 10]\n",
      "[2, 4, 6, 8, 10]\n"
     ]
    }
   ],
   "source": [
    "# 미션: [2,4,6,8,10] 출력하기\n",
    "\n",
    "# for문을 통한 출력\n",
    "nums_even_for = []  # 빈 리스트 생성\n",
    "for num in range(2, 11, 2):\n",
    "    nums_even_for.append(num)\n",
    "print(nums_even_for)\n",
    "\n",
    "# map 함수를 통한 출력\n",
    "def is_even(num):\n",
    "    return num + 1\n",
    "nums_even_map = list(map(is_even, range(1, 10, 2)))\n",
    "print(nums_even_map)\n",
    "\n",
    "# list 컴프리헨션을 통한 출력\n",
    "nums_even_comp = [num for num in range(2,11,2)]\n",
    "print(nums_even_comp)\n",
    "\n",
    "nums_even_comp = [num*2 for num in range(1,6)]  # 수식 적용\n",
    "print(nums_even_comp)\n",
    "\n",
    "nums_even_comp = [num for num in range(2, 11) if num % 2 == 0]  # if 조건문 적용\n",
    "print(nums_even_comp)\n",
    "\n",
    "nums_even_comp = [num for num in range(1, 20) if num % 2 == 0 if num < 11]  # if 조건문 중첩 적용\n",
    "print(nums_even_comp)\n",
    "\n",
    "def multiple(num): # 함수 정의\n",
    "    return num*2 \n",
    "nums_even_comp = [multiple(num) for num in range(1, 6)]  # 함수 적용\n",
    "print(nums_even_comp)\n"
   ]
  },
  {
   "cell_type": "code",
   "execution_count": null,
   "metadata": {},
   "outputs": [
    {
     "name": "stdout",
     "output_type": "stream",
     "text": [
      "['Int_1', 'Int_2', 'Int_3', 'Int_4', 'Int_5']\n",
      "['Int_1', 'Int_2', 'Int_3', 'Int_4', 'Int_5']\n"
     ]
    }
   ],
   "source": [
    "# 미션: ['Int_1', 'Int_2', 'Int_3', 'Int_4', 'Int_5'] 출력하기\n",
    "# map 함수 이용하기\n",
    "def addString(x):\n",
    "    return 'Int_' + str(x)\n",
    "\n",
    "nums_func = list(map(addString, range(1, 6)))\n",
    "print(nums_func)\n",
    "\n",
    "# list 컴프리헨션 이용하기\n",
    "nums_comp = ['Int_' + str(num) for num in range(1, 6)]\n",
    "print(nums_comp)"
   ]
  },
  {
   "cell_type": "markdown",
   "metadata": {},
   "source": [
    "## 2. dict 컴프리헨션"
   ]
  },
  {
   "cell_type": "code",
   "execution_count": null,
   "metadata": {},
   "outputs": [
    {
     "name": "stdout",
     "output_type": "stream",
     "text": [
      "students_for = {1: '최딕션', 2: '최딕션', 3: '최딕션', 4: '최딕션'}\n"
     ]
    }
   ],
   "source": [
    "ids = [1,2,3,4]\n",
    "student_names = ['김홍익', '이컴프리', '박헨션', '최딕션']\n",
    "# value가 전부 '최딕션'으로 출력되는 오류\n",
    "students_for = {id:name for id in ids for name in student_names}\n",
    "\n",
    "print(f'{students_for = }')"
   ]
  },
  {
   "cell_type": "code",
   "execution_count": null,
   "metadata": {},
   "outputs": [
    {
     "name": "stdout",
     "output_type": "stream",
     "text": [
      "students_enumerate = {0: '김홍익', 1: '이컴프리', 2: '박헨션', 3: '최딕션'}\n"
     ]
    }
   ],
   "source": [
    "student_names = ['김홍익', '이컴프리', '박헨션', '최딕션']\n",
    "# key가 0부터 시작하는 오류\n",
    "students_enumerate = {id:name for id, name in enumerate(student_names)}\n",
    "\n",
    "print(f'{students_enumerate = }')"
   ]
  },
  {
   "cell_type": "code",
   "execution_count": null,
   "metadata": {},
   "outputs": [
    {
     "name": "stdout",
     "output_type": "stream",
     "text": [
      "students_zip = {1: '김홍익', 2: '이컴프리', 3: '박헨션', 4: '최딕션'}\n"
     ]
    }
   ],
   "source": [
    "ids = [1,2,3,4]\n",
    "student_names = ['김홍익', '이컴프리', '박헨션', '최딕션']\n",
    "# zip() 함수로 두 리스트를 병렬로 가져옴(정상 출력)\n",
    "students_zip = {id:name for id, name in zip(ids, student_names)}\n",
    "\n",
    "print(f'{students_zip = }')"
   ]
  },
  {
   "cell_type": "markdown",
   "metadata": {},
   "source": [
    "### 응용 및 추가학습"
   ]
  },
  {
   "cell_type": "code",
   "execution_count": null,
   "metadata": {},
   "outputs": [
    {
     "name": "stdout",
     "output_type": "stream",
     "text": [
      "{0: '회계원리', 1: '재무관리', 2: '미시경제학', 3: '거시경제학'}\n",
      "{0: '회계원리', 1: '재무관리', 2: '미시경제학', 3: '거시경제학'}\n"
     ]
    }
   ],
   "source": [
    "# 미션: {0: '회계원리', 1: '재무관리', 2: '미시경제학', 3: '거시경제학'} 출력하기\n",
    "ids = [0, 1, 2, 3]\n",
    "subject_names = ['회계원리', '재무관리', '미시경제학', '거시경제학']\n",
    "\n",
    "subjects_zip = {id:name for id, name in enumerate(subject_names)}  # enumerate() 함수 사용\n",
    "print(subjects_zip)\n",
    "\n",
    "subjects_zip = {id:name for id, name in zip(ids, subject_names)}  # zip() 함수 사용\n",
    "print(subjects_zip)\n"
   ]
  },
  {
   "cell_type": "markdown",
   "metadata": {},
   "source": [
    "## 3. set 컴프리헨션"
   ]
  },
  {
   "cell_type": "code",
   "execution_count": null,
   "metadata": {},
   "outputs": [
    {
     "name": "stdout",
     "output_type": "stream",
     "text": [
      "sum_list = [2, 3, 4, 5, 6, 3, 4, 5, 6, 7, 4, 5, 6, 7, 8, 5, 6, 7, 8, 9, 6, 7, 8, 9, 10]\n",
      "\n",
      "sum_set = {2, 3, 4, 5, 6, 7, 8, 9, 10}\n"
     ]
    }
   ],
   "source": [
    "# list는 출력 시 중복된 값이 있음\n",
    "sum_list = [x+y for x in range(1, 6) for y in range(1, 6)]\n",
    "print(f'{sum_list = }\\n')\n",
    "\n",
    "# set은 중복된 값이 제거됨\n",
    "sum_set = {x+y for x in range(1, 6) for y in range(1, 6)}\n",
    "print(f'{sum_set = }')"
   ]
  },
  {
   "cell_type": "markdown",
   "metadata": {},
   "source": [
    "### 응용 및 추가학습"
   ]
  },
  {
   "cell_type": "code",
   "execution_count": null,
   "metadata": {},
   "outputs": [
    {
     "name": "stdout",
     "output_type": "stream",
     "text": [
      "sum_set = {4, 6, 8, 10, 12, 14, 16, 18, 20}\n"
     ]
    }
   ],
   "source": [
    "# 미션: {4,6,8,10,12,14,16,18,20} 출력하기\n",
    "sum_set = {x+y for x in range(2,11,2) for y in range(2,11,2)}\n",
    "print(f'{sum_set = }')"
   ]
  },
  {
   "cell_type": "markdown",
   "metadata": {},
   "source": [
    "## 4. tuple 컴프리헨션"
   ]
  },
  {
   "cell_type": "code",
   "execution_count": null,
   "metadata": {},
   "outputs": [
    {
     "name": "stdout",
     "output_type": "stream",
     "text": [
      "nums_pairs_list = [(1, 'a'), (1, 'b'), (1, 'c'), (2, 'a'), (2, 'b'), (2, 'c')]\n",
      "\n",
      "nums_pairs_tuple = <generator object <genexpr> at 0x103b83680>\n",
      "tuple(nums_pairs_tuple) = ((1, 'a'), (1, 'b'), (1, 'c'), (2, 'a'), (2, 'b'), (2, 'c'))\n",
      "\n",
      "nums_pairs_tuple2 = ((1, 'a'), (1, 'b'), (1, 'c'), (2, 'a'), (2, 'b'), (2, 'c'))\n"
     ]
    }
   ],
   "source": [
    "nums_pairs_list = [(x,y) for x in range(1,3) for y in ['a', 'b', 'c']]\n",
    "print(f'{nums_pairs_list = }\\n')\n",
    "\n",
    "# tuple 컴프리헨션은 제너레이터로 반환됨\n",
    "nums_pairs_tuple = ((x,y) for x in range(1,3) for y in ['a', 'b', 'c']) \n",
    "print(f'{nums_pairs_tuple = }')\n",
    "# tuple로 변환\n",
    "print(f'{tuple(nums_pairs_tuple) = }\\n')\n",
    "\n",
    "# 한번에 tuple로 반환하기\n",
    "nums_pairs_tuple2 = tuple((x,y) for x in range(1,3) for y in ['a', 'b', 'c'])\n",
    "print(f'{nums_pairs_tuple2 = }')"
   ]
  },
  {
   "cell_type": "markdown",
   "metadata": {},
   "source": [
    "### 응용 및 추가학습"
   ]
  },
  {
   "cell_type": "code",
   "execution_count": null,
   "metadata": {},
   "outputs": [
    {
     "name": "stdout",
     "output_type": "stream",
     "text": [
      "nums_pairs_tuple3 = ('how', 'are', 'you')\n"
     ]
    }
   ],
   "source": [
    "# 미션: ('how', 'are', 'you') 출력하기\n",
    "nums_alphabet = ('ho','ar','yo')\n",
    "nums_ = ('w','e','u')\n",
    "nums_pairs_tuple3 = tuple(x+y for x,y in zip(nums_alphabet, nums_))  # zip() 함수 사용\n",
    "\n",
    "print(nums_pairs_tuple3)"
   ]
  }
 ],
 "metadata": {
  "kernelspec": {
   "display_name": "base",
   "language": "python",
   "name": "python3"
  },
  "language_info": {
   "codemirror_mode": {
    "name": "ipython",
    "version": 3
   },
   "file_extension": ".py",
   "mimetype": "text/x-python",
   "name": "python",
   "nbconvert_exporter": "python",
   "pygments_lexer": "ipython3",
   "version": "3.12.9"
  }
 },
 "nbformat": 4,
 "nbformat_minor": 2
}
