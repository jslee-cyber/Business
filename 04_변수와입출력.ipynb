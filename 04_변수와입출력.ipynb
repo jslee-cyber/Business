{
 "cells": [
  {
   "cell_type": "markdown",
   "metadata": {},
   "source": [
    "#### C431195 이준성 "
   ]
  },
  {
   "cell_type": "markdown",
   "metadata": {},
   "source": [
    "## 1. 변수의 선언과 사용\n",
    "- 변수에 데이터 배정 후 변숫값과 자료형 출력"
   ]
  },
  {
   "cell_type": "code",
   "execution_count": 1,
   "metadata": {},
   "outputs": [
    {
     "name": "stdout",
     "output_type": "stream",
     "text": [
      "경영학\n",
      "4344427600\n"
     ]
    }
   ],
   "source": [
    "var_x = '경영학'\n",
    "print(var_x)\n",
    "print(id(var_x))"
   ]
  },
  {
   "cell_type": "code",
   "execution_count": 2,
   "metadata": {},
   "outputs": [
    {
     "name": "stdout",
     "output_type": "stream",
     "text": [
      "경영학과\n",
      "4344427984\n"
     ]
    }
   ],
   "source": [
    "var_x = '경영학과'\n",
    "print(var_x)\n",
    "print(id(var_x))"
   ]
  },
  {
   "cell_type": "code",
   "execution_count": 3,
   "metadata": {},
   "outputs": [
    {
     "name": "stdout",
     "output_type": "stream",
     "text": [
      "산업데이터공학과\n",
      "4344428176\n"
     ]
    }
   ],
   "source": [
    "var_y = '산업데이터공학과'\n",
    "print(var_y)\n",
    "print(id(var_y))"
   ]
  },
  {
   "cell_type": "markdown",
   "metadata": {},
   "source": [
    "### 응용 및 추가학습"
   ]
  },
  {
   "cell_type": "code",
   "execution_count": 4,
   "metadata": {},
   "outputs": [
    {
     "name": "stdout",
     "output_type": "stream",
     "text": [
      "4339607472\n"
     ]
    }
   ],
   "source": [
    "# var_x에 동일 데이터를 다시 할당 후 주소 확인\n",
    "var_x = '경영학과'\n",
    "print(id(var_x))"
   ]
  },
  {
   "cell_type": "code",
   "execution_count": 5,
   "metadata": {},
   "outputs": [
    {
     "name": "stdout",
     "output_type": "stream",
     "text": [
      "12345\n",
      "123.45\n"
     ]
    }
   ],
   "source": [
    "# 예약어(keyword)를 사용한 변수명 테스트\n",
    "import_for = 12345\n",
    "print(import_for)\n",
    "# 더블 언더스코어, 한글 등을 이용한 변수명 테스트 \n",
    "_4__숫자 = 123.45\n",
    "print(_4__숫자)\n"
   ]
  },
  {
   "cell_type": "code",
   "execution_count": 6,
   "metadata": {},
   "outputs": [],
   "source": [
    "del import_for\n",
    "del _4__숫자"
   ]
  },
  {
   "cell_type": "markdown",
   "metadata": {},
   "source": [
    "## 2. 현재 사용 중인 변수 확인\n",
    "- 매직 명령어를 이용한 정보 추출"
   ]
  },
  {
   "cell_type": "code",
   "execution_count": 7,
   "metadata": {},
   "outputs": [
    {
     "name": "stdout",
     "output_type": "stream",
     "text": [
      "var_x\t var_y\t \n"
     ]
    }
   ],
   "source": [
    "# 현재 커널에서 사용 중인 변수 목록\n",
    "%who"
   ]
  },
  {
   "cell_type": "code",
   "execution_count": 8,
   "metadata": {},
   "outputs": [
    {
     "name": "stdout",
     "output_type": "stream",
     "text": [
      "Variable   Type    Data/Info\n",
      "----------------------------\n",
      "var_x      str     경영학과\n",
      "var_y      str     산업데이터공학과\n"
     ]
    }
   ],
   "source": [
    "# 현재 커널에서 사용 중인 변수 목록, 데이터 유형, 값\n",
    "%whos"
   ]
  },
  {
   "cell_type": "code",
   "execution_count": 9,
   "metadata": {},
   "outputs": [
    {
     "data": {
      "application/json": {
       "cell": {
        "!": "OSMagics",
        "HTML": "Other",
        "SVG": "Other",
        "bash": "Other",
        "capture": "ExecutionMagics",
        "code_wrap": "ExecutionMagics",
        "debug": "ExecutionMagics",
        "file": "Other",
        "html": "DisplayMagics",
        "javascript": "DisplayMagics",
        "js": "DisplayMagics",
        "latex": "DisplayMagics",
        "markdown": "DisplayMagics",
        "perl": "Other",
        "prun": "ExecutionMagics",
        "pypy": "Other",
        "python": "Other",
        "python2": "Other",
        "python3": "Other",
        "ruby": "Other",
        "script": "ScriptMagics",
        "sh": "Other",
        "svg": "DisplayMagics",
        "sx": "OSMagics",
        "system": "OSMagics",
        "time": "ExecutionMagics",
        "timeit": "ExecutionMagics",
        "writefile": "OSMagics"
       },
       "line": {
        "alias": "OSMagics",
        "alias_magic": "BasicMagics",
        "autoawait": "AsyncMagics",
        "autocall": "AutoMagics",
        "automagic": "AutoMagics",
        "autosave": "KernelMagics",
        "bookmark": "OSMagics",
        "cat": "Other",
        "cd": "OSMagics",
        "clear": "KernelMagics",
        "code_wrap": "ExecutionMagics",
        "colors": "BasicMagics",
        "conda": "PackagingMagics",
        "config": "ConfigMagics",
        "connect_info": "KernelMagics",
        "cp": "Other",
        "debug": "ExecutionMagics",
        "dhist": "OSMagics",
        "dirs": "OSMagics",
        "doctest_mode": "BasicMagics",
        "ed": "Other",
        "edit": "KernelMagics",
        "env": "OSMagics",
        "gui": "BasicMagics",
        "hist": "Other",
        "history": "HistoryMagics",
        "killbgscripts": "ScriptMagics",
        "ldir": "Other",
        "less": "KernelMagics",
        "lf": "Other",
        "lk": "Other",
        "ll": "Other",
        "load": "CodeMagics",
        "load_ext": "ExtensionMagics",
        "loadpy": "CodeMagics",
        "logoff": "LoggingMagics",
        "logon": "LoggingMagics",
        "logstart": "LoggingMagics",
        "logstate": "LoggingMagics",
        "logstop": "LoggingMagics",
        "ls": "Other",
        "lsmagic": "BasicMagics",
        "lx": "Other",
        "macro": "ExecutionMagics",
        "magic": "BasicMagics",
        "mamba": "PackagingMagics",
        "man": "KernelMagics",
        "matplotlib": "PylabMagics",
        "micromamba": "PackagingMagics",
        "mkdir": "Other",
        "more": "KernelMagics",
        "mv": "Other",
        "notebook": "BasicMagics",
        "page": "BasicMagics",
        "pastebin": "CodeMagics",
        "pdb": "ExecutionMagics",
        "pdef": "NamespaceMagics",
        "pdoc": "NamespaceMagics",
        "pfile": "NamespaceMagics",
        "pinfo": "NamespaceMagics",
        "pinfo2": "NamespaceMagics",
        "pip": "PackagingMagics",
        "popd": "OSMagics",
        "pprint": "BasicMagics",
        "precision": "BasicMagics",
        "prun": "ExecutionMagics",
        "psearch": "NamespaceMagics",
        "psource": "NamespaceMagics",
        "pushd": "OSMagics",
        "pwd": "OSMagics",
        "pycat": "OSMagics",
        "pylab": "PylabMagics",
        "qtconsole": "KernelMagics",
        "quickref": "BasicMagics",
        "recall": "HistoryMagics",
        "rehashx": "OSMagics",
        "reload_ext": "ExtensionMagics",
        "rep": "Other",
        "rerun": "HistoryMagics",
        "reset": "NamespaceMagics",
        "reset_selective": "NamespaceMagics",
        "rm": "Other",
        "rmdir": "Other",
        "run": "ExecutionMagics",
        "save": "CodeMagics",
        "sc": "OSMagics",
        "set_env": "OSMagics",
        "store": "StoreMagics",
        "sx": "OSMagics",
        "system": "OSMagics",
        "tb": "ExecutionMagics",
        "time": "ExecutionMagics",
        "timeit": "ExecutionMagics",
        "unalias": "OSMagics",
        "unload_ext": "ExtensionMagics",
        "who": "NamespaceMagics",
        "who_ls": "NamespaceMagics",
        "whos": "NamespaceMagics",
        "xdel": "NamespaceMagics",
        "xmode": "BasicMagics"
       }
      },
      "text/plain": [
       "Available line magics:\n",
       "%alias  %alias_magic  %autoawait  %autocall  %automagic  %autosave  %bookmark  %cat  %cd  %clear  %code_wrap  %colors  %conda  %config  %connect_info  %cp  %debug  %dhist  %dirs  %doctest_mode  %ed  %edit  %env  %gui  %hist  %history  %killbgscripts  %ldir  %less  %lf  %lk  %ll  %load  %load_ext  %loadpy  %logoff  %logon  %logstart  %logstate  %logstop  %ls  %lsmagic  %lx  %macro  %magic  %mamba  %man  %matplotlib  %micromamba  %mkdir  %more  %mv  %notebook  %page  %pastebin  %pdb  %pdef  %pdoc  %pfile  %pinfo  %pinfo2  %pip  %popd  %pprint  %precision  %prun  %psearch  %psource  %pushd  %pwd  %pycat  %pylab  %qtconsole  %quickref  %recall  %rehashx  %reload_ext  %rep  %rerun  %reset  %reset_selective  %rm  %rmdir  %run  %save  %sc  %set_env  %store  %sx  %system  %tb  %time  %timeit  %unalias  %unload_ext  %who  %who_ls  %whos  %xdel  %xmode\n",
       "\n",
       "Available cell magics:\n",
       "%%!  %%HTML  %%SVG  %%bash  %%capture  %%code_wrap  %%debug  %%file  %%html  %%javascript  %%js  %%latex  %%markdown  %%perl  %%prun  %%pypy  %%python  %%python2  %%python3  %%ruby  %%script  %%sh  %%svg  %%sx  %%system  %%time  %%timeit  %%writefile\n",
       "\n",
       "Automagic is ON, % prefix IS NOT needed for line magics."
      ]
     },
     "execution_count": 9,
     "metadata": {},
     "output_type": "execute_result"
    }
   ],
   "source": [
    "# 매직 명령어 목록\n",
    "%lsmagic"
   ]
  },
  {
   "cell_type": "code",
   "execution_count": 10,
   "metadata": {},
   "outputs": [
    {
     "data": {
      "text/plain": [
       "'/Users/junsunglee/Desktop/프로그래밍/과제'"
      ]
     },
     "execution_count": 10,
     "metadata": {},
     "output_type": "execute_result"
    }
   ],
   "source": [
    "# 현재 디렉토리\n",
    "%pwd"
   ]
  },
  {
   "cell_type": "code",
   "execution_count": 11,
   "metadata": {},
   "outputs": [
    {
     "name": "stdout",
     "output_type": "stream",
     "text": [
      "04_변수와입출력.ipynb\n",
      "05_데이터유형.ipynb\n"
     ]
    }
   ],
   "source": [
    "# 현재 디렉토리 내 파일 목록\n",
    "%ls"
   ]
  },
  {
   "cell_type": "markdown",
   "metadata": {},
   "source": [
    "### 응용 및 추가학습"
   ]
  },
  {
   "cell_type": "code",
   "execution_count": 18,
   "metadata": {},
   "outputs": [
    {
     "name": "stdout",
     "output_type": "stream",
     "text": [
      "var_x\t var_y\t var_z\t \n",
      "Variable   Type    Data/Info\n",
      "----------------------------\n",
      "var_x      str     경영학과\n",
      "var_y      str     산업데이터공학과\n",
      "var_z      str     영문학과\n"
     ]
    }
   ],
   "source": [
    "# 변수 추가 후 목록 확인\n",
    "var_z = '영문학과'\n",
    "%who\n",
    "%whos\n"
   ]
  },
  {
   "cell_type": "code",
   "execution_count": 19,
   "metadata": {},
   "outputs": [],
   "source": [
    "del var_z"
   ]
  },
  {
   "cell_type": "markdown",
   "metadata": {},
   "source": [
    "## 3. 변수의 삭제"
   ]
  },
  {
   "cell_type": "code",
   "execution_count": 20,
   "metadata": {},
   "outputs": [
    {
     "name": "stdout",
     "output_type": "stream",
     "text": [
      "Variable   Type    Data/Info\n",
      "----------------------------\n",
      "var_x      str     경영학과\n",
      "var_y      str     산업데이터공학과\n",
      "var_z1     int     123\n",
      "var_z2     list    n=5\n"
     ]
    }
   ],
   "source": [
    "var_z1 = 123\n",
    "var_z2 = [1,2,3,4,5]\n",
    "\n",
    "%whos"
   ]
  },
  {
   "cell_type": "code",
   "execution_count": 21,
   "metadata": {},
   "outputs": [
    {
     "name": "stdout",
     "output_type": "stream",
     "text": [
      "Variable   Type    Data/Info\n",
      "----------------------------\n",
      "var_y      str     산업데이터공학과\n",
      "var_z1     int     123\n",
      "var_z2     list    n=5\n"
     ]
    }
   ],
   "source": [
    "del var_x\n",
    "%whos"
   ]
  },
  {
   "cell_type": "code",
   "execution_count": 22,
   "metadata": {},
   "outputs": [
    {
     "name": "stdout",
     "output_type": "stream",
     "text": [
      "Interactive namespace is empty.\n"
     ]
    }
   ],
   "source": [
    "del var_y\n",
    "del var_z1\n",
    "del var_z2\n",
    "%whos"
   ]
  },
  {
   "cell_type": "markdown",
   "metadata": {},
   "source": [
    "## 4. 데이터의 입출력\n",
    "- 사용자 input을 변수에 저장하고 출력"
   ]
  },
  {
   "cell_type": "code",
   "execution_count": 23,
   "metadata": {},
   "outputs": [
    {
     "name": "stdout",
     "output_type": "stream",
     "text": [
      "var_x = 'Hello world'\n",
      "type(var_x) = <class 'str'>\n"
     ]
    }
   ],
   "source": [
    "var_x = input('데이터를 입력하세요:')\n",
    "print(f'{var_x = }')\n",
    "print(f'{type(var_x) = }')"
   ]
  },
  {
   "cell_type": "code",
   "execution_count": 40,
   "metadata": {},
   "outputs": [
    {
     "name": "stdout",
     "output_type": "stream",
     "text": [
      "12345678\n",
      "<class 'int'>\n"
     ]
    }
   ],
   "source": [
    "var_y = int(input('숫자를 입력하세요: '))\n",
    "print(var_y)\n",
    "print(type(var_y))"
   ]
  },
  {
   "cell_type": "code",
   "execution_count": 25,
   "metadata": {},
   "outputs": [
    {
     "name": "stdout",
     "output_type": "stream",
     "text": [
      "10\n",
      "10 경영학과 3.14 True\n",
      "10:경영학과:3.14:True\n",
      "10:경영학과:3.14:True\t**************\n"
     ]
    }
   ],
   "source": [
    "print(10)\n",
    "print(10, '경영학과', 3.14, True)\n",
    "print(10, '경영학과', 3.14, True, sep=':')\n",
    "print(10, '경영학과', 3.14, True, sep=':', end='\\t**************\\n')"
   ]
  },
  {
   "cell_type": "code",
   "execution_count": 26,
   "metadata": {},
   "outputs": [
    {
     "name": "stdout",
     "output_type": "stream",
     "text": [
      "이름 : 홍길동\n",
      "학번 : 20210000\n",
      "학과 : 경영학과\n"
     ]
    }
   ],
   "source": [
    "print('이름 : 홍길동\\n학번 : 20210000\\n학과 : 경영학과')"
   ]
  },
  {
   "cell_type": "code",
   "execution_count": 27,
   "metadata": {},
   "outputs": [
    {
     "name": "stdout",
     "output_type": "stream",
     "text": [
      "이름\t학번\t\t학과\n",
      "홍길동\t20210000\t경영학과\n",
      "김강\t20210001\t경영학과\n"
     ]
    }
   ],
   "source": [
    "print('이름\\t학번\\t\\t학과')\n",
    "print('홍길동\\t20210000\\t경영학과')\n",
    "print('김강\\t20210001\\t경영학과')"
   ]
  },
  {
   "cell_type": "markdown",
   "metadata": {},
   "source": [
    "### 응용 및 추가학습"
   ]
  },
  {
   "cell_type": "code",
   "execution_count": null,
   "metadata": {},
   "outputs": [
    {
     "name": "stdout",
     "output_type": "stream",
     "text": [
      "제가 가장 좋아하는 색은 파란색 입니다.\n",
      "제가 가장 좋아하는 색은 파란색입니다.\n"
     ]
    }
   ],
   "source": [
    "# 사용자 input을 완결된 문장으로 출력하는 테스트\n",
    "favorite_color = input('가장 좋아하는 색은? ')\n",
    "print('제가 가장 좋아하는 색은', favorite_color, '입니다.')\n",
    "print(f'제가 가장 좋아하는 색은 {favorite_color}입니다.')"
   ]
  },
  {
   "cell_type": "code",
   "execution_count": 51,
   "metadata": {},
   "outputs": [
    {
     "ename": "SyntaxError",
     "evalue": "positional argument follows keyword argument (3650420764.py, line 2)",
     "output_type": "error",
     "traceback": [
      "\u001b[0;36m  Cell \u001b[0;32mIn[51], line 2\u001b[0;36m\u001b[0m\n\u001b[0;31m    print(10, '경영학과', 3.14, True, sep=':', '\\t***************')\u001b[0m\n\u001b[0m                                                              ^\u001b[0m\n\u001b[0;31mSyntaxError\u001b[0m\u001b[0;31m:\u001b[0m positional argument follows keyword argument\n"
     ]
    }
   ],
   "source": [
    "# end=를 사용하지 않으면?\n",
    "print(10, '경영학과', 3.14, True, sep=':', '\\t***************')"
   ]
  },
  {
   "cell_type": "code",
   "execution_count": 58,
   "metadata": {},
   "outputs": [
    {
     "ename": "SyntaxError",
     "evalue": "positional argument follows keyword argument (3073029621.py, line 2)",
     "output_type": "error",
     "traceback": [
      "\u001b[0;36m  Cell \u001b[0;32mIn[58], line 2\u001b[0;36m\u001b[0m\n\u001b[0;31m    print(10, '경영학과', 3.14, sep=':', end=True, '\\t***************')\u001b[0m\n\u001b[0m                                                                  ^\u001b[0m\n\u001b[0;31mSyntaxError\u001b[0m\u001b[0;31m:\u001b[0m positional argument follows keyword argument\n"
     ]
    }
   ],
   "source": [
    "# sep=를 하나 앞으로 가져오면?\n",
    "print(10, '경영학과', 3.14, sep=':', end=True, '\\t***************')"
   ]
  },
  {
   "cell_type": "code",
   "execution_count": null,
   "metadata": {},
   "outputs": [
    {
     "name": "stdout",
     "output_type": "stream",
     "text": [
      "10:경영학과:3.14\t***************"
     ]
    }
   ],
   "source": [
    "# sep= 뒤의 값에 end=를 사용하지 않으면 키워드 인자(sep=)와 위치 인자(값)로 인식되어 오류발생. \n",
    "# end= 뒤에는 하나의 값만 와야한다(boolean 제외).\n",
    "print(10, '경영학과', 3.14, sep=':', end='\\t***************')"
   ]
  },
  {
   "cell_type": "markdown",
   "metadata": {},
   "source": [
    "## 5. f-string\n",
    "- 문자열 안에 변수를 삽입"
   ]
  },
  {
   "cell_type": "code",
   "execution_count": 32,
   "metadata": {},
   "outputs": [
    {
     "name": "stdout",
     "output_type": "stream",
     "text": [
      "1234\n",
      "1234\n",
      "-----------------------\n",
      "var_y = 1234\n",
      "-----------------------\n",
      "var_y = 1234\n"
     ]
    }
   ],
   "source": [
    "var_y = 1234\n",
    "# 문자열 앞에 f를 붙이고, 중괄호 안에 변수명을 넣음\n",
    "print(var_y)\n",
    "print(f'{var_y}', end='\\n-----------------------\\n')\n",
    "print(f'{var_y = }', end='\\n-----------------------\\n')\n",
    "print(f'var_y = {var_y}')"
   ]
  },
  {
   "cell_type": "code",
   "execution_count": 66,
   "metadata": {},
   "outputs": [
    {
     "name": "stdout",
     "output_type": "stream",
     "text": [
      "var_x는 정수형이므로 d를 사용하여야 하고, 54321입니다.\n",
      "var_x를 총 20개의 자리에 표현하면,                54321입니다.\n",
      "var_x를 총 20개의 자리에 왼쪽 정렬하여 표현하면, 54321               입니다.\n",
      "var_y는 실수형이므로 f를 사용하여야 하고, 54321.123457입니다.\n",
      "var_y를 정수만 출력하면 54321입니다.\n",
      "var_y를 소수점 5자리까지 출력하면 54321.12346입니다.\n",
      "var_y를 20자리 가운데 정렬하여 소수점 3자리까지 출력하면      54321.123      입니다.\n"
     ]
    }
   ],
   "source": [
    "var_x = 54321\n",
    "var_y = 54321.123456789\n",
    "\n",
    "print(f'var_x는 정수형이므로 d를 사용하여야 하고, {var_x:d}입니다.')\n",
    "print(f'var_x를 총 20개의 자리에 표현하면, {var_x:20d}입니다.')\n",
    "print(f'var_x를 총 20개의 자리에 왼쪽 정렬하여 표현하면, {var_x:<20d}입니다.')\n",
    "print(f'var_y는 실수형이므로 f를 사용하여야 하고, {var_y:f}입니다.')\n",
    "print(f'var_y를 정수만 출력하면 {var_y:.0f}입니다.')\n",
    "print(f'var_y를 소수점 5자리까지 출력하면 {var_y:.5f}입니다.')\n",
    "print(f'var_y를 20자리 가운데 정렬하여 소수점 3자리까지 출력하면 {var_y:^20.3f}입니다.')"
   ]
  },
  {
   "cell_type": "markdown",
   "metadata": {},
   "source": [
    "### 응용 및 추가학습"
   ]
  },
  {
   "cell_type": "code",
   "execution_count": 78,
   "metadata": {},
   "outputs": [
    {
     "name": "stdout",
     "output_type": "stream",
     "text": [
      "var_x를 총 30개의 자리에 가운데 정렬하여 표현하면,             54321             입니다.\n",
      "var_y를 총 15개의 자리에 왼쪽 정렬하여 소수점 4자리까지 표현하면, 54321.1235     입니다.\n"
     ]
    }
   ],
   "source": [
    "# 변형 테스트\n",
    "print(f'var_x를 총 30개의 자리에 가운데 정렬하여 표현하면, {var_x:^30d}입니다.')\n",
    "print(f'var_y를 총 15개의 자리에 왼쪽 정렬하여 소수점 4자리까지 표현하면, {var_y:<15.4f}입니다.')"
   ]
  },
  {
   "cell_type": "code",
   "execution_count": 82,
   "metadata": {},
   "outputs": [
    {
     "name": "stdout",
     "output_type": "stream",
     "text": [
      "var_x를 소수점 8자리까지 표현하면, 54321.00000000입니다.\n"
     ]
    }
   ],
   "source": [
    "# 정수형 데이터를 소수점까지 출력\n",
    "print(f'var_x를 소수점 8자리까지 표현하면, {var_x:.8f}입니다.')"
   ]
  },
  {
   "cell_type": "code",
   "execution_count": 83,
   "metadata": {},
   "outputs": [
    {
     "ename": "ValueError",
     "evalue": "Unknown format code 'd' for object of type 'float'",
     "output_type": "error",
     "traceback": [
      "\u001b[0;31m---------------------------------------------------------------------------\u001b[0m",
      "\u001b[0;31mValueError\u001b[0m                                Traceback (most recent call last)",
      "Cell \u001b[0;32mIn[83], line 2\u001b[0m\n\u001b[1;32m      1\u001b[0m \u001b[38;5;66;03m# 실수형 데이터를 (소수점을 버린) 정수형으로 출력\u001b[39;00m\n\u001b[0;32m----> 2\u001b[0m \u001b[38;5;28mprint\u001b[39m(\u001b[38;5;124mf\u001b[39m\u001b[38;5;124m'\u001b[39m\u001b[38;5;124mvar_y를 정수형으로 표현하면, \u001b[39m\u001b[38;5;132;01m{\u001b[39;00mvar_y\u001b[38;5;132;01m:\u001b[39;00m\u001b[38;5;124md\u001b[39m\u001b[38;5;132;01m}\u001b[39;00m\u001b[38;5;124m입니다.\u001b[39m\u001b[38;5;124m'\u001b[39m)\n",
      "\u001b[0;31mValueError\u001b[0m: Unknown format code 'd' for object of type 'float'"
     ]
    }
   ],
   "source": [
    "# 실수형 데이터를 (소수점을 버린) 정수형으로 출력\n",
    "print(f'var_y를 정수형으로 표현하면, {var_y:d}입니다.')"
   ]
  },
  {
   "cell_type": "code",
   "execution_count": 80,
   "metadata": {},
   "outputs": [
    {
     "name": "stdout",
     "output_type": "stream",
     "text": [
      "var_y를 정수형으로 표현하면, 54321입니다.\n"
     ]
    }
   ],
   "source": [
    "# 실수형 데이터를 (소수점을 버린) 정수형으로 출력하려면 d가 아닌 .0f를 사용해야 함\n",
    "print(f'var_y를 정수형으로 표현하면, {var_y:.0f}입니다.')"
   ]
  },
  {
   "cell_type": "code",
   "execution_count": null,
   "metadata": {},
   "outputs": [
    {
     "name": "stdout",
     "output_type": "stream",
     "text": [
      "var_y를 소수점 12자리까지 표현하면, 54321.123456788999입니다.\n"
     ]
    }
   ],
   "source": [
    "# 실수형 데이터의 소수점 이하 숫자 개수를 초과하는 자릿수까지 출력\n",
    "print(f'var_y를 소수점 12자리까지 표현하면, {var_y:.12f}입니다.')"
   ]
  }
 ],
 "metadata": {
  "kernelspec": {
   "display_name": "Python 3",
   "language": "python",
   "name": "python3"
  },
  "language_info": {
   "codemirror_mode": {
    "name": "ipython",
    "version": 3
   },
   "file_extension": ".py",
   "mimetype": "text/x-python",
   "name": "python",
   "nbconvert_exporter": "python",
   "pygments_lexer": "ipython3",
   "version": "3.9.6"
  }
 },
 "nbformat": 4,
 "nbformat_minor": 2
}
