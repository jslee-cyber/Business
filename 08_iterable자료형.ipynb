{
 "cells": [
  {
   "cell_type": "markdown",
   "metadata": {},
   "source": [
    "#### C431195 이준성"
   ]
  },
  {
   "cell_type": "markdown",
   "metadata": {},
   "source": [
    "## 1. 인덱싱 (Indexing)\n",
    "- iterable(list, tuple, str, dict, range, set) 객체의 원소 추출"
   ]
  },
  {
   "cell_type": "code",
   "execution_count": 1,
   "metadata": {},
   "outputs": [
    {
     "name": "stdout",
     "output_type": "stream",
     "text": [
      "0\n",
      "1\n",
      "2\n",
      "3\n",
      "4\n"
     ]
    }
   ],
   "source": [
    "x_list = [0, 1, 2, 3, 4]\n",
    "print(x_list[0])\n",
    "print(x_list[1])\n",
    "print(x_list[2])\n",
    "print(x_list[3])\n",
    "print(x_list[4])"
   ]
  },
  {
   "cell_type": "code",
   "execution_count": 2,
   "metadata": {},
   "outputs": [
    {
     "name": "stdout",
     "output_type": "stream",
     "text": [
      "4\n",
      "3\n",
      "2\n",
      "1\n",
      "0\n"
     ]
    }
   ],
   "source": [
    "x_list = [0, 1, 2, 3, 4]\n",
    "print(x_list[-1])\n",
    "print(x_list[-2])\n",
    "print(x_list[-3])\n",
    "print(x_list[-4])\n",
    "print(x_list[-5])"
   ]
  },
  {
   "cell_type": "code",
   "execution_count": 3,
   "metadata": {},
   "outputs": [
    {
     "name": "stdout",
     "output_type": "stream",
     "text": [
      "list index out of range\n"
     ]
    }
   ],
   "source": [
    "# 인덱싱 범위를 벗어난 요소에 접근하면 에러 발생\n",
    "try:\n",
    "    print(x_list[5])\n",
    "except IndexError as e:\n",
    "    print(e)"
   ]
  },
  {
   "cell_type": "code",
   "execution_count": 4,
   "metadata": {},
   "outputs": [
    {
     "name": "stdout",
     "output_type": "stream",
     "text": [
      "x_list = [1, 2, 3, 4, 5] \t-> x_list[0] = 1\n",
      "x_tuple = (1, 2, 3, 4, 5) \t-> x_tuple[-1] = 5\n"
     ]
    }
   ],
   "source": [
    "# list, tuple 인덱싱\n",
    "x_list = [1, 2, 3, 4, 5]\n",
    "x_tuple = (1, 2, 3, 4, 5)\n",
    "print(f'{x_list = } \\t-> {x_list[0] = }')\n",
    "print(f'{x_tuple = } \\t-> {x_tuple[-1] = }')"
   ]
  },
  {
   "cell_type": "code",
   "execution_count": 5,
   "metadata": {},
   "outputs": [
    {
     "name": "stdout",
     "output_type": "stream",
     "text": [
      "x_dict = {'name': ['김홍익', '이파이'], 'id': [12345, 67890]} \t-> x_dict[\"name\"][0] = '김홍익'\n"
     ]
    }
   ],
   "source": [
    "# dict 인덱싱\n",
    "x_dict = {'name' : ['김홍익', '이파이'], 'id':[12345, 67890]}\n",
    "print(f'{x_dict = } \\t-> {x_dict[\"name\"][0] = }')"
   ]
  },
  {
   "cell_type": "code",
   "execution_count": 6,
   "metadata": {},
   "outputs": [
    {
     "name": "stdout",
     "output_type": "stream",
     "text": [
      "x_str = 'Hello World!' \t\t-> x_str[0] = 'H'\n",
      "x_str = 'Hello World!' \t\t-> x_str[3] = 'l'\n"
     ]
    }
   ],
   "source": [
    "# str 인덱싱\n",
    "x_str = 'Hello World!'\n",
    "print(f'{x_str = } \\t\\t-> {x_str[0] = }')\n",
    "print(f'{x_str = } \\t\\t-> {x_str[3] = }')"
   ]
  },
  {
   "cell_type": "markdown",
   "metadata": {},
   "source": [
    "### 응용 및 추가학습"
   ]
  },
  {
   "cell_type": "code",
   "execution_count": 7,
   "metadata": {},
   "outputs": [
    {
     "name": "stdout",
     "output_type": "stream",
     "text": [
      "x_str[-3] = '!'\n",
      "x_str[-9] = ' '\n"
     ]
    }
   ],
   "source": [
    "# str 인덱싱 응용 테스트\n",
    "x_str = 'Hello World!!!'   \n",
    "print(f'{x_str[-3] = }')  # 문장부호 인식여부 확인\n",
    "print(f'{x_str[-9] = }')  # 띄어쓰기 인식여부 확인"
   ]
  },
  {
   "cell_type": "code",
   "execution_count": null,
   "metadata": {},
   "outputs": [
    {
     "name": "stdout",
     "output_type": "stream",
     "text": [
      "x_dict[\"name\"][-1] = '이파이'\n",
      "'set' object is not subscriptable\n"
     ]
    }
   ],
   "source": [
    "# dict 인덱싱 응용 테스트\n",
    "x_dict = {'name' : ('김홍익', '이파이'), 'id': 12345}  # 값(value)에 tuple 설정\n",
    "print(f'{x_dict[\"name\"][-1] = }')\n",
    "\n",
    "x_dict = {'name' : {'김홍익', '이파이'}, 'id': 12345}  # 값(value)에 set 설정 (예상: set는 순서가 무의미하므로 인덱싱 불가)\n",
    "try:\n",
    "    print(f'{x_dict[\"name\"][0] = }')\n",
    "except TypeError as e:\n",
    "    print(e)"
   ]
  },
  {
   "cell_type": "markdown",
   "metadata": {},
   "source": [
    "## 2. 슬라이싱 (Slicing)\n",
    "- iterable 객체의 데이터 구간 추출"
   ]
  },
  {
   "cell_type": "code",
   "execution_count": 9,
   "metadata": {},
   "outputs": [
    {
     "name": "stdout",
     "output_type": "stream",
     "text": [
      "[1, 2]\n",
      "[1, 2, 3, 4]\n",
      "[0, 1, 2]\n",
      "[0, 1, 2, 3, 4]\n"
     ]
    }
   ],
   "source": [
    "x_list = [0, 1, 2, 3, 4]\n",
    "print(x_list[1:3])\n",
    "print(x_list[1:])\n",
    "print(x_list[:3])\n",
    "print(x_list[:])"
   ]
  },
  {
   "cell_type": "code",
   "execution_count": 10,
   "metadata": {},
   "outputs": [
    {
     "name": "stdout",
     "output_type": "stream",
     "text": [
      "[1, 2, 3, 4]\n"
     ]
    }
   ],
   "source": [
    "# 슬라이싱은 인덱스 범위를 벗어난 요소에 접근해도 에러 미발생\n",
    "try:\n",
    "    print(x_list[1:10])\n",
    "except IndexError as e:\n",
    "    print(e)"
   ]
  },
  {
   "cell_type": "code",
   "execution_count": 11,
   "metadata": {},
   "outputs": [
    {
     "name": "stdout",
     "output_type": "stream",
     "text": [
      "x_list = [1, 2, 3, 4, 5] \t-> x_list[0:3] = [1, 2, 3]\n",
      "x_tuple = (1, 2, 3, 4, 5) \t-> x_tuple[-1:-4:-1] = (5, 4, 3)\n"
     ]
    }
   ],
   "source": [
    "# list, tuple 슬라이싱\n",
    "x_list = [1, 2 ,3 ,4 ,5]\n",
    "x_tuple = (1, 2, 3, 4, 5)\n",
    "print(f'{x_list = } \\t-> {x_list[0:3] = }')\n",
    "print(f'{x_tuple = } \\t-> {x_tuple[-1:-4:-1] = }')"
   ]
  },
  {
   "cell_type": "code",
   "execution_count": 12,
   "metadata": {},
   "outputs": [
    {
     "name": "stdout",
     "output_type": "stream",
     "text": [
      "x_dict = {'name': ['김홍익', '이파이'], 'id': [12345, 67890]} \t-> x_dict[\"name\"][0:1] = ['김홍익']\n"
     ]
    }
   ],
   "source": [
    "# dict 슬라이싱\n",
    "x_dict = {'name': ['김홍익', '이파이'], 'id':[12345, 67890]}\n",
    "print(f'{x_dict = } \\t-> {x_dict[\"name\"][0:1] = }')"
   ]
  },
  {
   "cell_type": "code",
   "execution_count": 13,
   "metadata": {},
   "outputs": [
    {
     "name": "stdout",
     "output_type": "stream",
     "text": [
      "x_str = 'Hello World!' \t\t-> x_str[0:3] = 'Hel'\n",
      "x_str = 'Hello World!' \t\t-> x_str[-2:-10:-2] = 'drWo'\n"
     ]
    }
   ],
   "source": [
    "# str 슬라이싱\n",
    "x_str = 'Hello World!'\n",
    "print(f'{x_str = } \\t\\t-> {x_str[0:3] = }')\n",
    "print(f'{x_str = } \\t\\t-> {x_str[-2:-10:-2] = }')"
   ]
  },
  {
   "cell_type": "markdown",
   "metadata": {},
   "source": [
    "### 응용 및 추가학습"
   ]
  },
  {
   "cell_type": "code",
   "execution_count": 14,
   "metadata": {},
   "outputs": [
    {
     "name": "stdout",
     "output_type": "stream",
     "text": [
      "[]\n",
      "[]\n"
     ]
    }
   ],
   "source": [
    "# 인덱싱 범위 관련 응용 테스트 \n",
    "x_list = [1, 2 ,3 ,4 ,5]\n",
    "try:\n",
    "    print(x_list[5:10]) \n",
    "except IndexError as e:\n",
    "    print(e)\n",
    "try:\n",
    "    print(x_list[5:])  \n",
    "except IndexError as e:\n",
    "    print(e)"
   ]
  },
  {
   "cell_type": "code",
   "execution_count": 15,
   "metadata": {},
   "outputs": [
    {
     "name": "stdout",
     "output_type": "stream",
     "text": [
      "x_tuple[-2:-5:-1] = (4, 3, 2)\n",
      "x_tuple[-2:-5:-2] = (4, 2)\n",
      "x_tuple[-2:-5] = ()\n"
     ]
    }
   ],
   "source": [
    "# 역방향 슬라이싱 응용 테스트\n",
    "x_tuple = (1, 2 ,3 ,4 ,5)\n",
    "print(f'{x_tuple[-2:-5:-1] = }')\n",
    "print(f'{x_tuple[-2:-5:-2] = }')  # step 변형\n",
    "print(f'{x_tuple[-2:-5] = }')  # step 제거"
   ]
  },
  {
   "cell_type": "code",
   "execution_count": 16,
   "metadata": {},
   "outputs": [
    {
     "name": "stdout",
     "output_type": "stream",
     "text": [
      "x_dict = {'name': ['김홍익', '이파이'], 'id': [12345, 67890, True, 'Hello world']} \t-> x_dict[\"id\"][-2::-2] = [True, 12345]\n"
     ]
    }
   ],
   "source": [
    "# dict 슬라이싱 응용 테스트 (미션: [True, 12345] 출력하기)\n",
    "x_dict = {'name': ['김홍익', '이파이'], 'id':[12345, 67890, True, 'Hello world']}\n",
    "print(f'{x_dict = } \\t-> {x_dict[\"id\"][-2::-2] = }')"
   ]
  },
  {
   "cell_type": "markdown",
   "metadata": {},
   "source": [
    "## 3. 얕은 복사와 깊은 복사"
   ]
  },
  {
   "cell_type": "markdown",
   "metadata": {},
   "source": [
    "- immutable(int, float, str, tuple 등) 객체: 복사 종류 무관"
   ]
  },
  {
   "cell_type": "code",
   "execution_count": 17,
   "metadata": {},
   "outputs": [
    {
     "name": "stdout",
     "output_type": "stream",
     "text": [
      "x = (1, 2, 3) \t-> id(x) = 4428268096\n",
      "y = (1, 2, 3) \t-> id(y) = 4428268096\n"
     ]
    }
   ],
   "source": [
    "# 객체 복사 시 기본적으로 원본 객체의 주소가 복사(공유)됨\n",
    "# x와 y의 메모리 주소가 같다\n",
    "x = (1,2,3)\n",
    "y = x\n",
    "print(f'{x = } \\t-> {id(x) = }')\n",
    "print(f'{y = } \\t-> {id(y) = }')"
   ]
  },
  {
   "cell_type": "code",
   "execution_count": 18,
   "metadata": {},
   "outputs": [
    {
     "name": "stdout",
     "output_type": "stream",
     "text": [
      "x = (1, 2, 3) \t-> id(x) = 4428268096\n",
      "y = (1, 20, 3) \t-> id(y) = 4428229952\n"
     ]
    }
   ],
   "source": [
    "# 원소 변경이 불가하므로 원소(객체) 변경 시 새로운 객체를 변수에 다시 할당\n",
    "# 새로운 객체로 할당하므로 x의 원소와는 상관이 없음\n",
    "y = (1,20,3)\n",
    "print(f'{x = } \\t-> {id(x) = }')\n",
    "print(f'{y = } \\t-> {id(y) = }')"
   ]
  },
  {
   "cell_type": "markdown",
   "metadata": {},
   "source": [
    "- mutable(list, set 등) 객체: 복사 종류가 중요"
   ]
  },
  {
   "cell_type": "code",
   "execution_count": 19,
   "metadata": {},
   "outputs": [
    {
     "name": "stdout",
     "output_type": "stream",
     "text": [
      "x = [1, 2, 3] \t-> id(x) = 4428411904\n",
      "y = [1, 2, 3] \t-> id(y) = 4428411904\n"
     ]
    }
   ],
   "source": [
    "# 객체 복사 시 기본적으로 원본 객체의 주소가 복사(공유)됨\n",
    "x = [1,2,3]\n",
    "y = x\n",
    "print(f'{x = } \\t-> {id(x) = }')\n",
    "print(f'{y = } \\t-> {id(y) = }')"
   ]
  },
  {
   "cell_type": "code",
   "execution_count": 20,
   "metadata": {},
   "outputs": [
    {
     "name": "stdout",
     "output_type": "stream",
     "text": [
      "x = [1, 20, 3] \t-> id(x) = 4428411904\n",
      "y = [1, 20, 3] \t-> id(y) = 4428411904\n"
     ]
    }
   ],
   "source": [
    "# 원소 변경 가능한 객체이므로 기존 객체 내에서 변경\n",
    "# 한 변수의 원소 변경 시 다른 변수의 원소도 자동 변경됨\n",
    "y[1] = 20\n",
    "print(f'{x = } \\t-> {id(x) = }')\n",
    "print(f'{y = } \\t-> {id(y) = }')"
   ]
  },
  {
   "cell_type": "code",
   "execution_count": 21,
   "metadata": {},
   "outputs": [
    {
     "name": "stdout",
     "output_type": "stream",
     "text": [
      "x = [1, 2, 3] \t-> id(x) = 4428363584\n",
      "y = [1, 2, 3] \t-> id(y) = 4428233728\n"
     ]
    }
   ],
   "source": [
    "# 이를 막기 위해 깊은복사를 사용(두 변수의 원소가 다른 주소를 갖게 함)\n",
    "# x와 y의 메모리 주소가 다르다\n",
    "x = [1,2,3]\n",
    "y = x.copy()\n",
    "print(f'{x = } \\t-> {id(x) = }')\n",
    "print(f'{y = } \\t-> {id(y) = }')"
   ]
  },
  {
   "cell_type": "code",
   "execution_count": 22,
   "metadata": {},
   "outputs": [
    {
     "name": "stdout",
     "output_type": "stream",
     "text": [
      "x = [1, 2, 3] \t-> id(x) = 4428363584\n",
      "y = [1, 20, 3] \t-> id(y) = 4428233728\n"
     ]
    }
   ],
   "source": [
    "y[1] = 20\n",
    "print(f'{x = } \\t-> {id(x) = }')\n",
    "print(f'{y = } \\t-> {id(y) = }')"
   ]
  },
  {
   "cell_type": "markdown",
   "metadata": {},
   "source": [
    "### 응용 및 추가학습"
   ]
  },
  {
   "cell_type": "code",
   "execution_count": 23,
   "metadata": {},
   "outputs": [
    {
     "name": "stdout",
     "output_type": "stream",
     "text": [
      "x = {0, 2, 3, 4} \t-> id(x) = 4428465312\n",
      "y = {0, 2, 3, 4} \t-> id(y) = 4428465312\n"
     ]
    }
   ],
   "source": [
    "# set 객체 얕은복사 테스트(set은 인덱싱이 불가하므로 원소 제거 후 추가)\n",
    "x = {1,2,3,4}\n",
    "y = x\n",
    "x.discard(1) \n",
    "x.add(0)\n",
    "print(f'{x = } \\t-> {id(x) = }')\n",
    "print(f'{y = } \\t-> {id(y) = }')"
   ]
  },
  {
   "cell_type": "code",
   "execution_count": 24,
   "metadata": {},
   "outputs": [
    {
     "name": "stdout",
     "output_type": "stream",
     "text": [
      "x = {0, 2, 3, 4} \t-> id(x) = 4428464192\n",
      "y = {1, 2, 3, 4} \t-> id(y) = 4428466656\n"
     ]
    }
   ],
   "source": [
    "# set 객체 깊은복사 테스트(set은 인덱싱이 불가하므로 원소 제거 후 추가)\n",
    "x = {1,2,3,4}\n",
    "y = x.copy()\n",
    "x.discard(1) \n",
    "x.add(0)\n",
    "print(f'{x = } \\t-> {id(x) = }')\n",
    "print(f'{y = } \\t-> {id(y) = }')"
   ]
  },
  {
   "cell_type": "markdown",
   "metadata": {},
   "source": [
    "## 4. 리스트 (list)와 튜플 (tuple)\n",
    "- list는 mutable(원소 수정 가능), tuple은 immutable(원소 수정 불가) "
   ]
  },
  {
   "cell_type": "code",
   "execution_count": 25,
   "metadata": {},
   "outputs": [
    {
     "name": "stdout",
     "output_type": "stream",
     "text": [
      "x_list는 <class 'list'>이고, x_tuple은 <class 'tuple'>이다.\n"
     ]
    }
   ],
   "source": [
    "x_list = [1,2,3,4,5]\n",
    "x_tuple = (1,2,3,4,5)\n",
    "print(f'x_list는 {type(x_list)}이고, x_tuple은 {type(x_tuple)}이다.')"
   ]
  },
  {
   "cell_type": "code",
   "execution_count": 26,
   "metadata": {},
   "outputs": [
    {
     "name": "stdout",
     "output_type": "stream",
     "text": [
      "Before: x_list = [1, 2, 3, 4, 5]\n",
      "After : x_list = [1, '2', 3, 5]\n"
     ]
    }
   ],
   "source": [
    "# x_list의 원소 변경\n",
    "print(f'Before: {x_list = }')\n",
    "try:\n",
    "    x_list[1] = '2'\n",
    "    del x_list[3]\n",
    "except TypeError as e:\n",
    "    print(f'Error : {e}')\n",
    "print(f'After : {x_list = }')"
   ]
  },
  {
   "cell_type": "code",
   "execution_count": 27,
   "metadata": {},
   "outputs": [
    {
     "name": "stdout",
     "output_type": "stream",
     "text": [
      "Before: x_tuple = (1, 2, 3, 4, 5)\n",
      "Error : 'tuple' object does not support item assignment\n",
      "Error : 'tuple' object doesn't support item deletion\n",
      "After : x_tuple = (1, 2, 3, 4, 5)\n"
     ]
    }
   ],
   "source": [
    "# x_tuple의 원소 변경\n",
    "print(f'Before: {x_tuple = }')\n",
    "try:\n",
    "    x_tuple[1] = '2'\n",
    "except TypeError as e:\n",
    "    print(f'Error : {e}')\n",
    "try:\n",
    "    del x_tuple[3]\n",
    "except TypeError as e:\n",
    "    print(f'Error : {e}')\n",
    "print(f'After : {x_tuple = }')"
   ]
  },
  {
   "cell_type": "markdown",
   "metadata": {},
   "source": [
    "### list와 tuple 다루기 (내장함수 이용)"
   ]
  },
  {
   "cell_type": "code",
   "execution_count": 28,
   "metadata": {},
   "outputs": [
    {
     "name": "stdout",
     "output_type": "stream",
     "text": [
      "len(x_list) = 5\n",
      "sum(x_list) = 10\n",
      "min(x_list) = 0\n",
      "max(x_list) = 4\n",
      "sorted(x_list) = [0, 1, 2, 3, 4]\n",
      "sorted(x_list, reverse=True) = [4, 3, 2, 1, 0]\n",
      "all(x_list) = False\n",
      "any(x_list) = True\n"
     ]
    }
   ],
   "source": [
    "x_list = [0,1,2,3,4]\n",
    "print(f'{len(x_list) = }')  # 원소 개수(길이) 출력\n",
    "print(f'{sum(x_list) = }')  # 원소들의 합 출력\n",
    "print(f'{min(x_list) = }')  # 원소들 중 최솟값 출력\n",
    "print(f'{max(x_list) = }')  # 원소들 중 최댓값 출력\n",
    "print(f'{sorted(x_list) = }')  # 원소들을 오름차순 정렬해 출력\n",
    "print(f'{sorted(x_list, reverse=True) = }')  # 원소들을 내림차순 정렬해 출력\n",
    "print(f'{all(x_list) = }')  # 모든 원소가 참이면(0이 아니면) True, 아니면 False 출력\n",
    "print(f'{any(x_list) = }')  # 원소들 중 하나라도 참이면(0이 아니면) True, 아니면 False 출력"
   ]
  },
  {
   "cell_type": "markdown",
   "metadata": {},
   "source": [
    "### list와 tuple 다루기 (객체 메소드 이용)"
   ]
  },
  {
   "cell_type": "code",
   "execution_count": null,
   "metadata": {},
   "outputs": [
    {
     "name": "stdout",
     "output_type": "stream",
     "text": [
      "['__add__', '__class__', '__class_getitem__', '__contains__', '__delattr__', '__delitem__', '__dir__', '__doc__', '__eq__', '__format__', '__ge__', '__getattribute__', '__getitem__', '__getstate__', '__gt__', '__hash__', '__iadd__', '__imul__', '__init__', '__init_subclass__', '__iter__', '__le__', '__len__', '__lt__', '__mul__', '__ne__', '__new__', '__reduce__', '__reduce_ex__', '__repr__', '__reversed__', '__rmul__', '__setattr__', '__setitem__', '__sizeof__', '__str__', '__subclasshook__', 'append', 'clear', 'copy', 'count', 'extend', 'index', 'insert', 'pop', 'remove', 'reverse', 'sort']\n",
      "================================================================================\n",
      "['__add__', '__class__', '__class_getitem__', '__contains__', '__delattr__', '__dir__', '__doc__', '__eq__', '__format__', '__ge__', '__getattribute__', '__getitem__', '__getnewargs__', '__getstate__', '__gt__', '__hash__', '__init__', '__init_subclass__', '__iter__', '__le__', '__len__', '__lt__', '__mul__', '__ne__', '__new__', '__reduce__', '__reduce_ex__', '__repr__', '__rmul__', '__setattr__', '__sizeof__', '__str__', '__subclasshook__', 'count', 'index']\n"
     ]
    }
   ],
   "source": [
    "# x_list의 메소드 확인\n",
    "print(dir(x_list), end='\\n'+'='*80+'\\n')\n",
    "# x_tuple의 메소드 확인(x_list보다 적음)\n",
    "print(dir(x_tuple))"
   ]
  },
  {
   "cell_type": "code",
   "execution_count": null,
   "metadata": {},
   "outputs": [
    {
     "name": "stdout",
     "output_type": "stream",
     "text": [
      "x_list = [1, 2, 3, 4, 5, 2, 3, 2]\n",
      "x_list.count(2) = 3\n",
      "x_list.index(2) = 1\n"
     ]
    }
   ],
   "source": [
    "# count, index 메소드\n",
    "x_list = [1,2,3,4,5,2,3,2]\n",
    "print(f'{x_list = }')\n",
    "print(f'{x_list.count(2) = }') # 2의 개수를 반환\n",
    "print(f'{x_list.index(2) = }') # 2의 인덱스(첫번째)를 반환"
   ]
  },
  {
   "cell_type": "code",
   "execution_count": null,
   "metadata": {},
   "outputs": [
    {
     "name": "stdout",
     "output_type": "stream",
     "text": [
      "y_list = [1, 2, 3, 4, 5, 2, 3, 2]\n",
      "x_list is y_list = False\n",
      "id(x_list) = 4428413440, id(y_list) = 4428415360\n"
     ]
    }
   ],
   "source": [
    "# copy 메소드\n",
    "y_list = x_list.copy() # 주소값이 아닌 값 자체를 복사(깊은 복사: 두 객체가 다른 주소)\n",
    "print(f'{y_list = }')\n",
    "print(f'{x_list is y_list = }')\n",
    "print(f'{id(x_list) = }, {id(y_list) = }')"
   ]
  },
  {
   "cell_type": "code",
   "execution_count": 32,
   "metadata": {},
   "outputs": [
    {
     "name": "stdout",
     "output_type": "stream",
     "text": [
      "x_list = [2, 3, 2, 5, 4, 3, 2, 1]\n",
      "x_list = [1, 2, 2, 2, 3, 3, 4, 5]\n",
      "x_list = [1, 2, 2, 2, 3, 3, 4, 5, 6]\n",
      "x_list = [1, 2, 2, 2, 3, 3, 4, 5, 6, 7, 8, 9]\n",
      "x_list = [1, 2, 2, 2, 3, 3, 4, 5, 6, 7, 8, 9, [10, 11, 12]]\n",
      "x_list = [1, 2, 2, 3.5, 2, 3, 3, 4, 5, 6, 7, 8, 9, [10, 11, 12]]\n",
      "x_list = [1, 2, 2, 2, 3, 3, 4, 5, 6, 7, 8, 9, [10, 11, 12]]\n",
      "x_list = [1, 2, 2, 2, 3, 3, 4, 5, 6, 7, 8, 9]\n",
      "x_list = [1, 2, 2, 2, 3, 3, 4, 6, 7, 8, 9]\n"
     ]
    }
   ],
   "source": [
    "# reverse, sort, append, extend, insert, remove, pop 메소드\n",
    "x_list.reverse() # 원소를 역순으로 변경\n",
    "print(f'{x_list = }')\n",
    "x_list.sort() # 원소를 오름차순으로 정렬\n",
    "print(f'{x_list = }')\n",
    "x_list.append(6) # 맨 뒤에 원소 6 추가\n",
    "print(f'{x_list = }')\n",
    "x_list.extend([7,8,9]) # list [7,8,9]를 뒤에 연결\n",
    "print(f'{x_list = }')\n",
    "x_list.append([10,11,12]) # 맨 뒤에 list [10,11,12] 추가\n",
    "print(f'{x_list = }')\n",
    "x_list.insert(3,3.5) # 인덱스 3의 원소를 3.5로 교체\n",
    "print(f'{x_list = }')\n",
    "x_list.remove(3.5) # 원소 3.5를 삭제\n",
    "print(f'{x_list = }')\n",
    "x_list.pop() # 마지막 인덱스의 원소 삭제\n",
    "print(f'{x_list = }')\n",
    "x_list.pop(7) # 인덱스 7의 원소 삭제\n",
    "print(f'{x_list = }')"
   ]
  },
  {
   "cell_type": "code",
   "execution_count": 33,
   "metadata": {},
   "outputs": [
    {
     "name": "stdout",
     "output_type": "stream",
     "text": [
      "x_list = [2, 2, 2, 3, 3, 4, 6, 7, 8, 9], x_pop = 1\n"
     ]
    }
   ],
   "source": [
    "# pop 메소드로 원소 삭제 후 변수에 할당\n",
    "x_pop = x_list.pop(0)\n",
    "print(f'{x_list = }, {x_pop = }')"
   ]
  },
  {
   "cell_type": "code",
   "execution_count": 34,
   "metadata": {},
   "outputs": [
    {
     "name": "stdout",
     "output_type": "stream",
     "text": [
      "x_list = []\n"
     ]
    }
   ],
   "source": [
    "# clear 메소드\n",
    "x_list.clear()\n",
    "print(f'{x_list = }')"
   ]
  },
  {
   "cell_type": "code",
   "execution_count": 35,
   "metadata": {},
   "outputs": [
    {
     "name": "stdout",
     "output_type": "stream",
     "text": [
      "Error : name 'x_list' is not defined\n"
     ]
    }
   ],
   "source": [
    "# x_list 삭제\n",
    "del x_list\n",
    "try:\n",
    "    print(f'{x_list = }')\n",
    "except NameError as e:\n",
    "    print(f'Error : {e}')"
   ]
  },
  {
   "cell_type": "markdown",
   "metadata": {},
   "source": [
    "### 응용 및 추가학습"
   ]
  },
  {
   "cell_type": "code",
   "execution_count": null,
   "metadata": {},
   "outputs": [
    {
     "name": "stdout",
     "output_type": "stream",
     "text": [
      "z_list = [1, 2, 3, 5]\n",
      "z_list = [1, 2, 3, 5]\n"
     ]
    }
   ],
   "source": [
    "# 키워드, 메소드 간 기능 비교 \n",
    "z_list = [1,2,3,4,5]\n",
    "del z_list[3]  # 키워드 이용\n",
    "print(f'{z_list = }')\n",
    "\n",
    "z_list = [1,2,3,4,5]\n",
    "z_list.pop(3)  # 메소드 이용\n",
    "print(f'{z_list = }')"
   ]
  },
  {
   "cell_type": "code",
   "execution_count": 3,
   "metadata": {},
   "outputs": [
    {
     "name": "stdout",
     "output_type": "stream",
     "text": [
      "z_list = [1, 2, 3, 4, 5]\n",
      "z_list = [1, 2, 3, 4, 5]\n"
     ]
    }
   ],
   "source": [
    "# 내장함수, 메소드 간 기능 비교\n",
    "z_list = [1,2,3,4,5]\n",
    "sorted(z_list)  # 내장함수 이용\n",
    "print(f'{z_list = }')\n",
    "z_list.sort()  # 메소드 이용\n",
    "print(f'{z_list = }')"
   ]
  },
  {
   "cell_type": "code",
   "execution_count": 19,
   "metadata": {},
   "outputs": [
    {
     "name": "stdout",
     "output_type": "stream",
     "text": [
      "z_list = [1, 2, 3, 4, 0, 5]\n",
      "Error : list.append() takes exactly one argument (3 given)\n",
      "Error : 'int' object is not iterable\n"
     ]
    }
   ],
   "source": [
    "# list 다루기 응용 테스트\n",
    "z_list = [1,2,3,4,5]\n",
    "z_list.insert(-1,0)  # 역방향 insert\n",
    "print(f'{z_list = }')\n",
    "\n",
    "z_list = [1,2,3,4,5]\n",
    "try:\n",
    "    print(f'{z_list.append(10,11,12) = }')  # 여러개 원소를 append\n",
    "except TypeError as e:\n",
    "    print(f'Error : {e}')\n",
    "\n",
    "z_list = [1,2,3,4,5]\n",
    "try:\n",
    "    print(f'{z_list.extend(10) = }')  # 원소를 extend\n",
    "except TypeError as e:\n",
    "    print(f'Error : {e}')  "
   ]
  },
  {
   "cell_type": "markdown",
   "metadata": {},
   "source": [
    "## 5. 문자열 (String)"
   ]
  },
  {
   "cell_type": "code",
   "execution_count": 1,
   "metadata": {},
   "outputs": [
    {
     "name": "stdout",
     "output_type": "stream",
     "text": [
      "Hello Python! My name is Python. I am a Python Developer.\n"
     ]
    }
   ],
   "source": [
    "string1 = \"Hello Python! My name is Python. I am a Python Developer.\"\n",
    "print(string1)"
   ]
  },
  {
   "cell_type": "code",
   "execution_count": 2,
   "metadata": {},
   "outputs": [
    {
     "name": "stdout",
     "output_type": "stream",
     "text": [
      "Hello Python! My name is python. I am a Python Developer.\n"
     ]
    }
   ],
   "source": [
    "string2 = 'Hello Python! My name is python. I am a Python Developer.'\n",
    "print(string2)"
   ]
  },
  {
   "cell_type": "code",
   "execution_count": null,
   "metadata": {},
   "outputs": [
    {
     "name": "stdout",
     "output_type": "stream",
     "text": [
      "Hello Python!\n",
      "My name is Python.\n",
      "I am a Python Developer.\n",
      "\n"
     ]
    }
   ],
   "source": [
    "# 따옴표 3개로 둘러싸면 여러줄 작성 가능\n",
    "string3 = \"\"\"Hello Python!\n",
    "My name is Python.\n",
    "I am a Python Developer.\n",
    "\"\"\"\n",
    "print(string3)"
   ]
  },
  {
   "cell_type": "code",
   "execution_count": 4,
   "metadata": {},
   "outputs": [
    {
     "name": "stdout",
     "output_type": "stream",
     "text": [
      "Hello Python!\n",
      "My name is Python.\n",
      "I am a Python Developer.\n",
      "\n"
     ]
    }
   ],
   "source": [
    "string4 = '''Hello Python!\n",
    "My name is Python.\n",
    "I am a Python Developer.\n",
    "'''\n",
    "print(string4)"
   ]
  },
  {
   "cell_type": "markdown",
   "metadata": {},
   "source": [
    "### 이스케이프 문자"
   ]
  },
  {
   "cell_type": "code",
   "execution_count": null,
   "metadata": {},
   "outputs": [
    {
     "name": "stdout",
     "output_type": "stream",
     "text": [
      "Hello \tPython! \n",
      "My \tname \tis \tPython. \n",
      "I \tam \ta \tPython \tDeveloper.\n"
     ]
    }
   ],
   "source": [
    "string = \"Hello \\tPython! \\nMy \\tname \\tis \\tPython. \\nI \\tam \\ta \\tPython \\tDeveloper.\"\n",
    "print(string)"
   ]
  },
  {
   "cell_type": "code",
   "execution_count": 8,
   "metadata": {},
   "outputs": [
    {
     "name": "stdout",
     "output_type": "stream",
     "text": [
      "Hello \t\\Python\\! \n",
      "My \tname \tis \t'Python'!. \n",
      "I \tam \ta \t\"Python\" \tDeveloper.\n"
     ]
    }
   ],
   "source": [
    "string = 'Hello \\t\\\\Python\\\\! \\nMy \\tname \\tis \\t\\'Python\\'!. \\nI \\tam \\ta \\t\\\"Python\\\" \\tDeveloper.'\n",
    "print(string)"
   ]
  },
  {
   "cell_type": "markdown",
   "metadata": {},
   "source": [
    "### r-string과 f-string"
   ]
  },
  {
   "cell_type": "code",
   "execution_count": 9,
   "metadata": {},
   "outputs": [
    {
     "name": "stdout",
     "output_type": "stream",
     "text": [
      "Hello \\t\\\\Python\\\\! \\nMy \\tname \\tis \\t\\'Python\\'!. \\nI \\tam \\ta \\t\\\"Python\\\" \\tDeveloper.\n"
     ]
    }
   ],
   "source": [
    "# r-string (문자열 앞에 r을 붙이면 이스케이프 문자 무시)\n",
    "string_r = r'Hello \\t\\\\Python\\\\! \\nMy \\tname \\tis \\t\\'Python\\'!. \\nI \\tam \\ta \\t\\\"Python\\\" \\tDeveloper.'\n",
    "print(string_r)"
   ]
  },
  {
   "cell_type": "code",
   "execution_count": 10,
   "metadata": {},
   "outputs": [
    {
     "name": "stdout",
     "output_type": "stream",
     "text": [
      "Hello Python! My name is Python. I am a Python Developer.\n"
     ]
    }
   ],
   "source": [
    "# f-string (문자열 앞에 f를 붙이면 내부에 변수 사용 가능)\n",
    "name = 'Python'\n",
    "string_f = f'Hello {name}! My name is {name}. I am a {name} Developer.'\n",
    "print(string_f)"
   ]
  },
  {
   "cell_type": "markdown",
   "metadata": {},
   "source": [
    "### string의 인덱싱과 슬라이싱"
   ]
  },
  {
   "cell_type": "code",
   "execution_count": 12,
   "metadata": {},
   "outputs": [
    {
     "name": "stdout",
     "output_type": "stream",
     "text": [
      "\n",
      "==== 인덱싱(포인트) ====\n",
      "string[0]='H'\n",
      "string[3]='l'\n",
      "string[-1]='.'\n",
      "string[-3]='e'\n",
      "==== 슬라이싱(구간) ====\n",
      "string[0:5]='Hello'\n",
      "string[6:12]='Python'\n",
      "string[:5]='Hello'\n",
      "string[6:]='Python! My name is Python. I am a Python Developer.'\n",
      "string[6:-1]='Python! My name is Python. I am a Python Developer'\n",
      "string[6:-3]='Python! My name is Python. I am a Python Develop'\n",
      "==== 스텝(간격) ====\n",
      "- 인덱스 6부터 2칸식 12까지\n",
      "string[6:12:2]='Pto'\n",
      "- 처음부터 끝까지 2칸씩\n",
      "string[::2]='HloPto!M aei yhn  maPto eeoe.'\n",
      "- 처음부터 끝가지 거꾸로 1칸씩\n",
      "string[::-1]='.repoleveD nohtyP a ma I .nohtyP si eman yM !nohtyP olleH'\n",
      "\n"
     ]
    }
   ],
   "source": [
    "string = \"Hello Python! My name is Python. I am a Python Developer.\"\n",
    "print(f'''\n",
    "==== 인덱싱(포인트) ====\n",
    "{string[0]=}\n",
    "{string[3]=}\n",
    "{string[-1]=}\n",
    "{string[-3]=}\n",
    "==== 슬라이싱(구간) ====\n",
    "{string[0:5]=}\n",
    "{string[6:12]=}\n",
    "{string[:5]=}\n",
    "{string[6:]=}\n",
    "{string[6:-1]=}\n",
    "{string[6:-3]=}\n",
    "==== 스텝(간격) ====\n",
    "- 인덱스 6부터 2칸식 12까지\n",
    "{string[6:12:2]=}\n",
    "- 처음부터 끝까지 2칸씩\n",
    "{string[::2]=}\n",
    "- 처음부터 끝가지 거꾸로 1칸씩\n",
    "{string[::-1]=}\n",
    "''')"
   ]
  },
  {
   "cell_type": "markdown",
   "metadata": {},
   "source": [
    "### string의 연산"
   ]
  },
  {
   "cell_type": "code",
   "execution_count": 14,
   "metadata": {},
   "outputs": [
    {
     "name": "stdout",
     "output_type": "stream",
     "text": [
      "Hello Python! My name is Python. I am a Python Developer.\n"
     ]
    }
   ],
   "source": [
    "string = \"Hello Python! \" + \"My name is Python. \" + \"I am a Python Developer.\"\n",
    "print(string)"
   ]
  },
  {
   "cell_type": "code",
   "execution_count": 15,
   "metadata": {},
   "outputs": [
    {
     "name": "stdout",
     "output_type": "stream",
     "text": [
      "Hello Python! Hello Python! Hello Python! \n"
     ]
    }
   ],
   "source": [
    "string = \"Hello Python! \" * 3\n",
    "print(string)"
   ]
  },
  {
   "cell_type": "markdown",
   "metadata": {},
   "source": [
    "### string 관련 함수"
   ]
  },
  {
   "cell_type": "code",
   "execution_count": null,
   "metadata": {},
   "outputs": [
    {
     "name": "stdout",
     "output_type": "stream",
     "text": [
      "22\n",
      "True\n",
      "True\n"
     ]
    }
   ],
   "source": [
    "string = \"2024_바이오헬스 교과목 목록.xlsx\"\n",
    "print(len(string))  # string의 길이 반환\n",
    "print('2024' in string)  # string에 2024가 포함되어 있는지 확인\n",
    "print('csv' not in string)  # string에 'csv'가 포함되어 있지 않은지 확인"
   ]
  },
  {
   "cell_type": "markdown",
   "metadata": {},
   "source": [
    "### 응용 및 추가학습"
   ]
  },
  {
   "cell_type": "code",
   "execution_count": null,
   "metadata": {},
   "outputs": [
    {
     "name": "stdout",
     "output_type": "stream",
     "text": [
      "Hello Python!\n",
      "My name is Python.\n",
      "I am a Python Developer.\n",
      "\n",
      "Hello Python! \n",
      "My name is Python. \n",
      "I am a Python Developer\n"
     ]
    }
   ],
   "source": [
    "# 이스케이프 문자와 삼중 따옴표로 동일 결과 출력하기\n",
    "string4 = '''Hello Python!\n",
    "My name is Python.\n",
    "I am a Python Developer.\n",
    "'''\n",
    "print(string4)\n",
    "string_x = 'Hello Python! \\nMy name is Python. \\nI am a Python Developer'\n",
    "print(string_x)"
   ]
  },
  {
   "cell_type": "code",
   "execution_count": null,
   "metadata": {},
   "outputs": [
    {
     "name": "stdout",
     "output_type": "stream",
     "text": [
      "\n",
      "\n",
      "\n",
      "re\n",
      "oll\n"
     ]
    }
   ],
   "source": [
    "# string의 인덱싱/슬라이싱/스텝 응용 테스트\n",
    "string_x = 'Hello Python! \\nMy name is Python. \\nI am a Python Developer'\n",
    "print(string_x[14])  # 예상 출력값: M 또는 빈칸(줄바꿈) 또는 \\ 또는 \\n\n",
    "print(string_x[-1:-3])  # 예상 출력값: re 또는 빈칸\n",
    "print(string_x[-1:-3:-1])  # 예상 출력값: re\n",
    "print(string_x[4:1:-1])  # 예상 출력값: oll"
   ]
  },
  {
   "cell_type": "markdown",
   "metadata": {},
   "source": [
    "- 배운점: \\n은 string에서 하나의 문자로 인식되며 print 시 줄바꾼 빈칸으로 출력됨 "
   ]
  },
  {
   "cell_type": "code",
   "execution_count": null,
   "metadata": {},
   "outputs": [
    {
     "name": "stdout",
     "output_type": "stream",
     "text": [
      "n\n",
      "Py\n"
     ]
    }
   ],
   "source": [
    "# f-string의 인덱싱/슬라이싱 테스트\n",
    "name = 'Python'\n",
    "string_5 = f'My name is {name}.'\n",
    "print(string_5[-2])  # 예상 출력값: n\n",
    "print(string_5[11:13])  # 예상 출력값: Py"
   ]
  },
  {
   "cell_type": "markdown",
   "metadata": {},
   "source": [
    "## 6. 딕셔너리 (dict)"
   ]
  },
  {
   "cell_type": "markdown",
   "metadata": {},
   "source": [
    "### dict의 생성 및 선언"
   ]
  },
  {
   "cell_type": "code",
   "execution_count": null,
   "metadata": {},
   "outputs": [
    {
     "name": "stdout",
     "output_type": "stream",
     "text": [
      "my_dict1 = {}\n",
      "my_dict2 = {}\n"
     ]
    }
   ],
   "source": [
    "my_dict1 = {}  # 중괄호로 생성\n",
    "my_dict2 = dict()  # 내장함수로 생성\n",
    "print(f'{my_dict1 = }\\n{my_dict2 = }')"
   ]
  },
  {
   "cell_type": "code",
   "execution_count": null,
   "metadata": {},
   "outputs": [
    {
     "name": "stdout",
     "output_type": "stream",
     "text": [
      "my_dict1 = {'name': 'Max', 'age': 28, 'city': 'New York'}\n",
      "my_dict2 = {'name': 'Max', 'age': 28, 'city': 'New York'}\n",
      "my_dict3 = {'name': 'Max', 'age': 28, 'city': 'New York'}\n"
     ]
    }
   ],
   "source": [
    "# 중괄호로 생성시 key:value 형태\n",
    "my_dict1 = {'name': 'Max', 'age': 28, 'city': 'New York'}  \n",
    "# 내장함수로 생성시 key=value 형태\n",
    "my_dict2 = dict(name='Max', age=28, city='New York') \n",
    "# 내장함수를 이용한 (key,value) tuple list의 dict 변환\n",
    "my_dict3 = dict([('name', 'Max'), ('age', 28), ('city', 'New York')])  \n",
    "\n",
    "print(f'{my_dict1 = }\\n{my_dict2 = }\\n{my_dict3 = }')"
   ]
  },
  {
   "cell_type": "code",
   "execution_count": null,
   "metadata": {},
   "outputs": [
    {
     "name": "stdout",
     "output_type": "stream",
     "text": [
      "my_dict4 = {'name': 'Max', 'age': 28, 'city': 'New York'}\n"
     ]
    }
   ],
   "source": [
    "# list를 zip으로 묶어 dict로 변환\n",
    "person_keys = ['name', 'age', 'city']\n",
    "person_values = ['Max', 28, 'New York']\n",
    "my_dict4 = dict(zip(person_keys, person_values))\n",
    "print(f'{my_dict4 = }')"
   ]
  },
  {
   "cell_type": "code",
   "execution_count": 6,
   "metadata": {},
   "outputs": [
    {
     "name": "stdout",
     "output_type": "stream",
     "text": [
      "my_dict_dict = {'A': {'name': 'Max', 'age': 28, 'city': 'New York'}, 'B': {'name': 'Mary', 'age': 22, 'city': 'Seoul'}}\n"
     ]
    }
   ],
   "source": [
    "# value가 dict인 dict 생성\n",
    "my_dict_dict = {'A': {'name': 'Max', 'age': 28, 'city': 'New York'},\n",
    "                'B': {'name': 'Mary', 'age': 22, 'city': 'Seoul'}}\n",
    "print(f'{my_dict_dict = }')"
   ]
  },
  {
   "cell_type": "code",
   "execution_count": 8,
   "metadata": {},
   "outputs": [
    {
     "name": "stdout",
     "output_type": "stream",
     "text": [
      "{'A': {'age': 28, 'city': 'New York', 'name': 'Max'},\n",
      " 'B': {'age': 22, 'city': 'Seoul', 'name': 'Mary'}}\n"
     ]
    }
   ],
   "source": [
    "# pprint() 함수를 이용한 dict 출력\n",
    "from pprint import pprint\n",
    "pprint(my_dict_dict)"
   ]
  },
  {
   "cell_type": "markdown",
   "metadata": {},
   "source": [
    "### dict 살펴보기 "
   ]
  },
  {
   "cell_type": "code",
   "execution_count": null,
   "metadata": {},
   "outputs": [
    {
     "name": "stdout",
     "output_type": "stream",
     "text": [
      "my_dict1 = {'name': 'Max', 'age': 28, 'city': 'New York'}\n",
      "type(my_dict1) = <class 'dict'>\n",
      "len(my_dict1) = 3\n",
      "True\n",
      "False\n"
     ]
    }
   ],
   "source": [
    "print(f'{my_dict1 = }')\n",
    "print(f'{type(my_dict1) = }')  \n",
    "print(f'{len(my_dict1) = }')  # dict 길이(key의 개수) 확인\n",
    "print(\"name\" in my_dict1)  # key 존재 여부 확인\n",
    "print(\"Max\" in my_dict1)  # value 존재 여부는 in을 통해 확인 불가"
   ]
  },
  {
   "cell_type": "code",
   "execution_count": null,
   "metadata": {},
   "outputs": [
    {
     "name": "stdout",
     "output_type": "stream",
     "text": [
      "my_dict1[\"name\"] = 'Max'\n",
      "KeyError: 'name2'\n"
     ]
    }
   ],
   "source": [
    "print(f'{my_dict1[\"name\"] = }')  # key로 value 확인\n",
    "try:\n",
    "    print(f'{my_dict1[\"name2\"] = }')  # key가 없으면 에러 발생\n",
    "except KeyError as e:\n",
    "    print(f'KeyError: {e}')"
   ]
  },
  {
   "cell_type": "code",
   "execution_count": 12,
   "metadata": {},
   "outputs": [
    {
     "name": "stdout",
     "output_type": "stream",
     "text": [
      "my_dict_dict[\"A\"][\"name\"] = 'Max'\n"
     ]
    }
   ],
   "source": [
    "# 이중 dict 값의 확인\n",
    "print(f'{my_dict_dict[\"A\"][\"name\"] = }')"
   ]
  },
  {
   "cell_type": "code",
   "execution_count": null,
   "metadata": {},
   "outputs": [
    {
     "name": "stdout",
     "output_type": "stream",
     "text": [
      "my_dict1.get(\"name\") = 'Max'\n",
      "my_dict1.get(\"name2\") = None\n",
      "my_dict1.get(\"name2\", \"replacement\") = 'replacement'\n"
     ]
    }
   ],
   "source": [
    "# get 메소드로 에러 회피\n",
    "print(f'{my_dict1.get(\"name\") = }')  # key로 value 확인\n",
    "print(f'{my_dict1.get(\"name2\") = }')  # key가 없으면 None 반환(에러 미발생)\n",
    "print(f'{my_dict1.get(\"name2\", \"replacement\") = }')  # key가 없으면 대체값 반환"
   ]
  },
  {
   "cell_type": "code",
   "execution_count": 14,
   "metadata": {},
   "outputs": [
    {
     "name": "stdout",
     "output_type": "stream",
     "text": [
      "my_dict1.keys() = dict_keys(['name', 'age', 'city'])\n",
      "my_dict1.values() = dict_values(['Max', 28, 'New York'])\n",
      "my_dict1.items() = dict_items([('name', 'Max'), ('age', 28), ('city', 'New York')])\n"
     ]
    }
   ],
   "source": [
    "# keys, values, items 메소드\n",
    "print(f'{my_dict1.keys() = }')  # key 목록 가져오기\n",
    "print(f'{my_dict1.values() = }')  # value 목록 가져오기\n",
    "print(f'{my_dict1.items() = }')  # key와 value 쌍 가져오기"
   ]
  },
  {
   "cell_type": "markdown",
   "metadata": {},
   "source": [
    "### dict 다루기"
   ]
  },
  {
   "cell_type": "code",
   "execution_count": null,
   "metadata": {},
   "outputs": [
    {
     "name": "stdout",
     "output_type": "stream",
     "text": [
      "my_dict1 = {'name': 'Max', 'age': 28, 'city': 'New York'}\n",
      "my_dict1 = {'name': 'Max', 'age': 28, 'city': 'New York', 'id': 123}\n"
     ]
    }
   ],
   "source": [
    "# 요소의 추가 \n",
    "print(f'{my_dict1 = }')\n",
    "my_dict1[\"id\"] = 123\n",
    "print(f'{my_dict1 = }')"
   ]
  },
  {
   "cell_type": "code",
   "execution_count": 16,
   "metadata": {},
   "outputs": [
    {
     "name": "stdout",
     "output_type": "stream",
     "text": [
      "my_dict1 = {'name': 'Max', 'age': 28, 'city': 'New York'}\n"
     ]
    }
   ],
   "source": [
    "# 요소의 삭제\n",
    "del my_dict1[\"id\"]\n",
    "print(f'{my_dict1 = }')"
   ]
  },
  {
   "cell_type": "code",
   "execution_count": 17,
   "metadata": {},
   "outputs": [
    {
     "name": "stdout",
     "output_type": "stream",
     "text": [
      "my_dict1 = {'name': 'Max', 'age': 30, 'city': 'New York'}\n"
     ]
    }
   ],
   "source": [
    "# 요소의 value 수정\n",
    "my_dict1[\"age\"] = 30\n",
    "print(f'{my_dict1 = }')"
   ]
  },
  {
   "cell_type": "code",
   "execution_count": null,
   "metadata": {},
   "outputs": [
    {
     "name": "stdout",
     "output_type": "stream",
     "text": [
      "my_dict1 = {'name': 'Max', 'age': 40, 'city': 'New York', 'id': 123, 'occupation': 'Data Scientist'}\n",
      "my_dict1 = {'name': 'Max', 'age': 50, 'city': 'New York', 'id': 123, 'occupation': 'Data Scientist', 'affiliation': 'Hongik Univ.'}\n"
     ]
    }
   ],
   "source": [
    "# update 메소드를 통한 요소의 수정\n",
    "\n",
    "# 여러 요소의 일괄 수정\n",
    "my_dict1.update(age = 40, id = 123, occupation = \"Data Scientist\")\n",
    "print(f'{my_dict1 = }')\n",
    "\n",
    "# 다른 dict의 합성\n",
    "my_dict_more = {\"age\": 50, \"affiliation\": \"Hongik Univ.\"}\n",
    "my_dict1.update(my_dict_more)\n",
    "print(f'{my_dict1 = }')"
   ]
  },
  {
   "cell_type": "code",
   "execution_count": null,
   "metadata": {},
   "outputs": [
    {
     "name": "stdout",
     "output_type": "stream",
     "text": [
      "my_dict1 = {'name': 'Max', 'age': 50, 'city': 'New York', 'id': 123, 'occupation': 'Data Scientist'}\n",
      "my_dict1 = {'name': 'Max', 'age': 50, 'city': 'New York', 'id': 123}\n",
      "occupation = 'Data Scientist'\n",
      "KeyError: 'occupation'\n",
      "occupation = 'unknown'\n"
     ]
    }
   ],
   "source": [
    "# pop 메소드를 통한 요소의 삭제와 저장\n",
    "\n",
    "# 요소의 삭제\n",
    "my_dict1.pop(\"affiliation\") \n",
    "print(f'{my_dict1 = }')\n",
    "\n",
    "# 요소의 삭제와 동시에 저장\n",
    "occupation = my_dict1.pop(\"occupation\") \n",
    "print(f'{my_dict1 = }\\n{occupation = }')\n",
    "\n",
    "# 두번째 인자를 통한 에러 회피\n",
    "try:\n",
    "    my_dict1.pop(\"occupation\")\n",
    "except KeyError as e:\n",
    "    print(f'KeyError: {e}')\n",
    "\n",
    "occupation = my_dict1.pop(\"occupation\", \"unknown\")  # default 값 \"unknown\" 지정\n",
    "print(f'{occupation = }')"
   ]
  },
  {
   "cell_type": "code",
   "execution_count": null,
   "metadata": {},
   "outputs": [
    {
     "name": "stdout",
     "output_type": "stream",
     "text": [
      "my_dict1 = {'name': 'Max', 'age': 50, 'city': 'New York', 'id': 123}\n",
      "my_dict1 = {'name': 'Max', 'age': 50, 'city': 'New York'}\n",
      "last = ('id', 123)\n",
      "my_dict1 = {'name': 'Max', 'age': 50}\n",
      "last = ('city', 'New York')\n"
     ]
    }
   ],
   "source": [
    "# popitem 메소드를 통한 마지막 요소의 삭제\n",
    "print(f'{my_dict1 = }')\n",
    "# dict는 원소간 순서가 없으므로 임의의 요소를 삭제하는 것\n",
    "last = my_dict1.popitem()\n",
    "print(f'{my_dict1 = }\\n{last = }')\n",
    "last = my_dict1.popitem()\n",
    "print(f'{my_dict1 = }\\n{last = }')"
   ]
  },
  {
   "cell_type": "code",
   "execution_count": 27,
   "metadata": {},
   "outputs": [
    {
     "name": "stdout",
     "output_type": "stream",
     "text": [
      "my_dict1 = {}\n"
     ]
    }
   ],
   "source": [
    "# clear 메소드를 통한 모든 요소의 삭제\n",
    "my_dict1.clear()\n",
    "print(f'{my_dict1 = }')"
   ]
  },
  {
   "cell_type": "markdown",
   "metadata": {},
   "source": [
    "### 응용 및 추가학습"
   ]
  },
  {
   "cell_type": "code",
   "execution_count": null,
   "metadata": {},
   "outputs": [
    {
     "name": "stdout",
     "output_type": "stream",
     "text": [
      "x_dict = {'brand': 'Apple', 'model': 'iPhone', 'storage': '64GB'}\n",
      "y_dict = {'brand': 'Apple', 'model': 'iPhone', 'storage': '64GB'}\n"
     ]
    }
   ],
   "source": [
    "# list를 이용한 dict 생성 응용 테스트\n",
    "# 미션: {'brand': 'Apple', 'model': 'iPhone', 'storage': '64GB'} 만들기\n",
    "\n",
    "x_dict = dict([('brand', 'Apple'), ('model', 'iPhone'), ('storage', '64GB')])\n",
    "print(f'{x_dict = }') \n",
    "\n",
    "# zip으로 묶기\n",
    "y_keys = ['brand', 'model', 'storage']\n",
    "y_values = ['Apple', 'iPhone', '64GB']\n",
    "y_dict = dict(zip(y_keys, y_values))\n",
    "print(f'{y_dict = }') "
   ]
  },
  {
   "cell_type": "code",
   "execution_count": 29,
   "metadata": {},
   "outputs": [
    {
     "name": "stdout",
     "output_type": "stream",
     "text": [
      "Apple\n",
      "y_dict.pop(\"serial number\", \"unknown\") = 'unknown'\n"
     ]
    }
   ],
   "source": [
    "# get, pop 메소드 응용 테스트\n",
    "\n",
    "# value 확인과 동시에 저장\n",
    "x = x_dict.get(\"brand\")\n",
    "print(x)\n",
    "# 에러 회피\n",
    "print(f'{y_dict.pop(\"serial number\", \"unknown\") = }')  "
   ]
  },
  {
   "cell_type": "code",
   "execution_count": null,
   "metadata": {},
   "outputs": [
    {
     "name": "stdout",
     "output_type": "stream",
     "text": [
      "{'brand': 'Apple',\n",
      " 'color': ['white', 'pink', 'purple'],\n",
      " 'model': 'iPhone',\n",
      " 'storage': '128GB'}\n"
     ]
    }
   ],
   "source": [
    "# update 메소드 응용 테스트\n",
    "x_dict_more = {'storage': \"128GB\", 'color': [\"white\", \"pink\", \"purple\"]}\n",
    "x_dict.update(x_dict_more)\n",
    "\n",
    "from pprint import pprint\n",
    "pprint(x_dict)"
   ]
  }
 ],
 "metadata": {
  "kernelspec": {
   "display_name": "base",
   "language": "python",
   "name": "python3"
  },
  "language_info": {
   "codemirror_mode": {
    "name": "ipython",
    "version": 3
   },
   "file_extension": ".py",
   "mimetype": "text/x-python",
   "name": "python",
   "nbconvert_exporter": "python",
   "pygments_lexer": "ipython3",
   "version": "3.12.9"
  }
 },
 "nbformat": 4,
 "nbformat_minor": 2
}
